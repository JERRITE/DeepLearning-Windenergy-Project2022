{
  "nbformat": 4,
  "nbformat_minor": 0,
  "metadata": {
    "colab": {
      "provenance": [],
      "collapsed_sections": [
        "WgzX2fmdeisk",
        "eoaqEaef-GHh",
        "tuzpdReLs5dM",
        "tyUsDRule0kY",
        "M4lowsCau3LG",
        "vfJA2UQpx0VM"
      ]
    },
    "kernelspec": {
      "name": "python3",
      "display_name": "Python 3"
    },
    "language_info": {
      "name": "python"
    },
    "gpuClass": "standard"
  },
  "cells": [
    {
      "cell_type": "code",
      "execution_count": null,
      "metadata": {
        "id": "PfDRTEj5xM02"
      },
      "outputs": [],
      "source": [
        "import numpy as np\n",
        "import pandas as pd\n",
        "import matplotlib.pyplot as plt\n",
        "import random\n",
        "import seaborn as sns\n",
        "\n",
        "from numpy import array as arr\n",
        "\n",
        "import torch\n",
        "import torch.nn as nn\n",
        "import torch.nn.functional as F\n",
        "\n",
        "from sklearn.model_selection import KFold\n",
        "from torch.utils.data import ConcatDataset, DataLoader, Dataset, TensorDataset, random_split, SubsetRandomSampler\n",
        "from sklearn.model_selection import train_test_split"
      ]
    },
    {
      "cell_type": "code",
      "source": [
        "from google.colab import drive\n",
        "drive.mount('/content/drive')\n",
        "drive_path = 'drive/My Drive/Colab Notebooks/2456_wind_project/data/'"
      ],
      "metadata": {
        "colab": {
          "base_uri": "https://localhost:8080/"
        },
        "id": "w4f1GOXyxavs",
        "outputId": "f4339fad-9f4b-4131-bef0-0fbb4346be86"
      },
      "execution_count": null,
      "outputs": [
        {
          "output_type": "stream",
          "name": "stdout",
          "text": [
            "Drive already mounted at /content/drive; to attempt to forcibly remount, call drive.mount(\"/content/drive\", force_remount=True).\n"
          ]
        }
      ]
    },
    {
      "cell_type": "code",
      "source": [
        "df_train = pd.read_csv(drive_path + \"train.csv\")\n",
        "# df_test = pd.read_csv(drive_path + \"train.csv\")"
      ],
      "metadata": {
        "id": "ZYkhF88AxpRE"
      },
      "execution_count": null,
      "outputs": []
    },
    {
      "cell_type": "code",
      "source": [
        "df_plant_1 = pd.read_csv(drive_path + \"windforecasts_wf1.csv\")\n",
        "# df_plant_2 = pd.read_csv(drive_path + \"windforecasts_wf2.csv\")\n",
        "# df_plant_3 = pd.read_csv(drive_path + \"windforecasts_wf3.csv\")\n",
        "# df_plant_4 = pd.read_csv(drive_path + \"windforecasts_wf4.csv\")\n",
        "# df_plant_5 = pd.read_csv(drive_path + \"windforecasts_wf5.csv\")\n",
        "# df_plant_6 = pd.read_csv(drive_path + \"windforecasts_wf6.csv\")\n",
        "# df_plant_7 = pd.read_csv(drive_path + \"windforecasts_wf7.csv\")"
      ],
      "metadata": {
        "id": "dbLSgnnDyLz2"
      },
      "execution_count": null,
      "outputs": []
    },
    {
      "cell_type": "code",
      "source": [
        "# wind power measurments - from the original dataset solutions !!!"
      ],
      "metadata": {
        "id": "Zr6yPcXxeeJy"
      },
      "execution_count": null,
      "outputs": []
    },
    {
      "cell_type": "code",
      "source": [
        "# df_1_processed = pd.read_csv(drive_path + 'wp1_extracted_forecast.csv', index_col = 0)"
      ],
      "metadata": {
        "id": "SyfyHUDSAmBX"
      },
      "execution_count": null,
      "outputs": []
    },
    {
      "cell_type": "markdown",
      "source": [
        "# Hidden stuff"
      ],
      "metadata": {
        "id": "lf2f2c5KXYl4"
      }
    },
    {
      "cell_type": "markdown",
      "source": [
        "## examining the data"
      ],
      "metadata": {
        "id": "h79rEcoiz5mc"
      }
    },
    {
      "cell_type": "code",
      "source": [
        "data_string = \"2009070112\"\n",
        "pd.to_datetime(data_string, format='%Y%m%d%H')"
      ],
      "metadata": {
        "colab": {
          "base_uri": "https://localhost:8080/"
        },
        "id": "Zq9vCtxYU_Dy",
        "outputId": "84faedea-a25b-4025-f60f-5d908774a483"
      },
      "execution_count": null,
      "outputs": [
        {
          "output_type": "execute_result",
          "data": {
            "text/plain": [
              "Timestamp('2009-07-01 12:00:00')"
            ]
          },
          "metadata": {},
          "execution_count": 159
        }
      ]
    },
    {
      "cell_type": "code",
      "source": [
        "df_working = df_plant_1\n",
        "df_working[\"date\"] = pd.to_datetime(df_working[\"date\"], format='%Y%m%d%H')\n",
        "df_working = df_working.set_index(\"date\")\n",
        "df_working = df_working.rename(columns = {\"hors\": \"hours\"}).rename_axis(None)"
      ],
      "metadata": {
        "id": "0JA6bvwmVw7E"
      },
      "execution_count": null,
      "outputs": []
    },
    {
      "cell_type": "code",
      "source": [
        "END_DATE = pd.to_datetime(\"2011-01-01-00\")\n",
        "HOURS_OF_INTEREST = np.arange(1, 13, 1)\n",
        "data_range_included_explanatory_variables = pd.date_range(\n",
        "    start = df_working.index[0], end = END_DATE, freq='12h')\n",
        "df_working = df_working \\\n",
        "    .loc[df_working.index.isin(data_range_included_explanatory_variables)]"
      ],
      "metadata": {
        "id": "7pKMfOBHY9uT"
      },
      "execution_count": null,
      "outputs": []
    },
    {
      "cell_type": "code",
      "source": [
        "x_toy = np.hstack((np.repeat(1, 48), np.repeat(2, 48), np.repeat(3, 48), np.repeat(4, 48)))\n",
        "addition = 1\n",
        "index_forecasted_weather = np.hstack(np.repeat(x_toy[None, :], df_working.shape[0] / (48*4) + addition, axis = 0))\n",
        "index_forecasted_weather = index_forecasted_weather[0: df_working.shape[0]]\n",
        "df_working.loc[:, \"index_forecasted_weather\"] = index_forecasted_weather"
      ],
      "metadata": {
        "id": "U3SCFnXbZyhn"
      },
      "execution_count": null,
      "outputs": []
    },
    {
      "cell_type": "code",
      "source": [
        "index_to_be_incremented = df_working.index\n",
        "new_index = list()\n",
        "index_shape = index_to_be_incremented.shape[0]\n",
        "for addition, i in zip(df_working.hours.to_numpy(), range(index_shape)):\n",
        "    new_index.append(index_to_be_incremented[i] + pd.Timedelta(hours = addition))\n",
        "new_index = pd.to_datetime(new_index)"
      ],
      "metadata": {
        "id": "5IDv6YgycBW_"
      },
      "execution_count": null,
      "outputs": []
    },
    {
      "cell_type": "code",
      "source": [
        "df_working.index = new_index"
      ],
      "metadata": {
        "id": "upeaPKCHnDKG"
      },
      "execution_count": null,
      "outputs": []
    },
    {
      "cell_type": "code",
      "source": [
        "df_working_ws = df_working.loc[:, [\"hours\", \"ws\", \"index_forecasted_weather\"]]\n",
        "df_working_wd = df_working.loc[:, [\"hours\", \"wd\", \"index_forecasted_weather\"]]\n",
        "\n",
        "pivoted_ws = df_working_ws.reset_index().pivot(index=\"index\", columns=\"index_forecasted_weather\",\n",
        "                              values=\"ws\").rename(columns = {1: \"ws_1\", 2: \"ws_2\", 3: \"ws_3\", 4: \"ws_4\"})\n",
        "pivoted_wd = df_working_wd.reset_index().pivot(index=\"index\", columns=\"index_forecasted_weather\",\n",
        "                              values=\"wd\").rename(columns = {1: \"wd_1\", 2: \"wd_2\", 3: \"wd_3\", 4: \"wd_4\"})\n",
        "\n",
        "result = pivoted_ws.merge(pivoted_wd, how='inner', on='index').rename_axis(None, axis = 1).rename_axis(None)\\\n",
        "    .assign(\n",
        "        wd_sin_1 = lambda df: np.sin(df.wd_1 * (2*np.pi / 360)),\n",
        "        wd_cos_1 = lambda df: np.cos(df.wd_1 * (2*np.pi / 360)),\n",
        "        wd_sin_2 = lambda df: np.sin(df.wd_2 * (2*np.pi / 360)),\n",
        "        wd_cos_2 = lambda df: np.cos(df.wd_2 * (2*np.pi / 360)),\n",
        "        wd_sin_3 = lambda df: np.sin(df.wd_3 * (2*np.pi / 360)),\n",
        "        wd_cos_3 = lambda df: np.cos(df.wd_3 * (2*np.pi / 360)),\n",
        "        wd_sin_4 = lambda df: np.sin(df.wd_4 * (2*np.pi / 360)),\n",
        "        wd_cos_4 = lambda df: np.cos(df.wd_4 * (2*np.pi / 360)),\n",
        "    ).drop(columns = [\"wd_1\", \"wd_2\", \"wd_3\", \"wd_4\"])\n",
        "# result.head()"
      ],
      "metadata": {
        "id": "S13B55WidzHr"
      },
      "execution_count": null,
      "outputs": []
    },
    {
      "cell_type": "markdown",
      "source": [
        "### Adding the observed power to the result data frame"
      ],
      "metadata": {
        "id": "BXwnmuX63McK"
      }
    },
    {
      "cell_type": "code",
      "source": [
        "df_working_train = df_train\n",
        "df_working_train[\"date\"] = pd.to_datetime(df_working_train[\"date\"], format='%Y%m%d%H')\n",
        "df_working_train = df_working_train.set_index(\"date\")\n",
        "df_working_train = df_working_train.rename_axis(None)"
      ],
      "metadata": {
        "id": "Z1cAonDV3cjM"
      },
      "execution_count": null,
      "outputs": []
    },
    {
      "cell_type": "code",
      "source": [
        "df_working_train.shape"
      ],
      "metadata": {
        "colab": {
          "base_uri": "https://localhost:8080/"
        },
        "id": "Tk7fyQmX32L_",
        "outputId": "638ad2aa-5716-428e-9160-f8313e8a7d7a"
      },
      "execution_count": null,
      "outputs": [
        {
          "output_type": "execute_result",
          "data": {
            "text/plain": [
              "(18757, 7)"
            ]
          },
          "metadata": {},
          "execution_count": 113
        }
      ]
    },
    {
      "cell_type": "code",
      "source": [
        "END_DATE_TRAIN = pd.to_datetime(\"2011-01-01-00\")\n",
        "data_range_included_response_variables = pd.date_range(\n",
        "    start = df_working_train.index[0], end = END_DATE_TRAIN, freq='1h')\n",
        "df_train_processed = df_working_train\\\n",
        "    .loc[df_working_train.index.isin(data_range_included_response_variables)]\n",
        "df_train_processed.drop(df_train_processed.head(1).index, inplace=True)"
      ],
      "metadata": {
        "colab": {
          "base_uri": "https://localhost:8080/"
        },
        "id": "ItfsIg_k30Hl",
        "outputId": "b59c8cb7-f3c3-484a-f7e9-6360450dde81"
      },
      "execution_count": null,
      "outputs": [
        {
          "output_type": "stream",
          "name": "stderr",
          "text": [
            "/usr/local/lib/python3.8/dist-packages/pandas/core/frame.py:4906: SettingWithCopyWarning: \n",
            "A value is trying to be set on a copy of a slice from a DataFrame\n",
            "\n",
            "See the caveats in the documentation: https://pandas.pydata.org/pandas-docs/stable/user_guide/indexing.html#returning-a-view-versus-a-copy\n",
            "  return super().drop(\n"
          ]
        }
      ]
    },
    {
      "cell_type": "markdown",
      "source": [
        "## Plotting wind speed for different predicitons"
      ],
      "metadata": {
        "id": "8orR8zzhqDuo"
      }
    },
    {
      "cell_type": "code",
      "source": [
        "# result[\"wp1\"] = df_train_processed.loc[:, \"wp1\"]\n",
        "# result = result.iloc[0:df_train_processed.shape[0], :]"
      ],
      "metadata": {
        "id": "j08ZOUqv4ZbD"
      },
      "execution_count": null,
      "outputs": []
    },
    {
      "cell_type": "code",
      "source": [
        "start_1 = 0\n",
        "start_2 = 12\n",
        "start_3 = 24\n",
        "start_4 = 36\n",
        "\n",
        "# TO DO: ADD JUMPS AUTOMIATICALLY\n",
        "# HOWEVER, THE POINT IS CLEAR\n",
        "# xcoords = [0.22058956, 0.33088437, 2.20589566]\n",
        "# for xc in xcoords:\n",
        "#     plt.axvline(x=xc)\n",
        "\n",
        "PERIOD = 48\n",
        "def print_stuff(input):\n",
        "    start = input\n",
        "    end  = start + 2\n",
        "    result_plotting = result.iloc[PERIOD*start: PERIOD*end, :]\n",
        "    # sns.set_theme(style=None)\n",
        "    colors = [\"red\", \"green\", \"blue\", \"orange\"]\n",
        "\n",
        "    fix, (ax1, ax2, ax3) = plt.subplots(1, 3, figsize = (20, 6))\n",
        "    ax1.plot(result_plotting.index, result_plotting.ws_1, label = \"ws_1\", color = colors[0])\n",
        "    ax1.plot(result_plotting.index, result_plotting.ws_2, label = \"ws_2\", color = colors[1])\n",
        "    ax1.plot(result_plotting.index, result_plotting.ws_3, label = \"ws_3\", color = colors[2])\n",
        "    ax1.plot(result_plotting.index, result_plotting.ws_4, label = \"ws_4\", color = colors[3])\n",
        "    ax1.legend()\n",
        "    ax1.tick_params(axis = \"x\", labelrotation=45)\n",
        "    # for i in range():\n",
        "    # ax1.axvline(x = result.index[start_1], color = colors[0])\n",
        "    # ax1.axvline(x = result.index[start_2], color = colors[1])\n",
        "    # ax1.axvline(x = result.index[start_3], color = colors[2])\n",
        "    # ax1.axvline(x = result.index[start_4], color = colors[3])\n",
        "\n",
        "    ax2.plot(result_plotting.index, result_plotting.wd_sin_1, label = \"wd_sin_1\", color = colors[0])\n",
        "    ax2.plot(result_plotting.index, result_plotting.wd_sin_2, label = \"wd_sin_2\", color = colors[1])\n",
        "    ax2.plot(result_plotting.index, result_plotting.wd_sin_3, label = \"wd_sin_3\", color = colors[2])\n",
        "    ax2.plot(result_plotting.index, result_plotting.wd_sin_4, label = \"wd_sin_4\", color = colors[3])\n",
        "    ax2.legend()\n",
        "    ax2.tick_params(axis = \"x\", labelrotation=45)\n",
        "\n",
        "    ax3.plot(result_plotting.index, result_plotting.wd_cos_1, label = \"wd_cos_1\", color = colors[0])\n",
        "    ax3.plot(result_plotting.index, result_plotting.wd_cos_2, label = \"wd_cos_2\", color = colors[1])\n",
        "    ax3.plot(result_plotting.index, result_plotting.wd_cos_3, label = \"wd_cos_3\", color = colors[2])\n",
        "    ax3.plot(result_plotting.index, result_plotting.wd_cos_4, label = \"wd_cos_4\", color = colors[3])\n",
        "    ax3.legend()\n",
        "    ax3.tick_params(axis = \"x\", labelrotation=45)\n",
        "    plt.show();"
      ],
      "metadata": {
        "id": "9PLc5p1mmmfn"
      },
      "execution_count": null,
      "outputs": []
    },
    {
      "cell_type": "code",
      "source": [
        "# for i in range(0, 10, 1):\n",
        "#     print_stuff(i*20)"
      ],
      "metadata": {
        "id": "Qx5iJhSm0Fo7"
      },
      "execution_count": null,
      "outputs": []
    },
    {
      "cell_type": "markdown",
      "source": [
        "## Previous preprocessing"
      ],
      "metadata": {
        "id": "AQJkn98eBRp8"
      }
    },
    {
      "cell_type": "code",
      "source": [
        "# def preprocessing_stage_1(df_plant_input):\n",
        "#     def seperate_dates(df_input):\n",
        "#         newdate_train = []\n",
        "#         for i_date in range(len(df_input.date)):\n",
        "#             datestr = str(df_input['date'][i_date])\n",
        "#             date_form = datestr[:4]+'-'+ datestr[4:6]+'-'+ datestr[6:8] + '-' + datestr[8:10]\n",
        "#             newdate_train.append(pd.to_datetime(date_form))\n",
        "\n",
        "#         df_input['Date'] = newdate_train\n",
        "#         df_input = df_input.set_index('Date')\n",
        "#         return df_input\n",
        "\n",
        "#     df_wind_farm_ = seperate_dates(df_plant_input)\n",
        "#     df_train_ = seperate_dates(df_train)\n",
        "#     df_wind_farm_ = df_wind_farm_.rename(columns = {\"hors\": \"hours\"})\n",
        "\n",
        "#     END_DATE = pd.to_datetime(\"2010-12-31-12\")\n",
        "#     HOURS_OF_INTEREST = np.arange(1, 13, 1)\n",
        "#     data_range_included_explanatory_variables = pd.date_range(\n",
        "#         start = df_wind_farm_.index[0], end = END_DATE, freq='12h')\n",
        "#     df_wind_farm_processed = df_wind_farm_ \\\n",
        "#         .loc[df_wind_farm_.index.isin(data_range_included_explanatory_variables)]\\\n",
        "#         .loc[lambda df: df.hours.isin(HOURS_OF_INTEREST)]\n",
        "\n",
        "#     index_to_be_incremented = df_wind_farm_processed.index\n",
        "#     new_index = list()\n",
        "#     index_shape = index_to_be_incremented.shape[0]\n",
        "#     for addition, i in zip(df_wind_farm_processed.hours.to_numpy(), range(index_shape)):\n",
        "#         new_index.append(index_to_be_incremented[i] + pd.Timedelta(hours = addition))\n",
        "#     new_index = pd.to_datetime(new_index)\n",
        "\n",
        "#     df_wind_farm_processed.index = new_index\n",
        "#     df_wind_farm_processed = df_wind_farm_processed.drop(columns = [\"date\", \"hours\"])\n",
        "#     df_wind_farm_processed.drop(df_wind_farm_processed.tail(1).index, inplace=True)\n",
        "\n",
        "#     END_DATE_TRAIN = pd.to_datetime(\"2010-12-31-23\")\n",
        "#     data_range_included_response_variables = pd.date_range(\n",
        "#         start = df_train_.index[0], end = END_DATE_TRAIN, freq='1h')\n",
        "#     df_train_processed = df_train_\\\n",
        "#         .loc[df_train_.index.isin(data_range_included_response_variables)]\n",
        "#     df_train_processed.drop(df_train_processed.head(1).index, inplace=True)\n",
        "\n",
        "#     df_wind_farm_processed[\"wp1\"] = df_train_processed.wp1\n",
        "\n",
        "#     return df_wind_farm_processed"
      ],
      "metadata": {
        "id": "fCoZqlA4zdqG"
      },
      "execution_count": null,
      "outputs": []
    },
    {
      "cell_type": "code",
      "source": [
        "# def preprocessing_stage_2(df_preprocessed_farm):\n",
        "#     df_preprocessed_farm_output = df_preprocessed_farm.assign(ws_sqrt = lambda df: np.sqrt(df_preprocessed_farm.ws),\n",
        "#                                                wd_sin = lambda df: np.sin(df_preprocessed_farm.wd * (2*np.pi / 360)),\n",
        "#                                                wd_cos = lambda df: np.cos(df_preprocessed_farm.wd * (2*np.pi / 360)),\n",
        "#                                                ).drop(columns = [\"u\", \"v\", \"wd\"])\n",
        "#     return df_preprocessed_farm_output"
      ],
      "metadata": {
        "id": "CF5L0-BU8pH-"
      },
      "execution_count": null,
      "outputs": []
    },
    {
      "cell_type": "code",
      "source": [
        "# def preprocessing(df_farm_input):\n",
        "#     df_preprocessed_farm = preprocessing_stage_1(df_farm_input)\n",
        "#     df_preprocessed_ouput = preprocessing_stage_2(df_preprocessed_farm)"
      ],
      "metadata": {
        "id": "tAR21xWI83TV"
      },
      "execution_count": null,
      "outputs": []
    },
    {
      "cell_type": "code",
      "source": [
        "# df_1_processed = preprocessing_stage_1(df_plant_1)\n",
        "# df_2_processed = preprocessing_stage_1(df_plant_2)"
      ],
      "metadata": {
        "id": "kN_Yi1i37gr3"
      },
      "execution_count": null,
      "outputs": []
    },
    {
      "cell_type": "code",
      "source": [
        "# df_1_processed = preprocessing_stage_2(df_1_processed)\n",
        "# df_2_processed = preprocessing_stage_2(df_2_processed)"
      ],
      "metadata": {
        "id": "lD7DldC-9KR3"
      },
      "execution_count": null,
      "outputs": []
    },
    {
      "cell_type": "code",
      "source": [
        "# df_1_processed.to_csv(drive_path + 'wp1_extracted_forecast.csv')\n",
        "# df_2_processed.to_csv(drive_path + 'wp2_extracted_forecast.csv')"
      ],
      "metadata": {
        "id": "yEFs69Az7cJX"
      },
      "execution_count": null,
      "outputs": []
    },
    {
      "cell_type": "code",
      "source": [
        "df_1_processed = pd.read_csv(drive_path + 'wp1_extracted_forecast.csv', index_col = 0)\n",
        "df_2_processed = pd.read_csv(drive_path + 'wp2_extracted_forecast.csv', index_col = 0)\n",
        "df_1_processed_final = pd.read_csv(drive_path + 'df_plant_1_processed_final.csv', index_col = 0)"
      ],
      "metadata": {
        "id": "Xq3g0D6ftxrw"
      },
      "execution_count": null,
      "outputs": []
    },
    {
      "cell_type": "code",
      "source": [
        "df_1_processed.shape"
      ],
      "metadata": {
        "colab": {
          "base_uri": "https://localhost:8080/"
        },
        "id": "4hETi97Xt0jX",
        "outputId": "0c9b6d2a-bdcb-43cc-f131-8d2d101a4b12"
      },
      "execution_count": null,
      "outputs": [
        {
          "output_type": "execute_result",
          "data": {
            "text/plain": [
              "(13175, 5)"
            ]
          },
          "metadata": {},
          "execution_count": 36
        }
      ]
    },
    {
      "cell_type": "code",
      "source": [
        "df_1_processed_final"
      ],
      "metadata": {
        "colab": {
          "base_uri": "https://localhost:8080/",
          "height": 424
        },
        "id": "Yg0OpSCtuoy0",
        "outputId": "60a07ec4-9e5a-4b5a-d7e4-673f51af7e69"
      },
      "execution_count": null,
      "outputs": [
        {
          "output_type": "execute_result",
          "data": {
            "text/plain": [
              "                     hours     u     v    ws    wd_sin    wd_cos  \\\n",
              "2009-07-01 01:00:00      1  2.34 -0.79  2.47  0.947322 -0.320282   \n",
              "2009-07-01 02:00:00      2  2.18 -0.99  2.40  0.911331 -0.411673   \n",
              "2009-07-01 03:00:00      3  2.20 -1.21  2.51  0.877062 -0.480377   \n",
              "2009-07-01 04:00:00      4  2.35 -1.40  2.73  0.858423 -0.512942   \n",
              "2009-07-01 05:00:00      5  2.53 -1.47  2.93  0.864889 -0.501964   \n",
              "...                    ...   ...   ...   ...       ...       ...   \n",
              "2010-12-31 20:00:00     44  2.66  4.18  4.95  0.537300  0.843391   \n",
              "2010-12-31 21:00:00     45  2.56  3.99  4.74  0.540387  0.841416   \n",
              "2010-12-31 22:00:00     46  2.74  4.13  4.96  0.553101  0.833114   \n",
              "2010-12-31 23:00:00     47  3.04  4.46  5.40  0.563238  0.826295   \n",
              "2011-01-01 00:00:00     48  3.20  4.72  5.70  0.561650  0.827375   \n",
              "\n",
              "                        month_sin  month_cos    wp1  index_forecasted_weather  \n",
              "2009-07-01 01:00:00  1.224647e-16  -1.000000  0.085                         1  \n",
              "2009-07-01 02:00:00  1.224647e-16  -1.000000  0.020                         1  \n",
              "2009-07-01 03:00:00  1.224647e-16  -1.000000  0.060                         1  \n",
              "2009-07-01 04:00:00  1.224647e-16  -1.000000  0.045                         1  \n",
              "2009-07-01 05:00:00  1.224647e-16  -1.000000  0.035                         1  \n",
              "...                           ...        ...    ...                       ...  \n",
              "2010-12-31 20:00:00 -5.000000e-01   0.866025  0.536                         3  \n",
              "2010-12-31 21:00:00 -5.000000e-01   0.866025  0.662                         3  \n",
              "2010-12-31 22:00:00 -5.000000e-01   0.866025  0.817                         3  \n",
              "2010-12-31 23:00:00 -5.000000e-01   0.866025  0.677                         3  \n",
              "2011-01-01 00:00:00  0.000000e+00   1.000000  0.551                         3  \n",
              "\n",
              "[52560 rows x 10 columns]"
            ],
            "text/html": [
              "\n",
              "  <div id=\"df-64c5243d-62c8-4774-8dd6-4bd229940db9\">\n",
              "    <div class=\"colab-df-container\">\n",
              "      <div>\n",
              "<style scoped>\n",
              "    .dataframe tbody tr th:only-of-type {\n",
              "        vertical-align: middle;\n",
              "    }\n",
              "\n",
              "    .dataframe tbody tr th {\n",
              "        vertical-align: top;\n",
              "    }\n",
              "\n",
              "    .dataframe thead th {\n",
              "        text-align: right;\n",
              "    }\n",
              "</style>\n",
              "<table border=\"1\" class=\"dataframe\">\n",
              "  <thead>\n",
              "    <tr style=\"text-align: right;\">\n",
              "      <th></th>\n",
              "      <th>hours</th>\n",
              "      <th>u</th>\n",
              "      <th>v</th>\n",
              "      <th>ws</th>\n",
              "      <th>wd_sin</th>\n",
              "      <th>wd_cos</th>\n",
              "      <th>month_sin</th>\n",
              "      <th>month_cos</th>\n",
              "      <th>wp1</th>\n",
              "      <th>index_forecasted_weather</th>\n",
              "    </tr>\n",
              "  </thead>\n",
              "  <tbody>\n",
              "    <tr>\n",
              "      <th>2009-07-01 01:00:00</th>\n",
              "      <td>1</td>\n",
              "      <td>2.34</td>\n",
              "      <td>-0.79</td>\n",
              "      <td>2.47</td>\n",
              "      <td>0.947322</td>\n",
              "      <td>-0.320282</td>\n",
              "      <td>1.224647e-16</td>\n",
              "      <td>-1.000000</td>\n",
              "      <td>0.085</td>\n",
              "      <td>1</td>\n",
              "    </tr>\n",
              "    <tr>\n",
              "      <th>2009-07-01 02:00:00</th>\n",
              "      <td>2</td>\n",
              "      <td>2.18</td>\n",
              "      <td>-0.99</td>\n",
              "      <td>2.40</td>\n",
              "      <td>0.911331</td>\n",
              "      <td>-0.411673</td>\n",
              "      <td>1.224647e-16</td>\n",
              "      <td>-1.000000</td>\n",
              "      <td>0.020</td>\n",
              "      <td>1</td>\n",
              "    </tr>\n",
              "    <tr>\n",
              "      <th>2009-07-01 03:00:00</th>\n",
              "      <td>3</td>\n",
              "      <td>2.20</td>\n",
              "      <td>-1.21</td>\n",
              "      <td>2.51</td>\n",
              "      <td>0.877062</td>\n",
              "      <td>-0.480377</td>\n",
              "      <td>1.224647e-16</td>\n",
              "      <td>-1.000000</td>\n",
              "      <td>0.060</td>\n",
              "      <td>1</td>\n",
              "    </tr>\n",
              "    <tr>\n",
              "      <th>2009-07-01 04:00:00</th>\n",
              "      <td>4</td>\n",
              "      <td>2.35</td>\n",
              "      <td>-1.40</td>\n",
              "      <td>2.73</td>\n",
              "      <td>0.858423</td>\n",
              "      <td>-0.512942</td>\n",
              "      <td>1.224647e-16</td>\n",
              "      <td>-1.000000</td>\n",
              "      <td>0.045</td>\n",
              "      <td>1</td>\n",
              "    </tr>\n",
              "    <tr>\n",
              "      <th>2009-07-01 05:00:00</th>\n",
              "      <td>5</td>\n",
              "      <td>2.53</td>\n",
              "      <td>-1.47</td>\n",
              "      <td>2.93</td>\n",
              "      <td>0.864889</td>\n",
              "      <td>-0.501964</td>\n",
              "      <td>1.224647e-16</td>\n",
              "      <td>-1.000000</td>\n",
              "      <td>0.035</td>\n",
              "      <td>1</td>\n",
              "    </tr>\n",
              "    <tr>\n",
              "      <th>...</th>\n",
              "      <td>...</td>\n",
              "      <td>...</td>\n",
              "      <td>...</td>\n",
              "      <td>...</td>\n",
              "      <td>...</td>\n",
              "      <td>...</td>\n",
              "      <td>...</td>\n",
              "      <td>...</td>\n",
              "      <td>...</td>\n",
              "      <td>...</td>\n",
              "    </tr>\n",
              "    <tr>\n",
              "      <th>2010-12-31 20:00:00</th>\n",
              "      <td>44</td>\n",
              "      <td>2.66</td>\n",
              "      <td>4.18</td>\n",
              "      <td>4.95</td>\n",
              "      <td>0.537300</td>\n",
              "      <td>0.843391</td>\n",
              "      <td>-5.000000e-01</td>\n",
              "      <td>0.866025</td>\n",
              "      <td>0.536</td>\n",
              "      <td>3</td>\n",
              "    </tr>\n",
              "    <tr>\n",
              "      <th>2010-12-31 21:00:00</th>\n",
              "      <td>45</td>\n",
              "      <td>2.56</td>\n",
              "      <td>3.99</td>\n",
              "      <td>4.74</td>\n",
              "      <td>0.540387</td>\n",
              "      <td>0.841416</td>\n",
              "      <td>-5.000000e-01</td>\n",
              "      <td>0.866025</td>\n",
              "      <td>0.662</td>\n",
              "      <td>3</td>\n",
              "    </tr>\n",
              "    <tr>\n",
              "      <th>2010-12-31 22:00:00</th>\n",
              "      <td>46</td>\n",
              "      <td>2.74</td>\n",
              "      <td>4.13</td>\n",
              "      <td>4.96</td>\n",
              "      <td>0.553101</td>\n",
              "      <td>0.833114</td>\n",
              "      <td>-5.000000e-01</td>\n",
              "      <td>0.866025</td>\n",
              "      <td>0.817</td>\n",
              "      <td>3</td>\n",
              "    </tr>\n",
              "    <tr>\n",
              "      <th>2010-12-31 23:00:00</th>\n",
              "      <td>47</td>\n",
              "      <td>3.04</td>\n",
              "      <td>4.46</td>\n",
              "      <td>5.40</td>\n",
              "      <td>0.563238</td>\n",
              "      <td>0.826295</td>\n",
              "      <td>-5.000000e-01</td>\n",
              "      <td>0.866025</td>\n",
              "      <td>0.677</td>\n",
              "      <td>3</td>\n",
              "    </tr>\n",
              "    <tr>\n",
              "      <th>2011-01-01 00:00:00</th>\n",
              "      <td>48</td>\n",
              "      <td>3.20</td>\n",
              "      <td>4.72</td>\n",
              "      <td>5.70</td>\n",
              "      <td>0.561650</td>\n",
              "      <td>0.827375</td>\n",
              "      <td>0.000000e+00</td>\n",
              "      <td>1.000000</td>\n",
              "      <td>0.551</td>\n",
              "      <td>3</td>\n",
              "    </tr>\n",
              "  </tbody>\n",
              "</table>\n",
              "<p>52560 rows × 10 columns</p>\n",
              "</div>\n",
              "      <button class=\"colab-df-convert\" onclick=\"convertToInteractive('df-64c5243d-62c8-4774-8dd6-4bd229940db9')\"\n",
              "              title=\"Convert this dataframe to an interactive table.\"\n",
              "              style=\"display:none;\">\n",
              "        \n",
              "  <svg xmlns=\"http://www.w3.org/2000/svg\" height=\"24px\"viewBox=\"0 0 24 24\"\n",
              "       width=\"24px\">\n",
              "    <path d=\"M0 0h24v24H0V0z\" fill=\"none\"/>\n",
              "    <path d=\"M18.56 5.44l.94 2.06.94-2.06 2.06-.94-2.06-.94-.94-2.06-.94 2.06-2.06.94zm-11 1L8.5 8.5l.94-2.06 2.06-.94-2.06-.94L8.5 2.5l-.94 2.06-2.06.94zm10 10l.94 2.06.94-2.06 2.06-.94-2.06-.94-.94-2.06-.94 2.06-2.06.94z\"/><path d=\"M17.41 7.96l-1.37-1.37c-.4-.4-.92-.59-1.43-.59-.52 0-1.04.2-1.43.59L10.3 9.45l-7.72 7.72c-.78.78-.78 2.05 0 2.83L4 21.41c.39.39.9.59 1.41.59.51 0 1.02-.2 1.41-.59l7.78-7.78 2.81-2.81c.8-.78.8-2.07 0-2.86zM5.41 20L4 18.59l7.72-7.72 1.47 1.35L5.41 20z\"/>\n",
              "  </svg>\n",
              "      </button>\n",
              "      \n",
              "  <style>\n",
              "    .colab-df-container {\n",
              "      display:flex;\n",
              "      flex-wrap:wrap;\n",
              "      gap: 12px;\n",
              "    }\n",
              "\n",
              "    .colab-df-convert {\n",
              "      background-color: #E8F0FE;\n",
              "      border: none;\n",
              "      border-radius: 50%;\n",
              "      cursor: pointer;\n",
              "      display: none;\n",
              "      fill: #1967D2;\n",
              "      height: 32px;\n",
              "      padding: 0 0 0 0;\n",
              "      width: 32px;\n",
              "    }\n",
              "\n",
              "    .colab-df-convert:hover {\n",
              "      background-color: #E2EBFA;\n",
              "      box-shadow: 0px 1px 2px rgba(60, 64, 67, 0.3), 0px 1px 3px 1px rgba(60, 64, 67, 0.15);\n",
              "      fill: #174EA6;\n",
              "    }\n",
              "\n",
              "    [theme=dark] .colab-df-convert {\n",
              "      background-color: #3B4455;\n",
              "      fill: #D2E3FC;\n",
              "    }\n",
              "\n",
              "    [theme=dark] .colab-df-convert:hover {\n",
              "      background-color: #434B5C;\n",
              "      box-shadow: 0px 1px 3px 1px rgba(0, 0, 0, 0.15);\n",
              "      filter: drop-shadow(0px 1px 2px rgba(0, 0, 0, 0.3));\n",
              "      fill: #FFFFFF;\n",
              "    }\n",
              "  </style>\n",
              "\n",
              "      <script>\n",
              "        const buttonEl =\n",
              "          document.querySelector('#df-64c5243d-62c8-4774-8dd6-4bd229940db9 button.colab-df-convert');\n",
              "        buttonEl.style.display =\n",
              "          google.colab.kernel.accessAllowed ? 'block' : 'none';\n",
              "\n",
              "        async function convertToInteractive(key) {\n",
              "          const element = document.querySelector('#df-64c5243d-62c8-4774-8dd6-4bd229940db9');\n",
              "          const dataTable =\n",
              "            await google.colab.kernel.invokeFunction('convertToInteractive',\n",
              "                                                     [key], {});\n",
              "          if (!dataTable) return;\n",
              "\n",
              "          const docLinkHtml = 'Like what you see? Visit the ' +\n",
              "            '<a target=\"_blank\" href=https://colab.research.google.com/notebooks/data_table.ipynb>data table notebook</a>'\n",
              "            + ' to learn more about interactive tables.';\n",
              "          element.innerHTML = '';\n",
              "          dataTable['output_type'] = 'display_data';\n",
              "          await google.colab.output.renderOutput(dataTable, element);\n",
              "          const docLink = document.createElement('div');\n",
              "          docLink.innerHTML = docLinkHtml;\n",
              "          element.appendChild(docLink);\n",
              "        }\n",
              "      </script>\n",
              "    </div>\n",
              "  </div>\n",
              "  "
            ]
          },
          "metadata": {},
          "execution_count": 37
        }
      ]
    },
    {
      "cell_type": "markdown",
      "source": [
        "## EDA"
      ],
      "metadata": {
        "id": "tGx8isZV46xS"
      }
    },
    {
      "cell_type": "code",
      "source": [
        "df_1_processed.head()"
      ],
      "metadata": {
        "colab": {
          "base_uri": "https://localhost:8080/",
          "height": 206
        },
        "id": "xgIleLLWVpQE",
        "outputId": "72bdde6a-64d7-47fa-d27e-e8f038959b83"
      },
      "execution_count": null,
      "outputs": [
        {
          "output_type": "execute_result",
          "data": {
            "text/plain": [
              "                       ws    wp1   ws_sqrt    wd_sin    wd_cos\n",
              "2009-07-01 01:00:00  2.47  0.085  1.571623  0.947322 -0.320282\n",
              "2009-07-01 02:00:00  2.40  0.020  1.549193  0.911331 -0.411673\n",
              "2009-07-01 03:00:00  2.51  0.060  1.584298  0.877062 -0.480377\n",
              "2009-07-01 04:00:00  2.73  0.045  1.652271  0.858423 -0.512942\n",
              "2009-07-01 05:00:00  2.93  0.035  1.711724  0.864889 -0.501964"
            ],
            "text/html": [
              "\n",
              "  <div id=\"df-f5e07977-1fd2-4c9d-8beb-aa180884cdb2\">\n",
              "    <div class=\"colab-df-container\">\n",
              "      <div>\n",
              "<style scoped>\n",
              "    .dataframe tbody tr th:only-of-type {\n",
              "        vertical-align: middle;\n",
              "    }\n",
              "\n",
              "    .dataframe tbody tr th {\n",
              "        vertical-align: top;\n",
              "    }\n",
              "\n",
              "    .dataframe thead th {\n",
              "        text-align: right;\n",
              "    }\n",
              "</style>\n",
              "<table border=\"1\" class=\"dataframe\">\n",
              "  <thead>\n",
              "    <tr style=\"text-align: right;\">\n",
              "      <th></th>\n",
              "      <th>ws</th>\n",
              "      <th>wp1</th>\n",
              "      <th>ws_sqrt</th>\n",
              "      <th>wd_sin</th>\n",
              "      <th>wd_cos</th>\n",
              "    </tr>\n",
              "  </thead>\n",
              "  <tbody>\n",
              "    <tr>\n",
              "      <th>2009-07-01 01:00:00</th>\n",
              "      <td>2.47</td>\n",
              "      <td>0.085</td>\n",
              "      <td>1.571623</td>\n",
              "      <td>0.947322</td>\n",
              "      <td>-0.320282</td>\n",
              "    </tr>\n",
              "    <tr>\n",
              "      <th>2009-07-01 02:00:00</th>\n",
              "      <td>2.40</td>\n",
              "      <td>0.020</td>\n",
              "      <td>1.549193</td>\n",
              "      <td>0.911331</td>\n",
              "      <td>-0.411673</td>\n",
              "    </tr>\n",
              "    <tr>\n",
              "      <th>2009-07-01 03:00:00</th>\n",
              "      <td>2.51</td>\n",
              "      <td>0.060</td>\n",
              "      <td>1.584298</td>\n",
              "      <td>0.877062</td>\n",
              "      <td>-0.480377</td>\n",
              "    </tr>\n",
              "    <tr>\n",
              "      <th>2009-07-01 04:00:00</th>\n",
              "      <td>2.73</td>\n",
              "      <td>0.045</td>\n",
              "      <td>1.652271</td>\n",
              "      <td>0.858423</td>\n",
              "      <td>-0.512942</td>\n",
              "    </tr>\n",
              "    <tr>\n",
              "      <th>2009-07-01 05:00:00</th>\n",
              "      <td>2.93</td>\n",
              "      <td>0.035</td>\n",
              "      <td>1.711724</td>\n",
              "      <td>0.864889</td>\n",
              "      <td>-0.501964</td>\n",
              "    </tr>\n",
              "  </tbody>\n",
              "</table>\n",
              "</div>\n",
              "      <button class=\"colab-df-convert\" onclick=\"convertToInteractive('df-f5e07977-1fd2-4c9d-8beb-aa180884cdb2')\"\n",
              "              title=\"Convert this dataframe to an interactive table.\"\n",
              "              style=\"display:none;\">\n",
              "        \n",
              "  <svg xmlns=\"http://www.w3.org/2000/svg\" height=\"24px\"viewBox=\"0 0 24 24\"\n",
              "       width=\"24px\">\n",
              "    <path d=\"M0 0h24v24H0V0z\" fill=\"none\"/>\n",
              "    <path d=\"M18.56 5.44l.94 2.06.94-2.06 2.06-.94-2.06-.94-.94-2.06-.94 2.06-2.06.94zm-11 1L8.5 8.5l.94-2.06 2.06-.94-2.06-.94L8.5 2.5l-.94 2.06-2.06.94zm10 10l.94 2.06.94-2.06 2.06-.94-2.06-.94-.94-2.06-.94 2.06-2.06.94z\"/><path d=\"M17.41 7.96l-1.37-1.37c-.4-.4-.92-.59-1.43-.59-.52 0-1.04.2-1.43.59L10.3 9.45l-7.72 7.72c-.78.78-.78 2.05 0 2.83L4 21.41c.39.39.9.59 1.41.59.51 0 1.02-.2 1.41-.59l7.78-7.78 2.81-2.81c.8-.78.8-2.07 0-2.86zM5.41 20L4 18.59l7.72-7.72 1.47 1.35L5.41 20z\"/>\n",
              "  </svg>\n",
              "      </button>\n",
              "      \n",
              "  <style>\n",
              "    .colab-df-container {\n",
              "      display:flex;\n",
              "      flex-wrap:wrap;\n",
              "      gap: 12px;\n",
              "    }\n",
              "\n",
              "    .colab-df-convert {\n",
              "      background-color: #E8F0FE;\n",
              "      border: none;\n",
              "      border-radius: 50%;\n",
              "      cursor: pointer;\n",
              "      display: none;\n",
              "      fill: #1967D2;\n",
              "      height: 32px;\n",
              "      padding: 0 0 0 0;\n",
              "      width: 32px;\n",
              "    }\n",
              "\n",
              "    .colab-df-convert:hover {\n",
              "      background-color: #E2EBFA;\n",
              "      box-shadow: 0px 1px 2px rgba(60, 64, 67, 0.3), 0px 1px 3px 1px rgba(60, 64, 67, 0.15);\n",
              "      fill: #174EA6;\n",
              "    }\n",
              "\n",
              "    [theme=dark] .colab-df-convert {\n",
              "      background-color: #3B4455;\n",
              "      fill: #D2E3FC;\n",
              "    }\n",
              "\n",
              "    [theme=dark] .colab-df-convert:hover {\n",
              "      background-color: #434B5C;\n",
              "      box-shadow: 0px 1px 3px 1px rgba(0, 0, 0, 0.15);\n",
              "      filter: drop-shadow(0px 1px 2px rgba(0, 0, 0, 0.3));\n",
              "      fill: #FFFFFF;\n",
              "    }\n",
              "  </style>\n",
              "\n",
              "      <script>\n",
              "        const buttonEl =\n",
              "          document.querySelector('#df-f5e07977-1fd2-4c9d-8beb-aa180884cdb2 button.colab-df-convert');\n",
              "        buttonEl.style.display =\n",
              "          google.colab.kernel.accessAllowed ? 'block' : 'none';\n",
              "\n",
              "        async function convertToInteractive(key) {\n",
              "          const element = document.querySelector('#df-f5e07977-1fd2-4c9d-8beb-aa180884cdb2');\n",
              "          const dataTable =\n",
              "            await google.colab.kernel.invokeFunction('convertToInteractive',\n",
              "                                                     [key], {});\n",
              "          if (!dataTable) return;\n",
              "\n",
              "          const docLinkHtml = 'Like what you see? Visit the ' +\n",
              "            '<a target=\"_blank\" href=https://colab.research.google.com/notebooks/data_table.ipynb>data table notebook</a>'\n",
              "            + ' to learn more about interactive tables.';\n",
              "          element.innerHTML = '';\n",
              "          dataTable['output_type'] = 'display_data';\n",
              "          await google.colab.output.renderOutput(dataTable, element);\n",
              "          const docLink = document.createElement('div');\n",
              "          docLink.innerHTML = docLinkHtml;\n",
              "          element.appendChild(docLink);\n",
              "        }\n",
              "      </script>\n",
              "    </div>\n",
              "  </div>\n",
              "  "
            ]
          },
          "metadata": {},
          "execution_count": 38
        }
      ]
    },
    {
      "cell_type": "code",
      "source": [
        "sns.heatmap(df_1_processed_final.corr())"
      ],
      "metadata": {
        "colab": {
          "base_uri": "https://localhost:8080/",
          "height": 408
        },
        "id": "qM-2JApmV197",
        "outputId": "9245dd8f-bac5-4d7b-d072-316c3a555196"
      },
      "execution_count": null,
      "outputs": [
        {
          "output_type": "execute_result",
          "data": {
            "text/plain": [
              "<matplotlib.axes._subplots.AxesSubplot at 0x7f9f6bea46d0>"
            ]
          },
          "metadata": {},
          "execution_count": 39
        },
        {
          "output_type": "display_data",
          "data": {
            "text/plain": [
              "<Figure size 432x288 with 2 Axes>"
            ],
            "image/png": "[encoded data removed]"
          },
          "metadata": {
            "needs_background": "light"
          }
        }
      ]
    },
    {
      "cell_type": "code",
      "source": [
        "sns.jointplot(data=df_1_processed, x=\"ws\", y=\"wp1\")"
      ],
      "metadata": {
        "colab": {
          "base_uri": "https://localhost:8080/",
          "height": 458
        },
        "id": "FstNukWkbuRI",
        "outputId": "42913205-f9f8-40d5-983f-53a94af9d08e"
      },
      "execution_count": null,
      "outputs": [
        {
          "output_type": "execute_result",
          "data": {
            "text/plain": [
              "<seaborn.axisgrid.JointGrid at 0x7f9f6bb0deb0>"
            ]
          },
          "metadata": {},
          "execution_count": 40
        },
        {
          "output_type": "display_data",
          "data": {
            "text/plain": [
              "<Figure size 432x432 with 3 Axes>"
            ],
            "image/png": "[encoded data removed]"
          },
          "metadata": {
            "needs_background": "light"
          }
        }
      ]
    },
    {
      "cell_type": "code",
      "source": [
        "from scipy import stats\n",
        "import statsmodels.api as sm_api\n",
        "# xt, lambda_boxcox = stats.boxcox(df_1_processed.wp1)"
      ],
      "metadata": {
        "id": "a75tzmgPcO0N"
      },
      "execution_count": null,
      "outputs": []
    },
    {
      "cell_type": "code",
      "source": [
        "def transformation(lambda_, y):\n",
        "    epsilon = 1e-10\n",
        "    y = np.where(y > 0, y, epsilon)\n",
        "    return np.log((y**lambda_) / (1 - y**lambda_)) / lambda_\n",
        "\n",
        "y_transformed = transformation(0.5, df_1_processed.wp1)\n",
        "y_transformed_fake = transformation(0.5, df_1_processed.wp1[df_1_processed.wp1 > 0])\n",
        "\n",
        "fig, ax = plt.subplots(1, 2, figsize = (12, 4))\n",
        "ax[0].hist(y_transformed, bins = 200);\n",
        "ax[1].hist(y_transformed_fake, bins = 200);"
      ],
      "metadata": {
        "colab": {
          "base_uri": "https://localhost:8080/",
          "height": 268
        },
        "id": "Ob_BjGR7ABh5",
        "outputId": "616ff1db-6f9f-4bfc-8e9f-8dd9b867bfee"
      },
      "execution_count": null,
      "outputs": [
        {
          "output_type": "display_data",
          "data": {
            "text/plain": [
              "<Figure size 864x288 with 2 Axes>"
            ],
            "image/png": "[encoded data removed]"
          },
          "metadata": {
            "needs_background": "light"
          }
        }
      ]
    },
    {
      "cell_type": "code",
      "source": [
        "sm_api.qqplot(transformation(0.25, df_1_processed.wp1), line = \"q\");"
      ],
      "metadata": {
        "colab": {
          "base_uri": "https://localhost:8080/",
          "height": 283
        },
        "id": "lo6Q1_1BONFw",
        "outputId": "ad6a865c-0d99-4a84-fafb-97a6b36a24dc"
      },
      "execution_count": null,
      "outputs": [
        {
          "output_type": "display_data",
          "data": {
            "text/plain": [
              "<Figure size 432x288 with 1 Axes>"
            ],
            "image/png": "[encoded data removed]"
          },
          "metadata": {
            "needs_background": "light"
          }
        }
      ]
    },
    {
      "cell_type": "code",
      "source": [
        "sm_api.qqplot(transformation(0.3, df_1_processed.wp1), line = \"q\");"
      ],
      "metadata": {
        "colab": {
          "base_uri": "https://localhost:8080/",
          "height": 279
        },
        "id": "jDvMrJpHxDeq",
        "outputId": "7798491d-c4a8-40c4-b7d8-d4cf96e913f8"
      },
      "execution_count": null,
      "outputs": [
        {
          "output_type": "display_data",
          "data": {
            "text/plain": [
              "<Figure size 432x288 with 1 Axes>"
            ],
            "image/png": "[encoded data removed]"
          },
          "metadata": {
            "needs_background": "light"
          }
        }
      ]
    },
    {
      "cell_type": "code",
      "source": [
        "sm_api.qqplot(transformation(0.35, df_1_processed.wp1), line = \"q\");"
      ],
      "metadata": {
        "colab": {
          "base_uri": "https://localhost:8080/",
          "height": 279
        },
        "id": "JYkPxu_OxDmz",
        "outputId": "31c151bc-e0ee-44f9-f908-62c06fdc2720"
      },
      "execution_count": null,
      "outputs": [
        {
          "output_type": "display_data",
          "data": {
            "text/plain": [
              "<Figure size 432x288 with 1 Axes>"
            ],
            "image/png": "[encoded data removed]"
          },
          "metadata": {
            "needs_background": "light"
          }
        }
      ]
    },
    {
      "cell_type": "code",
      "source": [
        "sm_api.qqplot(transformation(0.5, df_1_processed.wp1), line = \"q\");"
      ],
      "metadata": {
        "colab": {
          "base_uri": "https://localhost:8080/",
          "height": 280
        },
        "id": "Zxe69sJSxDxZ",
        "outputId": "bfa18e5e-8ea2-4d6f-b19d-53bba22b0673"
      },
      "execution_count": null,
      "outputs": [
        {
          "output_type": "display_data",
          "data": {
            "text/plain": [
              "<Figure size 432x288 with 1 Axes>"
            ],
            "image/png": "[encoded data removed]"
          },
          "metadata": {
            "needs_background": "light"
          }
        }
      ]
    },
    {
      "cell_type": "code",
      "source": [
        "np.min(y_transformed), np.max(y_transformed)"
      ],
      "metadata": {
        "colab": {
          "base_uri": "https://localhost:8080/"
        },
        "id": "5s7l7Yeqtt3T",
        "outputId": "57066e22-86b6-4f89-996a-31944f43c3d3"
      },
      "execution_count": null,
      "outputs": [
        {
          "output_type": "execute_result",
          "data": {
            "text/plain": [
              "(-23.02251592882851, 13.687173623104671)"
            ]
          },
          "metadata": {},
          "execution_count": 68
        }
      ]
    },
    {
      "cell_type": "code",
      "source": [
        "y_transformed_mixmax = (y_transformed - np.min(y_transformed)) / (np.max(y_transformed) - np.min(y_transformed))"
      ],
      "metadata": {
        "id": "QR9VHXXmtwak"
      },
      "execution_count": null,
      "outputs": []
    },
    {
      "cell_type": "code",
      "source": [
        "np.min(y_transformed_mixmax), np.max(y_transformed_mixmax)"
      ],
      "metadata": {
        "colab": {
          "base_uri": "https://localhost:8080/"
        },
        "id": "Lr8p5yRZt3Jp",
        "outputId": "bb9182e4-2750-4262-a26d-86e0ea38fc9d"
      },
      "execution_count": null,
      "outputs": [
        {
          "output_type": "execute_result",
          "data": {
            "text/plain": [
              "(0.0, 1.0)"
            ]
          },
          "metadata": {},
          "execution_count": 72
        }
      ]
    },
    {
      "cell_type": "code",
      "source": [
        "y_transformed_standarized = (y_transformed - np.mean(y_transformed)) / np.std(y_transformed)\n",
        "fig, ax = plt.subplots(1, 2, figsize = (12, 4))\n",
        "ax[0].hist(y_transformed_standarized, bins = 200);\n",
        "ax[1].hist(y_transformed_mixmax, bins = 200);"
      ],
      "metadata": {
        "colab": {
          "base_uri": "https://localhost:8080/",
          "height": 268
        },
        "id": "TxZ_tgIsu3AH",
        "outputId": "7d73c72b-c13b-49cf-d09a-c16811b2cb03"
      },
      "execution_count": null,
      "outputs": [
        {
          "output_type": "display_data",
          "data": {
            "text/plain": [
              "<Figure size 864x288 with 2 Axes>"
            ],
            "image/png": "[encoded data removed]"
          },
          "metadata": {
            "needs_background": "light"
          }
        }
      ]
    },
    {
      "cell_type": "code",
      "source": [
        "from statsmodels.tsa.stattools import acf\n",
        "import statsmodels.api as sm\n",
        "sm.graphics.tsa.plot_acf(y_transformed_standarized, lags=40)\n",
        "plt.show()"
      ],
      "metadata": {
        "colab": {
          "base_uri": "https://localhost:8080/",
          "height": 281
        },
        "id": "36RqpVc9vqP-",
        "outputId": "309bfd33-4832-4404-d88b-7870155be514"
      },
      "execution_count": null,
      "outputs": [
        {
          "output_type": "display_data",
          "data": {
            "text/plain": [
              "<Figure size 432x288 with 1 Axes>"
            ],
            "image/png": "[encoded data removed]"
          },
          "metadata": {
            "needs_background": "light"
          }
        }
      ]
    },
    {
      "cell_type": "markdown",
      "source": [
        "## Other checking"
      ],
      "metadata": {
        "id": "Wtj5mU_mu3Xb"
      }
    },
    {
      "cell_type": "code",
      "source": [
        "df_1_playing_trans = df_1_processed"
      ],
      "metadata": {
        "id": "Cjp3OnvDjRyK"
      },
      "execution_count": null,
      "outputs": []
    },
    {
      "cell_type": "code",
      "source": [
        "df_1_playing_trans.columns"
      ],
      "metadata": {
        "colab": {
          "base_uri": "https://localhost:8080/"
        },
        "id": "ht6IwdJ-tGDz",
        "outputId": "82825164-f498-4f36-c04d-6d8263d6539b"
      },
      "execution_count": null,
      "outputs": [
        {
          "output_type": "execute_result",
          "data": {
            "text/plain": [
              "Index(['ws', 'wp1', 'ws_sqrt', 'wd_sin', 'wd_cos'], dtype='object')"
            ]
          },
          "metadata": {},
          "execution_count": 58
        }
      ]
    },
    {
      "cell_type": "code",
      "source": [
        "# df_1_playing_trans = df_1_playing_trans.assign(ws_sqrt = lambda df: np.sqrt(df_1_playing_trans.ws),\n",
        "#                                                wd_sin = lambda df: np.sin(df_1_playing_trans.wd * (2*np.pi / 360)),\n",
        "#                                                wd_cos = lambda df: np.cos(df_1_playing_trans.wd * (2*np.pi / 360)),\n",
        "#                                                ).drop(columns = [\"u\", \"v\", \"wd\"])"
      ],
      "metadata": {
        "id": "s8xSJTFYmPvn",
        "colab": {
          "base_uri": "https://localhost:8080/",
          "height": 363
        },
        "outputId": "62036c0e-b712-4ac1-ae93-c52c38cd4979"
      },
      "execution_count": null,
      "outputs": [
        {
          "output_type": "error",
          "ename": "AttributeError",
          "evalue": "ignored",
          "traceback": [
            "\u001b[0;31m---------------------------------------------------------------------------\u001b[0m",
            "\u001b[0;31mAttributeError\u001b[0m                            Traceback (most recent call last)",
            "\u001b[0;32m<ipython-input-59-2bf4c105ef13>\u001b[0m in \u001b[0;36m<module>\u001b[0;34m\u001b[0m\n\u001b[0;32m----> 1\u001b[0;31m df_1_playing_trans = df_1_playing_trans.assign(ws_sqrt = lambda df: np.sqrt(df_1_playing_trans.ws),\n\u001b[0m\u001b[1;32m      2\u001b[0m                                                \u001b[0mwd_sin\u001b[0m \u001b[0;34m=\u001b[0m \u001b[0;32mlambda\u001b[0m \u001b[0mdf\u001b[0m\u001b[0;34m:\u001b[0m \u001b[0mnp\u001b[0m\u001b[0;34m.\u001b[0m\u001b[0msin\u001b[0m\u001b[0;34m(\u001b[0m\u001b[0mdf_1_playing_trans\u001b[0m\u001b[0;34m.\u001b[0m\u001b[0mwd\u001b[0m \u001b[0;34m*\u001b[0m \u001b[0;34m(\u001b[0m\u001b[0;36m2\u001b[0m\u001b[0;34m*\u001b[0m\u001b[0mnp\u001b[0m\u001b[0;34m.\u001b[0m\u001b[0mpi\u001b[0m \u001b[0;34m/\u001b[0m \u001b[0;36m360\u001b[0m\u001b[0;34m)\u001b[0m\u001b[0;34m)\u001b[0m\u001b[0;34m,\u001b[0m\u001b[0;34m\u001b[0m\u001b[0;34m\u001b[0m\u001b[0m\n\u001b[1;32m      3\u001b[0m                                                \u001b[0mwd_cos\u001b[0m \u001b[0;34m=\u001b[0m \u001b[0;32mlambda\u001b[0m \u001b[0mdf\u001b[0m\u001b[0;34m:\u001b[0m \u001b[0mnp\u001b[0m\u001b[0;34m.\u001b[0m\u001b[0mcos\u001b[0m\u001b[0;34m(\u001b[0m\u001b[0mdf_1_playing_trans\u001b[0m\u001b[0;34m.\u001b[0m\u001b[0mwd\u001b[0m \u001b[0;34m*\u001b[0m \u001b[0;34m(\u001b[0m\u001b[0;36m2\u001b[0m\u001b[0;34m*\u001b[0m\u001b[0mnp\u001b[0m\u001b[0;34m.\u001b[0m\u001b[0mpi\u001b[0m \u001b[0;34m/\u001b[0m \u001b[0;36m360\u001b[0m\u001b[0;34m)\u001b[0m\u001b[0;34m)\u001b[0m\u001b[0;34m,\u001b[0m\u001b[0;34m\u001b[0m\u001b[0;34m\u001b[0m\u001b[0m\n\u001b[1;32m      4\u001b[0m                                                ).drop(columns = [\"u\", \"v\", \"wd\"])\n",
            "\u001b[0;32m/usr/local/lib/python3.8/dist-packages/pandas/core/frame.py\u001b[0m in \u001b[0;36massign\u001b[0;34m(self, **kwargs)\u001b[0m\n\u001b[1;32m   4484\u001b[0m \u001b[0;34m\u001b[0m\u001b[0m\n\u001b[1;32m   4485\u001b[0m         \u001b[0;32mfor\u001b[0m \u001b[0mk\u001b[0m\u001b[0;34m,\u001b[0m \u001b[0mv\u001b[0m \u001b[0;32min\u001b[0m \u001b[0mkwargs\u001b[0m\u001b[0;34m.\u001b[0m\u001b[0mitems\u001b[0m\u001b[0;34m(\u001b[0m\u001b[0;34m)\u001b[0m\u001b[0;34m:\u001b[0m\u001b[0;34m\u001b[0m\u001b[0;34m\u001b[0m\u001b[0m\n\u001b[0;32m-> 4486\u001b[0;31m             \u001b[0mdata\u001b[0m\u001b[0;34m[\u001b[0m\u001b[0mk\u001b[0m\u001b[0;34m]\u001b[0m \u001b[0;34m=\u001b[0m \u001b[0mcom\u001b[0m\u001b[0;34m.\u001b[0m\u001b[0mapply_if_callable\u001b[0m\u001b[0;34m(\u001b[0m\u001b[0mv\u001b[0m\u001b[0;34m,\u001b[0m \u001b[0mdata\u001b[0m\u001b[0;34m)\u001b[0m\u001b[0;34m\u001b[0m\u001b[0;34m\u001b[0m\u001b[0m\n\u001b[0m\u001b[1;32m   4487\u001b[0m         \u001b[0;32mreturn\u001b[0m \u001b[0mdata\u001b[0m\u001b[0;34m\u001b[0m\u001b[0;34m\u001b[0m\u001b[0m\n\u001b[1;32m   4488\u001b[0m \u001b[0;34m\u001b[0m\u001b[0m\n",
            "\u001b[0;32m/usr/local/lib/python3.8/dist-packages/pandas/core/common.py\u001b[0m in \u001b[0;36mapply_if_callable\u001b[0;34m(maybe_callable, obj, **kwargs)\u001b[0m\n\u001b[1;32m    356\u001b[0m     \"\"\"\n\u001b[1;32m    357\u001b[0m     \u001b[0;32mif\u001b[0m \u001b[0mcallable\u001b[0m\u001b[0;34m(\u001b[0m\u001b[0mmaybe_callable\u001b[0m\u001b[0;34m)\u001b[0m\u001b[0;34m:\u001b[0m\u001b[0;34m\u001b[0m\u001b[0;34m\u001b[0m\u001b[0m\n\u001b[0;32m--> 358\u001b[0;31m         \u001b[0;32mreturn\u001b[0m \u001b[0mmaybe_callable\u001b[0m\u001b[0;34m(\u001b[0m\u001b[0mobj\u001b[0m\u001b[0;34m,\u001b[0m \u001b[0;34m**\u001b[0m\u001b[0mkwargs\u001b[0m\u001b[0;34m)\u001b[0m\u001b[0;34m\u001b[0m\u001b[0;34m\u001b[0m\u001b[0m\n\u001b[0m\u001b[1;32m    359\u001b[0m \u001b[0;34m\u001b[0m\u001b[0m\n\u001b[1;32m    360\u001b[0m     \u001b[0;32mreturn\u001b[0m \u001b[0mmaybe_callable\u001b[0m\u001b[0;34m\u001b[0m\u001b[0;34m\u001b[0m\u001b[0m\n",
            "\u001b[0;32m<ipython-input-59-2bf4c105ef13>\u001b[0m in \u001b[0;36m<lambda>\u001b[0;34m(df)\u001b[0m\n\u001b[1;32m      1\u001b[0m df_1_playing_trans = df_1_playing_trans.assign(ws_sqrt = lambda df: np.sqrt(df_1_playing_trans.ws),\n\u001b[0;32m----> 2\u001b[0;31m                                                \u001b[0mwd_sin\u001b[0m \u001b[0;34m=\u001b[0m \u001b[0;32mlambda\u001b[0m \u001b[0mdf\u001b[0m\u001b[0;34m:\u001b[0m \u001b[0mnp\u001b[0m\u001b[0;34m.\u001b[0m\u001b[0msin\u001b[0m\u001b[0;34m(\u001b[0m\u001b[0mdf_1_playing_trans\u001b[0m\u001b[0;34m.\u001b[0m\u001b[0mwd\u001b[0m \u001b[0;34m*\u001b[0m \u001b[0;34m(\u001b[0m\u001b[0;36m2\u001b[0m\u001b[0;34m*\u001b[0m\u001b[0mnp\u001b[0m\u001b[0;34m.\u001b[0m\u001b[0mpi\u001b[0m \u001b[0;34m/\u001b[0m \u001b[0;36m360\u001b[0m\u001b[0;34m)\u001b[0m\u001b[0;34m)\u001b[0m\u001b[0;34m,\u001b[0m\u001b[0;34m\u001b[0m\u001b[0;34m\u001b[0m\u001b[0m\n\u001b[0m\u001b[1;32m      3\u001b[0m                                                \u001b[0mwd_cos\u001b[0m \u001b[0;34m=\u001b[0m \u001b[0;32mlambda\u001b[0m \u001b[0mdf\u001b[0m\u001b[0;34m:\u001b[0m \u001b[0mnp\u001b[0m\u001b[0;34m.\u001b[0m\u001b[0mcos\u001b[0m\u001b[0;34m(\u001b[0m\u001b[0mdf_1_playing_trans\u001b[0m\u001b[0;34m.\u001b[0m\u001b[0mwd\u001b[0m \u001b[0;34m*\u001b[0m \u001b[0;34m(\u001b[0m\u001b[0;36m2\u001b[0m\u001b[0;34m*\u001b[0m\u001b[0mnp\u001b[0m\u001b[0;34m.\u001b[0m\u001b[0mpi\u001b[0m \u001b[0;34m/\u001b[0m \u001b[0;36m360\u001b[0m\u001b[0;34m)\u001b[0m\u001b[0;34m)\u001b[0m\u001b[0;34m,\u001b[0m\u001b[0;34m\u001b[0m\u001b[0;34m\u001b[0m\u001b[0m\n\u001b[1;32m      4\u001b[0m                                                ).drop(columns = [\"u\", \"v\", \"wd\"])\n",
            "\u001b[0;32m/usr/local/lib/python3.8/dist-packages/pandas/core/generic.py\u001b[0m in \u001b[0;36m__getattr__\u001b[0;34m(self, name)\u001b[0m\n\u001b[1;32m   5485\u001b[0m         ):\n\u001b[1;32m   5486\u001b[0m             \u001b[0;32mreturn\u001b[0m \u001b[0mself\u001b[0m\u001b[0;34m[\u001b[0m\u001b[0mname\u001b[0m\u001b[0;34m]\u001b[0m\u001b[0;34m\u001b[0m\u001b[0;34m\u001b[0m\u001b[0m\n\u001b[0;32m-> 5487\u001b[0;31m         \u001b[0;32mreturn\u001b[0m \u001b[0mobject\u001b[0m\u001b[0;34m.\u001b[0m\u001b[0m__getattribute__\u001b[0m\u001b[0;34m(\u001b[0m\u001b[0mself\u001b[0m\u001b[0;34m,\u001b[0m \u001b[0mname\u001b[0m\u001b[0;34m)\u001b[0m\u001b[0;34m\u001b[0m\u001b[0;34m\u001b[0m\u001b[0m\n\u001b[0m\u001b[1;32m   5488\u001b[0m \u001b[0;34m\u001b[0m\u001b[0m\n\u001b[1;32m   5489\u001b[0m     \u001b[0;32mdef\u001b[0m \u001b[0m__setattr__\u001b[0m\u001b[0;34m(\u001b[0m\u001b[0mself\u001b[0m\u001b[0;34m,\u001b[0m \u001b[0mname\u001b[0m\u001b[0;34m:\u001b[0m \u001b[0mstr\u001b[0m\u001b[0;34m,\u001b[0m \u001b[0mvalue\u001b[0m\u001b[0;34m)\u001b[0m \u001b[0;34m->\u001b[0m \u001b[0;32mNone\u001b[0m\u001b[0;34m:\u001b[0m\u001b[0;34m\u001b[0m\u001b[0;34m\u001b[0m\u001b[0m\n",
            "\u001b[0;31mAttributeError\u001b[0m: 'DataFrame' object has no attribute 'wd'"
          ]
        }
      ]
    },
    {
      "cell_type": "code",
      "source": [
        "df_1_playing_trans.head()"
      ],
      "metadata": {
        "colab": {
          "base_uri": "https://localhost:8080/",
          "height": 206
        },
        "id": "zZPrDCsYyyKS",
        "outputId": "549608a6-5085-4771-b3f1-aca10634dc29"
      },
      "execution_count": null,
      "outputs": [
        {
          "output_type": "execute_result",
          "data": {
            "text/plain": [
              "                       ws    wp1   ws_sqrt    wd_sin    wd_cos\n",
              "2009-07-01 01:00:00  2.47  0.085  1.571623  0.947322 -0.320282\n",
              "2009-07-01 02:00:00  2.40  0.020  1.549193  0.911331 -0.411673\n",
              "2009-07-01 03:00:00  2.51  0.060  1.584298  0.877062 -0.480377\n",
              "2009-07-01 04:00:00  2.73  0.045  1.652271  0.858423 -0.512942\n",
              "2009-07-01 05:00:00  2.93  0.035  1.711724  0.864889 -0.501964"
            ],
            "text/html": [
              "\n",
              "  <div id=\"df-3871e7f6-15fd-4c85-9fd4-7aebbdeec581\">\n",
              "    <div class=\"colab-df-container\">\n",
              "      <div>\n",
              "<style scoped>\n",
              "    .dataframe tbody tr th:only-of-type {\n",
              "        vertical-align: middle;\n",
              "    }\n",
              "\n",
              "    .dataframe tbody tr th {\n",
              "        vertical-align: top;\n",
              "    }\n",
              "\n",
              "    .dataframe thead th {\n",
              "        text-align: right;\n",
              "    }\n",
              "</style>\n",
              "<table border=\"1\" class=\"dataframe\">\n",
              "  <thead>\n",
              "    <tr style=\"text-align: right;\">\n",
              "      <th></th>\n",
              "      <th>ws</th>\n",
              "      <th>wp1</th>\n",
              "      <th>ws_sqrt</th>\n",
              "      <th>wd_sin</th>\n",
              "      <th>wd_cos</th>\n",
              "    </tr>\n",
              "  </thead>\n",
              "  <tbody>\n",
              "    <tr>\n",
              "      <th>2009-07-01 01:00:00</th>\n",
              "      <td>2.47</td>\n",
              "      <td>0.085</td>\n",
              "      <td>1.571623</td>\n",
              "      <td>0.947322</td>\n",
              "      <td>-0.320282</td>\n",
              "    </tr>\n",
              "    <tr>\n",
              "      <th>2009-07-01 02:00:00</th>\n",
              "      <td>2.40</td>\n",
              "      <td>0.020</td>\n",
              "      <td>1.549193</td>\n",
              "      <td>0.911331</td>\n",
              "      <td>-0.411673</td>\n",
              "    </tr>\n",
              "    <tr>\n",
              "      <th>2009-07-01 03:00:00</th>\n",
              "      <td>2.51</td>\n",
              "      <td>0.060</td>\n",
              "      <td>1.584298</td>\n",
              "      <td>0.877062</td>\n",
              "      <td>-0.480377</td>\n",
              "    </tr>\n",
              "    <tr>\n",
              "      <th>2009-07-01 04:00:00</th>\n",
              "      <td>2.73</td>\n",
              "      <td>0.045</td>\n",
              "      <td>1.652271</td>\n",
              "      <td>0.858423</td>\n",
              "      <td>-0.512942</td>\n",
              "    </tr>\n",
              "    <tr>\n",
              "      <th>2009-07-01 05:00:00</th>\n",
              "      <td>2.93</td>\n",
              "      <td>0.035</td>\n",
              "      <td>1.711724</td>\n",
              "      <td>0.864889</td>\n",
              "      <td>-0.501964</td>\n",
              "    </tr>\n",
              "  </tbody>\n",
              "</table>\n",
              "</div>\n",
              "      <button class=\"colab-df-convert\" onclick=\"convertToInteractive('df-3871e7f6-15fd-4c85-9fd4-7aebbdeec581')\"\n",
              "              title=\"Convert this dataframe to an interactive table.\"\n",
              "              style=\"display:none;\">\n",
              "        \n",
              "  <svg xmlns=\"http://www.w3.org/2000/svg\" height=\"24px\"viewBox=\"0 0 24 24\"\n",
              "       width=\"24px\">\n",
              "    <path d=\"M0 0h24v24H0V0z\" fill=\"none\"/>\n",
              "    <path d=\"M18.56 5.44l.94 2.06.94-2.06 2.06-.94-2.06-.94-.94-2.06-.94 2.06-2.06.94zm-11 1L8.5 8.5l.94-2.06 2.06-.94-2.06-.94L8.5 2.5l-.94 2.06-2.06.94zm10 10l.94 2.06.94-2.06 2.06-.94-2.06-.94-.94-2.06-.94 2.06-2.06.94z\"/><path d=\"M17.41 7.96l-1.37-1.37c-.4-.4-.92-.59-1.43-.59-.52 0-1.04.2-1.43.59L10.3 9.45l-7.72 7.72c-.78.78-.78 2.05 0 2.83L4 21.41c.39.39.9.59 1.41.59.51 0 1.02-.2 1.41-.59l7.78-7.78 2.81-2.81c.8-.78.8-2.07 0-2.86zM5.41 20L4 18.59l7.72-7.72 1.47 1.35L5.41 20z\"/>\n",
              "  </svg>\n",
              "      </button>\n",
              "      \n",
              "  <style>\n",
              "    .colab-df-container {\n",
              "      display:flex;\n",
              "      flex-wrap:wrap;\n",
              "      gap: 12px;\n",
              "    }\n",
              "\n",
              "    .colab-df-convert {\n",
              "      background-color: #E8F0FE;\n",
              "      border: none;\n",
              "      border-radius: 50%;\n",
              "      cursor: pointer;\n",
              "      display: none;\n",
              "      fill: #1967D2;\n",
              "      height: 32px;\n",
              "      padding: 0 0 0 0;\n",
              "      width: 32px;\n",
              "    }\n",
              "\n",
              "    .colab-df-convert:hover {\n",
              "      background-color: #E2EBFA;\n",
              "      box-shadow: 0px 1px 2px rgba(60, 64, 67, 0.3), 0px 1px 3px 1px rgba(60, 64, 67, 0.15);\n",
              "      fill: #174EA6;\n",
              "    }\n",
              "\n",
              "    [theme=dark] .colab-df-convert {\n",
              "      background-color: #3B4455;\n",
              "      fill: #D2E3FC;\n",
              "    }\n",
              "\n",
              "    [theme=dark] .colab-df-convert:hover {\n",
              "      background-color: #434B5C;\n",
              "      box-shadow: 0px 1px 3px 1px rgba(0, 0, 0, 0.15);\n",
              "      filter: drop-shadow(0px 1px 2px rgba(0, 0, 0, 0.3));\n",
              "      fill: #FFFFFF;\n",
              "    }\n",
              "  </style>\n",
              "\n",
              "      <script>\n",
              "        const buttonEl =\n",
              "          document.querySelector('#df-3871e7f6-15fd-4c85-9fd4-7aebbdeec581 button.colab-df-convert');\n",
              "        buttonEl.style.display =\n",
              "          google.colab.kernel.accessAllowed ? 'block' : 'none';\n",
              "\n",
              "        async function convertToInteractive(key) {\n",
              "          const element = document.querySelector('#df-3871e7f6-15fd-4c85-9fd4-7aebbdeec581');\n",
              "          const dataTable =\n",
              "            await google.colab.kernel.invokeFunction('convertToInteractive',\n",
              "                                                     [key], {});\n",
              "          if (!dataTable) return;\n",
              "\n",
              "          const docLinkHtml = 'Like what you see? Visit the ' +\n",
              "            '<a target=\"_blank\" href=https://colab.research.google.com/notebooks/data_table.ipynb>data table notebook</a>'\n",
              "            + ' to learn more about interactive tables.';\n",
              "          element.innerHTML = '';\n",
              "          dataTable['output_type'] = 'display_data';\n",
              "          await google.colab.output.renderOutput(dataTable, element);\n",
              "          const docLink = document.createElement('div');\n",
              "          docLink.innerHTML = docLinkHtml;\n",
              "          element.appendChild(docLink);\n",
              "        }\n",
              "      </script>\n",
              "    </div>\n",
              "  </div>\n",
              "  "
            ]
          },
          "metadata": {},
          "execution_count": 60
        }
      ]
    },
    {
      "cell_type": "code",
      "source": [
        "plt.hist(df_1_playing_trans.wd, bins = 100);"
      ],
      "metadata": {
        "colab": {
          "base_uri": "https://localhost:8080/",
          "height": 287
        },
        "id": "kSTjATrjsQLV",
        "outputId": "073636e8-ee71-408e-c098-66f03144210f"
      },
      "execution_count": null,
      "outputs": [
        {
          "output_type": "error",
          "ename": "AttributeError",
          "evalue": "ignored",
          "traceback": [
            "\u001b[0;31m---------------------------------------------------------------------------\u001b[0m",
            "\u001b[0;31mAttributeError\u001b[0m                            Traceback (most recent call last)",
            "\u001b[0;32m<ipython-input-61-4e6bcdaa8f54>\u001b[0m in \u001b[0;36m<module>\u001b[0;34m\u001b[0m\n\u001b[0;32m----> 1\u001b[0;31m \u001b[0mplt\u001b[0m\u001b[0;34m.\u001b[0m\u001b[0mhist\u001b[0m\u001b[0;34m(\u001b[0m\u001b[0mdf_1_playing_trans\u001b[0m\u001b[0;34m.\u001b[0m\u001b[0mwd\u001b[0m\u001b[0;34m,\u001b[0m \u001b[0mbins\u001b[0m \u001b[0;34m=\u001b[0m \u001b[0;36m100\u001b[0m\u001b[0;34m)\u001b[0m\u001b[0;34m;\u001b[0m\u001b[0;34m\u001b[0m\u001b[0;34m\u001b[0m\u001b[0m\n\u001b[0m",
            "\u001b[0;32m/usr/local/lib/python3.8/dist-packages/pandas/core/generic.py\u001b[0m in \u001b[0;36m__getattr__\u001b[0;34m(self, name)\u001b[0m\n\u001b[1;32m   5485\u001b[0m         ):\n\u001b[1;32m   5486\u001b[0m             \u001b[0;32mreturn\u001b[0m \u001b[0mself\u001b[0m\u001b[0;34m[\u001b[0m\u001b[0mname\u001b[0m\u001b[0;34m]\u001b[0m\u001b[0;34m\u001b[0m\u001b[0;34m\u001b[0m\u001b[0m\n\u001b[0;32m-> 5487\u001b[0;31m         \u001b[0;32mreturn\u001b[0m \u001b[0mobject\u001b[0m\u001b[0;34m.\u001b[0m\u001b[0m__getattribute__\u001b[0m\u001b[0;34m(\u001b[0m\u001b[0mself\u001b[0m\u001b[0;34m,\u001b[0m \u001b[0mname\u001b[0m\u001b[0;34m)\u001b[0m\u001b[0;34m\u001b[0m\u001b[0;34m\u001b[0m\u001b[0m\n\u001b[0m\u001b[1;32m   5488\u001b[0m \u001b[0;34m\u001b[0m\u001b[0m\n\u001b[1;32m   5489\u001b[0m     \u001b[0;32mdef\u001b[0m \u001b[0m__setattr__\u001b[0m\u001b[0;34m(\u001b[0m\u001b[0mself\u001b[0m\u001b[0;34m,\u001b[0m \u001b[0mname\u001b[0m\u001b[0;34m:\u001b[0m \u001b[0mstr\u001b[0m\u001b[0;34m,\u001b[0m \u001b[0mvalue\u001b[0m\u001b[0;34m)\u001b[0m \u001b[0;34m->\u001b[0m \u001b[0;32mNone\u001b[0m\u001b[0;34m:\u001b[0m\u001b[0;34m\u001b[0m\u001b[0;34m\u001b[0m\u001b[0m\n",
            "\u001b[0;31mAttributeError\u001b[0m: 'DataFrame' object has no attribute 'wd'"
          ]
        }
      ]
    },
    {
      "cell_type": "code",
      "source": [
        "from sklearn import preprocessing\n",
        "# Normalizer_toy = preprocessing.Normalizer(norm = \"max\").fit_transform(df_1_playing_trans.ws.to_numpy().reshape(-1, 1))\n",
        "Normalizer_toy = preprocessing.Normalizer(norm = \"max\").fit_transform(df_1_playing_trans.ws.to_numpy().reshape(1, -1))"
      ],
      "metadata": {
        "id": "H9RTBXd0t8Wj"
      },
      "execution_count": null,
      "outputs": []
    },
    {
      "cell_type": "code",
      "source": [
        "np.max(df_1_playing_trans.ws)"
      ],
      "metadata": {
        "colab": {
          "base_uri": "https://localhost:8080/"
        },
        "id": "wX4CglLU3l35",
        "outputId": "ffc32c60-254b-42e8-ef30-aa1c08e391ad"
      },
      "execution_count": null,
      "outputs": [
        {
          "output_type": "execute_result",
          "data": {
            "text/plain": [
              "13.89"
            ]
          },
          "metadata": {},
          "execution_count": 63
        }
      ]
    },
    {
      "cell_type": "code",
      "source": [
        "fig, ax = plt.subplots(1, 3, figsize = (12, 4))\n",
        "ax[0].hist(df_1_playing_trans.ws, bins = 100);\n",
        "ax[1].hist(np.squeeze(Normalizer_toy), bins = 100);\n",
        "ax[2].hist(np.sqrt(df_1_playing_trans.ws), bins = 100);"
      ],
      "metadata": {
        "colab": {
          "base_uri": "https://localhost:8080/",
          "height": 265
        },
        "id": "A2xzweVu5W9v",
        "outputId": "260700c0-24cf-4ec7-b25d-764d1689319a"
      },
      "execution_count": null,
      "outputs": [
        {
          "output_type": "display_data",
          "data": {
            "text/plain": [
              "<Figure size 864x288 with 3 Axes>"
            ],
            "image/png": "[encoded data removed]"
          },
          "metadata": {
            "needs_background": "light"
          }
        }
      ]
    },
    {
      "cell_type": "code",
      "source": [
        "sm_api.qqplot(df_1_playing_trans.ws, line = \"q\");"
      ],
      "metadata": {
        "colab": {
          "base_uri": "https://localhost:8080/",
          "height": 279
        },
        "id": "Z27jb_Ge53PP",
        "outputId": "7a0ae999-b741-43e7-f985-b7b3cb935d36"
      },
      "execution_count": null,
      "outputs": [
        {
          "output_type": "display_data",
          "data": {
            "text/plain": [
              "<Figure size 432x288 with 1 Axes>"
            ],
            "image/png": "[encoded data removed]"
          },
          "metadata": {
            "needs_background": "light"
          }
        }
      ]
    },
    {
      "cell_type": "code",
      "source": [
        "xt, lambda_boxcox = stats.boxcox(df_1_playing_trans.ws)\n",
        "sm_api.qqplot(xt, line = \"q\");"
      ],
      "metadata": {
        "colab": {
          "base_uri": "https://localhost:8080/",
          "height": 279
        },
        "id": "c3Xm0c8l6FTl",
        "outputId": "1462ff12-6d9a-4232-e011-7ef4cb7944db"
      },
      "execution_count": null,
      "outputs": [
        {
          "output_type": "display_data",
          "data": {
            "text/plain": [
              "<Figure size 432x288 with 1 Axes>"
            ],
            "image/png": "[encoded data removed]"
          },
          "metadata": {
            "needs_background": "light"
          }
        }
      ]
    },
    {
      "cell_type": "code",
      "source": [
        "sm_api.qqplot(np.sqrt(df_1_playing_trans.ws), line = \"q\");"
      ],
      "metadata": {
        "colab": {
          "base_uri": "https://localhost:8080/",
          "height": 279
        },
        "id": "6IRZool8tf28",
        "outputId": "343d010a-8c45-4c3c-9aad-f90d622096e4"
      },
      "execution_count": null,
      "outputs": [
        {
          "output_type": "display_data",
          "data": {
            "text/plain": [
              "<Figure size 432x288 with 1 Axes>"
            ],
            "image/png": "[encoded data removed]"
          },
          "metadata": {
            "needs_background": "light"
          }
        }
      ]
    },
    {
      "cell_type": "markdown",
      "source": [
        "## Creating the lag - wrong"
      ],
      "metadata": {
        "id": "WgzX2fmdeisk"
      }
    },
    {
      "cell_type": "code",
      "source": [
        "df_1_processed_playing = df_1_processed[0:500]"
      ],
      "metadata": {
        "id": "cXd5mwSQ5Kb_"
      },
      "execution_count": null,
      "outputs": []
    },
    {
      "cell_type": "code",
      "source": [
        "def split_datasets_wrong(df, window_size, offset = 1, n_future_predictions = 1):\n",
        "  X = []\n",
        "  y = []\n",
        "  for ii in range(0,len(df)-window_size+1, offset):\n",
        "    sample = df[ii:window_size+ii]\n",
        "    target = sample[\"wp1\"].values[-n_future_predictions]\n",
        "    sample = sample.drop(labels=[\"wp1\"], axis=1)\n",
        "    X.append(sample.values)\n",
        "    y.append(target)\n",
        "  return arr(X), arr(y)"
      ],
      "metadata": {
        "id": "ie71jc3fn_aF"
      },
      "execution_count": null,
      "outputs": []
    },
    {
      "cell_type": "code",
      "source": [
        "WINDOW_SIZE = 100\n",
        "X, y = split_datasets_wrong(df_1_processed_playing, WINDOW_SIZE)"
      ],
      "metadata": {
        "id": "M1EHJiQc5H3R"
      },
      "execution_count": null,
      "outputs": []
    },
    {
      "cell_type": "code",
      "source": [
        "X.shape"
      ],
      "metadata": {
        "id": "Q7WHhFmU5Ukr"
      },
      "execution_count": null,
      "outputs": []
    },
    {
      "cell_type": "code",
      "source": [
        "X[0][-3:], y[0]"
      ],
      "metadata": {
        "id": "wsASYNVQ52Lm"
      },
      "execution_count": null,
      "outputs": []
    },
    {
      "cell_type": "code",
      "source": [
        "df_1_processed_playing[97:100]"
      ],
      "metadata": {
        "id": "SKNi8Yhd58qR"
      },
      "execution_count": null,
      "outputs": []
    },
    {
      "cell_type": "code",
      "source": [
        "df_1_processed_playing.tail(2)"
      ],
      "metadata": {
        "id": "6HR4HRhQ7HbM"
      },
      "execution_count": null,
      "outputs": []
    },
    {
      "cell_type": "code",
      "source": [
        "X[-1][-3:], y[-1]"
      ],
      "metadata": {
        "id": "LV103T8Q7cCb"
      },
      "execution_count": null,
      "outputs": []
    },
    {
      "cell_type": "markdown",
      "source": [
        "## Creating the datasets - correct"
      ],
      "metadata": {
        "id": "eoaqEaef-GHh"
      }
    },
    {
      "cell_type": "code",
      "source": [
        "def split_datasets_correct(df, window_size, offset = 1, n_future_predictions = 1):\n",
        "  X_previous = []\n",
        "  X_current = []\n",
        "  y = []\n",
        "  for ii in range(0,len(df)- window_size + 1 - n_future_predictions, offset):\n",
        "    X_previous.append(df[ii:window_size+ii].values)\n",
        "    current = df.iloc[window_size+ii: window_size + ii + n_future_predictions, :]\n",
        "    target = current[\"wp1\"].values\n",
        "    current = current.drop(labels=[\"wp1\"], axis=1)\n",
        "    X_current.append(current)\n",
        "    y.append(target)\n",
        "  return arr(X_previous), arr(X_current), arr(y)[:, None]"
      ],
      "metadata": {
        "id": "SY7lCS6J61UX"
      },
      "execution_count": null,
      "outputs": []
    },
    {
      "cell_type": "code",
      "source": [
        "X_previous, X_currect, y_ = split_datasets_correct(df_1_processed_playing, WINDOW_SIZE,\n",
        "                                                   n_future_predictions = 2)"
      ],
      "metadata": {
        "id": "T5pq8hct85qu"
      },
      "execution_count": null,
      "outputs": []
    },
    {
      "cell_type": "code",
      "source": [
        "X_previous.shape, X_currect.shape, y_.shape"
      ],
      "metadata": {
        "id": "fNd3yN6j90lF"
      },
      "execution_count": null,
      "outputs": []
    },
    {
      "cell_type": "code",
      "source": [
        "df_1_processed_playing[97:102]"
      ],
      "metadata": {
        "id": "D11vsPSW-HIr"
      },
      "execution_count": null,
      "outputs": []
    },
    {
      "cell_type": "code",
      "source": [
        "X_previous[0][-3:], X_currect[0], y_[0]"
      ],
      "metadata": {
        "id": "slbYSloH-Lpb"
      },
      "execution_count": null,
      "outputs": []
    },
    {
      "cell_type": "code",
      "source": [
        "class Dataset_correct_one_farm(torch.utils.data.Dataset):\n",
        "    def __init__(self, X_previous, X_currect, y_ ):\n",
        "        self.X_previous_ndarray = X_previous\n",
        "        self.X_current_ndarray = X_currect\n",
        "        self.y_ndarray = y_\n",
        "\n",
        "    def __len__(self):\n",
        "        return len(self.xList)\n",
        "\n",
        "    def __getitem__(self, index):\n",
        "        X_previous = self.X_previous_ndarray[index]\n",
        "        X_currect = self.X_current_ndarray[index]\n",
        "        y_ = self.y_ndarray\n",
        "\n",
        "        return X_previous, X_currect, y_ "
      ],
      "metadata": {
        "id": "KK_AwdonvCwf"
      },
      "execution_count": null,
      "outputs": []
    },
    {
      "cell_type": "code",
      "source": [
        "dataset_farm_1 = Dataset_correct_one_farm(X_previous, X_currect, y_ )"
      ],
      "metadata": {
        "id": "C0etXHFR_fGe"
      },
      "execution_count": null,
      "outputs": []
    },
    {
      "cell_type": "markdown",
      "source": [
        "# Correct stuff"
      ],
      "metadata": {
        "id": "UGE0bTJTXbtQ"
      }
    },
    {
      "cell_type": "markdown",
      "source": [
        "## Creating the lag - CORRECT UPDATED AFTER TALKING WITH THE TA\n",
        "when we want to predict the next 48h and we are at 0 or 12 we have 48h of weather forecast at our disposal. However, if we get to the 7am we only have 48h - 7h = 41h of weather forecast since the next forecast comes at 12am. \n",
        "\n",
        "**Solution**: add 0 at the end to ensure that every weather forecast has length 48 and then during training use padding on them. It will result in LSTM not taking them into consideration when doing backpropagation through time."
      ],
      "metadata": {
        "id": "jUKFnr7k1FfG"
      }
    },
    {
      "cell_type": "code",
      "source": [
        "df_working[\"wp1\"] = df_train_processed.loc[:, \"wp1\"]"
      ],
      "metadata": {
        "id": "RjxHaqydhJzz"
      },
      "execution_count": null,
      "outputs": []
    },
    {
      "cell_type": "code",
      "source": [
        "result = list()\n",
        "unique_index = np.unique(df_working.index)\n",
        "for index_elem in unique_index:\n",
        "    array_toy = df_working.loc[df_working.index == index_elem].wp1.values\n",
        "    result.append(np.unique(array_toy).shape[0] == 1)\n",
        "result = np.array(result)\n",
        "assert np.all(result == True)"
      ],
      "metadata": {
        "id": "jfAylusdIqcx"
      },
      "execution_count": null,
      "outputs": []
    },
    {
      "cell_type": "code",
      "source": [
        "df_working.index.month"
      ],
      "metadata": {
        "colab": {
          "base_uri": "https://localhost:8080/"
        },
        "id": "G2wf6O5CKiMT",
        "outputId": "525d54e0-ca99-4cec-8234-b8d38cd87d18"
      },
      "execution_count": null,
      "outputs": [
        {
          "output_type": "execute_result",
          "data": {
            "text/plain": [
              "Int64Index([7, 7, 7, 7, 7, 7, 7, 7, 7, 7,\n",
              "            ...\n",
              "            1, 1, 1, 1, 1, 1, 1, 1, 1, 1],\n",
              "           dtype='int64', length=52752)"
            ]
          },
          "metadata": {},
          "execution_count": 167
        }
      ]
    },
    {
      "cell_type": "code",
      "source": [
        "df_working.head()"
      ],
      "metadata": {
        "colab": {
          "base_uri": "https://localhost:8080/",
          "height": 337
        },
        "id": "Ds7pRehG1fM1",
        "outputId": "1fd94e2a-3c7e-4b02-d542-5f0535527de2"
      },
      "execution_count": null,
      "outputs": [
        {
          "output_type": "execute_result",
          "data": {
            "text/plain": [
              "                     hours     u     v    ws      wd  \\\n",
              "2009-07-01 01:00:00      1  2.34 -0.79  2.47  108.68   \n",
              "2009-07-01 02:00:00      2  2.18 -0.99  2.40  114.31   \n",
              "2009-07-01 03:00:00      3  2.20 -1.21  2.51  118.71   \n",
              "2009-07-01 04:00:00      4  2.35 -1.40  2.73  120.86   \n",
              "2009-07-01 05:00:00      5  2.53 -1.47  2.93  120.13   \n",
              "\n",
              "                     index_forecasted_weather    wp1  \n",
              "2009-07-01 01:00:00                         1  0.085  \n",
              "2009-07-01 02:00:00                         1  0.020  \n",
              "2009-07-01 03:00:00                         1  0.060  \n",
              "2009-07-01 04:00:00                         1  0.045  \n",
              "2009-07-01 05:00:00                         1  0.035  "
            ],
            "text/html": [
              "\n",
              "  <div id=\"df-2ee84e06-68fc-4e42-8bb7-50272e47efca\">\n",
              "    <div class=\"colab-df-container\">\n",
              "      <div>\n",
              "<style scoped>\n",
              "    .dataframe tbody tr th:only-of-type {\n",
              "        vertical-align: middle;\n",
              "    }\n",
              "\n",
              "    .dataframe tbody tr th {\n",
              "        vertical-align: top;\n",
              "    }\n",
              "\n",
              "    .dataframe thead th {\n",
              "        text-align: right;\n",
              "    }\n",
              "</style>\n",
              "<table border=\"1\" class=\"dataframe\">\n",
              "  <thead>\n",
              "    <tr style=\"text-align: right;\">\n",
              "      <th></th>\n",
              "      <th>hours</th>\n",
              "      <th>u</th>\n",
              "      <th>v</th>\n",
              "      <th>ws</th>\n",
              "      <th>wd</th>\n",
              "      <th>index_forecasted_weather</th>\n",
              "      <th>wp1</th>\n",
              "    </tr>\n",
              "  </thead>\n",
              "  <tbody>\n",
              "    <tr>\n",
              "      <th>2009-07-01 01:00:00</th>\n",
              "      <td>1</td>\n",
              "      <td>2.34</td>\n",
              "      <td>-0.79</td>\n",
              "      <td>2.47</td>\n",
              "      <td>108.68</td>\n",
              "      <td>1</td>\n",
              "      <td>0.085</td>\n",
              "    </tr>\n",
              "    <tr>\n",
              "      <th>2009-07-01 02:00:00</th>\n",
              "      <td>2</td>\n",
              "      <td>2.18</td>\n",
              "      <td>-0.99</td>\n",
              "      <td>2.40</td>\n",
              "      <td>114.31</td>\n",
              "      <td>1</td>\n",
              "      <td>0.020</td>\n",
              "    </tr>\n",
              "    <tr>\n",
              "      <th>2009-07-01 03:00:00</th>\n",
              "      <td>3</td>\n",
              "      <td>2.20</td>\n",
              "      <td>-1.21</td>\n",
              "      <td>2.51</td>\n",
              "      <td>118.71</td>\n",
              "      <td>1</td>\n",
              "      <td>0.060</td>\n",
              "    </tr>\n",
              "    <tr>\n",
              "      <th>2009-07-01 04:00:00</th>\n",
              "      <td>4</td>\n",
              "      <td>2.35</td>\n",
              "      <td>-1.40</td>\n",
              "      <td>2.73</td>\n",
              "      <td>120.86</td>\n",
              "      <td>1</td>\n",
              "      <td>0.045</td>\n",
              "    </tr>\n",
              "    <tr>\n",
              "      <th>2009-07-01 05:00:00</th>\n",
              "      <td>5</td>\n",
              "      <td>2.53</td>\n",
              "      <td>-1.47</td>\n",
              "      <td>2.93</td>\n",
              "      <td>120.13</td>\n",
              "      <td>1</td>\n",
              "      <td>0.035</td>\n",
              "    </tr>\n",
              "  </tbody>\n",
              "</table>\n",
              "</div>\n",
              "      <button class=\"colab-df-convert\" onclick=\"convertToInteractive('df-2ee84e06-68fc-4e42-8bb7-50272e47efca')\"\n",
              "              title=\"Convert this dataframe to an interactive table.\"\n",
              "              style=\"display:none;\">\n",
              "        \n",
              "  <svg xmlns=\"http://www.w3.org/2000/svg\" height=\"24px\"viewBox=\"0 0 24 24\"\n",
              "       width=\"24px\">\n",
              "    <path d=\"M0 0h24v24H0V0z\" fill=\"none\"/>\n",
              "    <path d=\"M18.56 5.44l.94 2.06.94-2.06 2.06-.94-2.06-.94-.94-2.06-.94 2.06-2.06.94zm-11 1L8.5 8.5l.94-2.06 2.06-.94-2.06-.94L8.5 2.5l-.94 2.06-2.06.94zm10 10l.94 2.06.94-2.06 2.06-.94-2.06-.94-.94-2.06-.94 2.06-2.06.94z\"/><path d=\"M17.41 7.96l-1.37-1.37c-.4-.4-.92-.59-1.43-.59-.52 0-1.04.2-1.43.59L10.3 9.45l-7.72 7.72c-.78.78-.78 2.05 0 2.83L4 21.41c.39.39.9.59 1.41.59.51 0 1.02-.2 1.41-.59l7.78-7.78 2.81-2.81c.8-.78.8-2.07 0-2.86zM5.41 20L4 18.59l7.72-7.72 1.47 1.35L5.41 20z\"/>\n",
              "  </svg>\n",
              "      </button>\n",
              "      \n",
              "  <style>\n",
              "    .colab-df-container {\n",
              "      display:flex;\n",
              "      flex-wrap:wrap;\n",
              "      gap: 12px;\n",
              "    }\n",
              "\n",
              "    .colab-df-convert {\n",
              "      background-color: #E8F0FE;\n",
              "      border: none;\n",
              "      border-radius: 50%;\n",
              "      cursor: pointer;\n",
              "      display: none;\n",
              "      fill: #1967D2;\n",
              "      height: 32px;\n",
              "      padding: 0 0 0 0;\n",
              "      width: 32px;\n",
              "    }\n",
              "\n",
              "    .colab-df-convert:hover {\n",
              "      background-color: #E2EBFA;\n",
              "      box-shadow: 0px 1px 2px rgba(60, 64, 67, 0.3), 0px 1px 3px 1px rgba(60, 64, 67, 0.15);\n",
              "      fill: #174EA6;\n",
              "    }\n",
              "\n",
              "    [theme=dark] .colab-df-convert {\n",
              "      background-color: #3B4455;\n",
              "      fill: #D2E3FC;\n",
              "    }\n",
              "\n",
              "    [theme=dark] .colab-df-convert:hover {\n",
              "      background-color: #434B5C;\n",
              "      box-shadow: 0px 1px 3px 1px rgba(0, 0, 0, 0.15);\n",
              "      filter: drop-shadow(0px 1px 2px rgba(0, 0, 0, 0.3));\n",
              "      fill: #FFFFFF;\n",
              "    }\n",
              "  </style>\n",
              "\n",
              "      <script>\n",
              "        const buttonEl =\n",
              "          document.querySelector('#df-2ee84e06-68fc-4e42-8bb7-50272e47efca button.colab-df-convert');\n",
              "        buttonEl.style.display =\n",
              "          google.colab.kernel.accessAllowed ? 'block' : 'none';\n",
              "\n",
              "        async function convertToInteractive(key) {\n",
              "          const element = document.querySelector('#df-2ee84e06-68fc-4e42-8bb7-50272e47efca');\n",
              "          const dataTable =\n",
              "            await google.colab.kernel.invokeFunction('convertToInteractive',\n",
              "                                                     [key], {});\n",
              "          if (!dataTable) return;\n",
              "\n",
              "          const docLinkHtml = 'Like what you see? Visit the ' +\n",
              "            '<a target=\"_blank\" href=https://colab.research.google.com/notebooks/data_table.ipynb>data table notebook</a>'\n",
              "            + ' to learn more about interactive tables.';\n",
              "          element.innerHTML = '';\n",
              "          dataTable['output_type'] = 'display_data';\n",
              "          await google.colab.output.renderOutput(dataTable, element);\n",
              "          const docLink = document.createElement('div');\n",
              "          docLink.innerHTML = docLinkHtml;\n",
              "          element.appendChild(docLink);\n",
              "        }\n",
              "      </script>\n",
              "    </div>\n",
              "  </div>\n",
              "  "
            ]
          },
          "metadata": {},
          "execution_count": 168
        }
      ]
    },
    {
      "cell_type": "code",
      "source": [
        "df_working = df_working.assign(\n",
        "        wd_sin = lambda df: np.sin(df.wd * (2*np.pi / 360)),\n",
        "        wd_cos = lambda df: np.cos(df.wd * (2*np.pi / 360)),\n",
        "        month_sin = lambda df: np.sin((df.index.month - 1) * (2*np.pi / 12)),\n",
        "        month_cos = lambda df: np.cos((df.index.month - 1) * (2*np.pi / 12)),\n",
        "        hour_sin = lambda df: np.sin((df.index.hour) * (2*np.pi / 24)),\n",
        "        hour_cos = lambda df: np.cos((df.index.hour) * (2*np.pi / 24))\n",
        "    ).drop(columns = [\"wd\"])"
      ],
      "metadata": {
        "id": "SQl070lqCLua"
      },
      "execution_count": null,
      "outputs": []
    },
    {
      "cell_type": "code",
      "source": [
        "df_working.head()"
      ],
      "metadata": {
        "colab": {
          "base_uri": "https://localhost:8080/",
          "height": 444
        },
        "id": "bN3pjlgsLFJQ",
        "outputId": "51e1b73e-7a7d-4686-8150-b927472d75d5"
      },
      "execution_count": null,
      "outputs": [
        {
          "output_type": "execute_result",
          "data": {
            "text/plain": [
              "                     hours     u     v    ws  index_forecasted_weather    wp1  \\\n",
              "2009-07-01 01:00:00      1  2.34 -0.79  2.47                         1  0.085   \n",
              "2009-07-01 02:00:00      2  2.18 -0.99  2.40                         1  0.020   \n",
              "2009-07-01 03:00:00      3  2.20 -1.21  2.51                         1  0.060   \n",
              "2009-07-01 04:00:00      4  2.35 -1.40  2.73                         1  0.045   \n",
              "2009-07-01 05:00:00      5  2.53 -1.47  2.93                         1  0.035   \n",
              "\n",
              "                       wd_sin    wd_cos     month_sin  month_cos  hour_sin  \\\n",
              "2009-07-01 01:00:00  0.947322 -0.320282  1.224647e-16       -1.0  0.258819   \n",
              "2009-07-01 02:00:00  0.911331 -0.411673  1.224647e-16       -1.0  0.500000   \n",
              "2009-07-01 03:00:00  0.877062 -0.480377  1.224647e-16       -1.0  0.707107   \n",
              "2009-07-01 04:00:00  0.858423 -0.512942  1.224647e-16       -1.0  0.866025   \n",
              "2009-07-01 05:00:00  0.864889 -0.501964  1.224647e-16       -1.0  0.965926   \n",
              "\n",
              "                     hour_cos  \n",
              "2009-07-01 01:00:00  0.965926  \n",
              "2009-07-01 02:00:00  0.866025  \n",
              "2009-07-01 03:00:00  0.707107  \n",
              "2009-07-01 04:00:00  0.500000  \n",
              "2009-07-01 05:00:00  0.258819  "
            ],
            "text/html": [
              "\n",
              "  <div id=\"df-fe0b3854-c35d-475f-bb19-26928c7770c0\">\n",
              "    <div class=\"colab-df-container\">\n",
              "      <div>\n",
              "<style scoped>\n",
              "    .dataframe tbody tr th:only-of-type {\n",
              "        vertical-align: middle;\n",
              "    }\n",
              "\n",
              "    .dataframe tbody tr th {\n",
              "        vertical-align: top;\n",
              "    }\n",
              "\n",
              "    .dataframe thead th {\n",
              "        text-align: right;\n",
              "    }\n",
              "</style>\n",
              "<table border=\"1\" class=\"dataframe\">\n",
              "  <thead>\n",
              "    <tr style=\"text-align: right;\">\n",
              "      <th></th>\n",
              "      <th>hours</th>\n",
              "      <th>u</th>\n",
              "      <th>v</th>\n",
              "      <th>ws</th>\n",
              "      <th>index_forecasted_weather</th>\n",
              "      <th>wp1</th>\n",
              "      <th>wd_sin</th>\n",
              "      <th>wd_cos</th>\n",
              "      <th>month_sin</th>\n",
              "      <th>month_cos</th>\n",
              "      <th>hour_sin</th>\n",
              "      <th>hour_cos</th>\n",
              "    </tr>\n",
              "  </thead>\n",
              "  <tbody>\n",
              "    <tr>\n",
              "      <th>2009-07-01 01:00:00</th>\n",
              "      <td>1</td>\n",
              "      <td>2.34</td>\n",
              "      <td>-0.79</td>\n",
              "      <td>2.47</td>\n",
              "      <td>1</td>\n",
              "      <td>0.085</td>\n",
              "      <td>0.947322</td>\n",
              "      <td>-0.320282</td>\n",
              "      <td>1.224647e-16</td>\n",
              "      <td>-1.0</td>\n",
              "      <td>0.258819</td>\n",
              "      <td>0.965926</td>\n",
              "    </tr>\n",
              "    <tr>\n",
              "      <th>2009-07-01 02:00:00</th>\n",
              "      <td>2</td>\n",
              "      <td>2.18</td>\n",
              "      <td>-0.99</td>\n",
              "      <td>2.40</td>\n",
              "      <td>1</td>\n",
              "      <td>0.020</td>\n",
              "      <td>0.911331</td>\n",
              "      <td>-0.411673</td>\n",
              "      <td>1.224647e-16</td>\n",
              "      <td>-1.0</td>\n",
              "      <td>0.500000</td>\n",
              "      <td>0.866025</td>\n",
              "    </tr>\n",
              "    <tr>\n",
              "      <th>2009-07-01 03:00:00</th>\n",
              "      <td>3</td>\n",
              "      <td>2.20</td>\n",
              "      <td>-1.21</td>\n",
              "      <td>2.51</td>\n",
              "      <td>1</td>\n",
              "      <td>0.060</td>\n",
              "      <td>0.877062</td>\n",
              "      <td>-0.480377</td>\n",
              "      <td>1.224647e-16</td>\n",
              "      <td>-1.0</td>\n",
              "      <td>0.707107</td>\n",
              "      <td>0.707107</td>\n",
              "    </tr>\n",
              "    <tr>\n",
              "      <th>2009-07-01 04:00:00</th>\n",
              "      <td>4</td>\n",
              "      <td>2.35</td>\n",
              "      <td>-1.40</td>\n",
              "      <td>2.73</td>\n",
              "      <td>1</td>\n",
              "      <td>0.045</td>\n",
              "      <td>0.858423</td>\n",
              "      <td>-0.512942</td>\n",
              "      <td>1.224647e-16</td>\n",
              "      <td>-1.0</td>\n",
              "      <td>0.866025</td>\n",
              "      <td>0.500000</td>\n",
              "    </tr>\n",
              "    <tr>\n",
              "      <th>2009-07-01 05:00:00</th>\n",
              "      <td>5</td>\n",
              "      <td>2.53</td>\n",
              "      <td>-1.47</td>\n",
              "      <td>2.93</td>\n",
              "      <td>1</td>\n",
              "      <td>0.035</td>\n",
              "      <td>0.864889</td>\n",
              "      <td>-0.501964</td>\n",
              "      <td>1.224647e-16</td>\n",
              "      <td>-1.0</td>\n",
              "      <td>0.965926</td>\n",
              "      <td>0.258819</td>\n",
              "    </tr>\n",
              "  </tbody>\n",
              "</table>\n",
              "</div>\n",
              "      <button class=\"colab-df-convert\" onclick=\"convertToInteractive('df-fe0b3854-c35d-475f-bb19-26928c7770c0')\"\n",
              "              title=\"Convert this dataframe to an interactive table.\"\n",
              "              style=\"display:none;\">\n",
              "        \n",
              "  <svg xmlns=\"http://www.w3.org/2000/svg\" height=\"24px\"viewBox=\"0 0 24 24\"\n",
              "       width=\"24px\">\n",
              "    <path d=\"M0 0h24v24H0V0z\" fill=\"none\"/>\n",
              "    <path d=\"M18.56 5.44l.94 2.06.94-2.06 2.06-.94-2.06-.94-.94-2.06-.94 2.06-2.06.94zm-11 1L8.5 8.5l.94-2.06 2.06-.94-2.06-.94L8.5 2.5l-.94 2.06-2.06.94zm10 10l.94 2.06.94-2.06 2.06-.94-2.06-.94-.94-2.06-.94 2.06-2.06.94z\"/><path d=\"M17.41 7.96l-1.37-1.37c-.4-.4-.92-.59-1.43-.59-.52 0-1.04.2-1.43.59L10.3 9.45l-7.72 7.72c-.78.78-.78 2.05 0 2.83L4 21.41c.39.39.9.59 1.41.59.51 0 1.02-.2 1.41-.59l7.78-7.78 2.81-2.81c.8-.78.8-2.07 0-2.86zM5.41 20L4 18.59l7.72-7.72 1.47 1.35L5.41 20z\"/>\n",
              "  </svg>\n",
              "      </button>\n",
              "      \n",
              "  <style>\n",
              "    .colab-df-container {\n",
              "      display:flex;\n",
              "      flex-wrap:wrap;\n",
              "      gap: 12px;\n",
              "    }\n",
              "\n",
              "    .colab-df-convert {\n",
              "      background-color: #E8F0FE;\n",
              "      border: none;\n",
              "      border-radius: 50%;\n",
              "      cursor: pointer;\n",
              "      display: none;\n",
              "      fill: #1967D2;\n",
              "      height: 32px;\n",
              "      padding: 0 0 0 0;\n",
              "      width: 32px;\n",
              "    }\n",
              "\n",
              "    .colab-df-convert:hover {\n",
              "      background-color: #E2EBFA;\n",
              "      box-shadow: 0px 1px 2px rgba(60, 64, 67, 0.3), 0px 1px 3px 1px rgba(60, 64, 67, 0.15);\n",
              "      fill: #174EA6;\n",
              "    }\n",
              "\n",
              "    [theme=dark] .colab-df-convert {\n",
              "      background-color: #3B4455;\n",
              "      fill: #D2E3FC;\n",
              "    }\n",
              "\n",
              "    [theme=dark] .colab-df-convert:hover {\n",
              "      background-color: #434B5C;\n",
              "      box-shadow: 0px 1px 3px 1px rgba(0, 0, 0, 0.15);\n",
              "      filter: drop-shadow(0px 1px 2px rgba(0, 0, 0, 0.3));\n",
              "      fill: #FFFFFF;\n",
              "    }\n",
              "  </style>\n",
              "\n",
              "      <script>\n",
              "        const buttonEl =\n",
              "          document.querySelector('#df-fe0b3854-c35d-475f-bb19-26928c7770c0 button.colab-df-convert');\n",
              "        buttonEl.style.display =\n",
              "          google.colab.kernel.accessAllowed ? 'block' : 'none';\n",
              "\n",
              "        async function convertToInteractive(key) {\n",
              "          const element = document.querySelector('#df-fe0b3854-c35d-475f-bb19-26928c7770c0');\n",
              "          const dataTable =\n",
              "            await google.colab.kernel.invokeFunction('convertToInteractive',\n",
              "                                                     [key], {});\n",
              "          if (!dataTable) return;\n",
              "\n",
              "          const docLinkHtml = 'Like what you see? Visit the ' +\n",
              "            '<a target=\"_blank\" href=https://colab.research.google.com/notebooks/data_table.ipynb>data table notebook</a>'\n",
              "            + ' to learn more about interactive tables.';\n",
              "          element.innerHTML = '';\n",
              "          dataTable['output_type'] = 'display_data';\n",
              "          await google.colab.output.renderOutput(dataTable, element);\n",
              "          const docLink = document.createElement('div');\n",
              "          docLink.innerHTML = docLinkHtml;\n",
              "          element.appendChild(docLink);\n",
              "        }\n",
              "      </script>\n",
              "    </div>\n",
              "  </div>\n",
              "  "
            ]
          },
          "metadata": {},
          "execution_count": 170
        }
      ]
    },
    {
      "cell_type": "code",
      "source": [
        "df_working_updated = df_working[df_working.index.isin(data_range_included_response_variables)]\n",
        "df_working_updated.loc[df_working_updated.index == END_DATE_TRAIN]"
      ],
      "metadata": {
        "id": "WOnGA4vhDX3T",
        "colab": {
          "base_uri": "https://localhost:8080/",
          "height": 378
        },
        "outputId": "025fa3d7-ea5a-40b9-e776-c859103fb09b"
      },
      "execution_count": null,
      "outputs": [
        {
          "output_type": "execute_result",
          "data": {
            "text/plain": [
              "            hours     u     v    ws  index_forecasted_weather    wp1  \\\n",
              "2011-01-01     48  3.20  4.72  5.70                         3  0.551   \n",
              "2011-01-01     36  3.16  4.10  5.18                         4  0.551   \n",
              "2011-01-01     24  3.61  4.67  5.90                         1  0.551   \n",
              "2011-01-01     12  3.46  4.87  5.98                         2  0.551   \n",
              "\n",
              "              wd_sin    wd_cos  month_sin  month_cos  hour_sin  hour_cos  \n",
              "2011-01-01  0.561650  0.827375        0.0        1.0       0.0       1.0  \n",
              "2011-01-01  0.610698  0.791863        0.0        1.0       0.0       1.0  \n",
              "2011-01-01  0.611251  0.791437        0.0        1.0       0.0       1.0  \n",
              "2011-01-01  0.579281  0.815128        0.0        1.0       0.0       1.0  "
            ],
            "text/html": [
              "\n",
              "  <div id=\"df-4a3d4a30-241d-438c-b54b-080837ad118e\">\n",
              "    <div class=\"colab-df-container\">\n",
              "      <div>\n",
              "<style scoped>\n",
              "    .dataframe tbody tr th:only-of-type {\n",
              "        vertical-align: middle;\n",
              "    }\n",
              "\n",
              "    .dataframe tbody tr th {\n",
              "        vertical-align: top;\n",
              "    }\n",
              "\n",
              "    .dataframe thead th {\n",
              "        text-align: right;\n",
              "    }\n",
              "</style>\n",
              "<table border=\"1\" class=\"dataframe\">\n",
              "  <thead>\n",
              "    <tr style=\"text-align: right;\">\n",
              "      <th></th>\n",
              "      <th>hours</th>\n",
              "      <th>u</th>\n",
              "      <th>v</th>\n",
              "      <th>ws</th>\n",
              "      <th>index_forecasted_weather</th>\n",
              "      <th>wp1</th>\n",
              "      <th>wd_sin</th>\n",
              "      <th>wd_cos</th>\n",
              "      <th>month_sin</th>\n",
              "      <th>month_cos</th>\n",
              "      <th>hour_sin</th>\n",
              "      <th>hour_cos</th>\n",
              "    </tr>\n",
              "  </thead>\n",
              "  <tbody>\n",
              "    <tr>\n",
              "      <th>2011-01-01</th>\n",
              "      <td>48</td>\n",
              "      <td>3.20</td>\n",
              "      <td>4.72</td>\n",
              "      <td>5.70</td>\n",
              "      <td>3</td>\n",
              "      <td>0.551</td>\n",
              "      <td>0.561650</td>\n",
              "      <td>0.827375</td>\n",
              "      <td>0.0</td>\n",
              "      <td>1.0</td>\n",
              "      <td>0.0</td>\n",
              "      <td>1.0</td>\n",
              "    </tr>\n",
              "    <tr>\n",
              "      <th>2011-01-01</th>\n",
              "      <td>36</td>\n",
              "      <td>3.16</td>\n",
              "      <td>4.10</td>\n",
              "      <td>5.18</td>\n",
              "      <td>4</td>\n",
              "      <td>0.551</td>\n",
              "      <td>0.610698</td>\n",
              "      <td>0.791863</td>\n",
              "      <td>0.0</td>\n",
              "      <td>1.0</td>\n",
              "      <td>0.0</td>\n",
              "      <td>1.0</td>\n",
              "    </tr>\n",
              "    <tr>\n",
              "      <th>2011-01-01</th>\n",
              "      <td>24</td>\n",
              "      <td>3.61</td>\n",
              "      <td>4.67</td>\n",
              "      <td>5.90</td>\n",
              "      <td>1</td>\n",
              "      <td>0.551</td>\n",
              "      <td>0.611251</td>\n",
              "      <td>0.791437</td>\n",
              "      <td>0.0</td>\n",
              "      <td>1.0</td>\n",
              "      <td>0.0</td>\n",
              "      <td>1.0</td>\n",
              "    </tr>\n",
              "    <tr>\n",
              "      <th>2011-01-01</th>\n",
              "      <td>12</td>\n",
              "      <td>3.46</td>\n",
              "      <td>4.87</td>\n",
              "      <td>5.98</td>\n",
              "      <td>2</td>\n",
              "      <td>0.551</td>\n",
              "      <td>0.579281</td>\n",
              "      <td>0.815128</td>\n",
              "      <td>0.0</td>\n",
              "      <td>1.0</td>\n",
              "      <td>0.0</td>\n",
              "      <td>1.0</td>\n",
              "    </tr>\n",
              "  </tbody>\n",
              "</table>\n",
              "</div>\n",
              "      <button class=\"colab-df-convert\" onclick=\"convertToInteractive('df-4a3d4a30-241d-438c-b54b-080837ad118e')\"\n",
              "              title=\"Convert this dataframe to an interactive table.\"\n",
              "              style=\"display:none;\">\n",
              "        \n",
              "  <svg xmlns=\"http://www.w3.org/2000/svg\" height=\"24px\"viewBox=\"0 0 24 24\"\n",
              "       width=\"24px\">\n",
              "    <path d=\"M0 0h24v24H0V0z\" fill=\"none\"/>\n",
              "    <path d=\"M18.56 5.44l.94 2.06.94-2.06 2.06-.94-2.06-.94-.94-2.06-.94 2.06-2.06.94zm-11 1L8.5 8.5l.94-2.06 2.06-.94-2.06-.94L8.5 2.5l-.94 2.06-2.06.94zm10 10l.94 2.06.94-2.06 2.06-.94-2.06-.94-.94-2.06-.94 2.06-2.06.94z\"/><path d=\"M17.41 7.96l-1.37-1.37c-.4-.4-.92-.59-1.43-.59-.52 0-1.04.2-1.43.59L10.3 9.45l-7.72 7.72c-.78.78-.78 2.05 0 2.83L4 21.41c.39.39.9.59 1.41.59.51 0 1.02-.2 1.41-.59l7.78-7.78 2.81-2.81c.8-.78.8-2.07 0-2.86zM5.41 20L4 18.59l7.72-7.72 1.47 1.35L5.41 20z\"/>\n",
              "  </svg>\n",
              "      </button>\n",
              "      \n",
              "  <style>\n",
              "    .colab-df-container {\n",
              "      display:flex;\n",
              "      flex-wrap:wrap;\n",
              "      gap: 12px;\n",
              "    }\n",
              "\n",
              "    .colab-df-convert {\n",
              "      background-color: #E8F0FE;\n",
              "      border: none;\n",
              "      border-radius: 50%;\n",
              "      cursor: pointer;\n",
              "      display: none;\n",
              "      fill: #1967D2;\n",
              "      height: 32px;\n",
              "      padding: 0 0 0 0;\n",
              "      width: 32px;\n",
              "    }\n",
              "\n",
              "    .colab-df-convert:hover {\n",
              "      background-color: #E2EBFA;\n",
              "      box-shadow: 0px 1px 2px rgba(60, 64, 67, 0.3), 0px 1px 3px 1px rgba(60, 64, 67, 0.15);\n",
              "      fill: #174EA6;\n",
              "    }\n",
              "\n",
              "    [theme=dark] .colab-df-convert {\n",
              "      background-color: #3B4455;\n",
              "      fill: #D2E3FC;\n",
              "    }\n",
              "\n",
              "    [theme=dark] .colab-df-convert:hover {\n",
              "      background-color: #434B5C;\n",
              "      box-shadow: 0px 1px 3px 1px rgba(0, 0, 0, 0.15);\n",
              "      filter: drop-shadow(0px 1px 2px rgba(0, 0, 0, 0.3));\n",
              "      fill: #FFFFFF;\n",
              "    }\n",
              "  </style>\n",
              "\n",
              "      <script>\n",
              "        const buttonEl =\n",
              "          document.querySelector('#df-4a3d4a30-241d-438c-b54b-080837ad118e button.colab-df-convert');\n",
              "        buttonEl.style.display =\n",
              "          google.colab.kernel.accessAllowed ? 'block' : 'none';\n",
              "\n",
              "        async function convertToInteractive(key) {\n",
              "          const element = document.querySelector('#df-4a3d4a30-241d-438c-b54b-080837ad118e');\n",
              "          const dataTable =\n",
              "            await google.colab.kernel.invokeFunction('convertToInteractive',\n",
              "                                                     [key], {});\n",
              "          if (!dataTable) return;\n",
              "\n",
              "          const docLinkHtml = 'Like what you see? Visit the ' +\n",
              "            '<a target=\"_blank\" href=https://colab.research.google.com/notebooks/data_table.ipynb>data table notebook</a>'\n",
              "            + ' to learn more about interactive tables.';\n",
              "          element.innerHTML = '';\n",
              "          dataTable['output_type'] = 'display_data';\n",
              "          await google.colab.output.renderOutput(dataTable, element);\n",
              "          const docLink = document.createElement('div');\n",
              "          docLink.innerHTML = docLinkHtml;\n",
              "          element.appendChild(docLink);\n",
              "        }\n",
              "      </script>\n",
              "    </div>\n",
              "  </div>\n",
              "  "
            ]
          },
          "metadata": {},
          "execution_count": 171
        }
      ]
    },
    {
      "cell_type": "code",
      "source": [
        "FILTER_UNTIL = df_working_updated.reset_index().loc[df_working_updated.index == END_DATE_TRAIN].index[0]\n",
        "df_working_updated = df_working_updated.iloc[0:FILTER_UNTIL + 1, :]\n",
        "\n",
        "list_toy = df_working_updated.columns.values.tolist()\n",
        "list_always = ['wp1', 'index_forecasted_weather']\n",
        "item_list = [item for item in list_toy if item not in list_always]\n",
        "df_working_updated = df_working_updated.filter([*item_list, *list_always])\n",
        "print(df_working_updated.shape[0] / 48)"
      ],
      "metadata": {
        "colab": {
          "base_uri": "https://localhost:8080/"
        },
        "id": "7oWX0XYnMZFG",
        "outputId": "68edf466-a7e9-49f8-e1bb-daac6c7cb910"
      },
      "execution_count": null,
      "outputs": [
        {
          "output_type": "stream",
          "name": "stdout",
          "text": [
            "1095.0\n"
          ]
        }
      ]
    },
    {
      "cell_type": "markdown",
      "source": [
        "## Transformations"
      ],
      "metadata": {
        "id": "KDxRX58w4IDj"
      }
    },
    {
      "cell_type": "code",
      "source": [
        "df_working_updated.head()"
      ],
      "metadata": {
        "colab": {
          "base_uri": "https://localhost:8080/",
          "height": 444
        },
        "id": "gHSGbq7W4raS",
        "outputId": "af04c198-b97d-4928-dcc4-0e8bcaa73d9d"
      },
      "execution_count": null,
      "outputs": [
        {
          "output_type": "execute_result",
          "data": {
            "text/plain": [
              "                     hours     u     v    ws    wd_sin    wd_cos  \\\n",
              "2009-07-01 01:00:00      1  2.34 -0.79  2.47  0.947322 -0.320282   \n",
              "2009-07-01 02:00:00      2  2.18 -0.99  2.40  0.911331 -0.411673   \n",
              "2009-07-01 03:00:00      3  2.20 -1.21  2.51  0.877062 -0.480377   \n",
              "2009-07-01 04:00:00      4  2.35 -1.40  2.73  0.858423 -0.512942   \n",
              "2009-07-01 05:00:00      5  2.53 -1.47  2.93  0.864889 -0.501964   \n",
              "\n",
              "                        month_sin  month_cos  hour_sin  hour_cos    wp1  \\\n",
              "2009-07-01 01:00:00  1.224647e-16       -1.0  0.258819  0.965926  0.085   \n",
              "2009-07-01 02:00:00  1.224647e-16       -1.0  0.500000  0.866025  0.020   \n",
              "2009-07-01 03:00:00  1.224647e-16       -1.0  0.707107  0.707107  0.060   \n",
              "2009-07-01 04:00:00  1.224647e-16       -1.0  0.866025  0.500000  0.045   \n",
              "2009-07-01 05:00:00  1.224647e-16       -1.0  0.965926  0.258819  0.035   \n",
              "\n",
              "                     index_forecasted_weather  \n",
              "2009-07-01 01:00:00                         1  \n",
              "2009-07-01 02:00:00                         1  \n",
              "2009-07-01 03:00:00                         1  \n",
              "2009-07-01 04:00:00                         1  \n",
              "2009-07-01 05:00:00                         1  "
            ],
            "text/html": [
              "\n",
              "  <div id=\"df-892af37b-b51f-4933-9c49-0cad56507ecd\">\n",
              "    <div class=\"colab-df-container\">\n",
              "      <div>\n",
              "<style scoped>\n",
              "    .dataframe tbody tr th:only-of-type {\n",
              "        vertical-align: middle;\n",
              "    }\n",
              "\n",
              "    .dataframe tbody tr th {\n",
              "        vertical-align: top;\n",
              "    }\n",
              "\n",
              "    .dataframe thead th {\n",
              "        text-align: right;\n",
              "    }\n",
              "</style>\n",
              "<table border=\"1\" class=\"dataframe\">\n",
              "  <thead>\n",
              "    <tr style=\"text-align: right;\">\n",
              "      <th></th>\n",
              "      <th>hours</th>\n",
              "      <th>u</th>\n",
              "      <th>v</th>\n",
              "      <th>ws</th>\n",
              "      <th>wd_sin</th>\n",
              "      <th>wd_cos</th>\n",
              "      <th>month_sin</th>\n",
              "      <th>month_cos</th>\n",
              "      <th>hour_sin</th>\n",
              "      <th>hour_cos</th>\n",
              "      <th>wp1</th>\n",
              "      <th>index_forecasted_weather</th>\n",
              "    </tr>\n",
              "  </thead>\n",
              "  <tbody>\n",
              "    <tr>\n",
              "      <th>2009-07-01 01:00:00</th>\n",
              "      <td>1</td>\n",
              "      <td>2.34</td>\n",
              "      <td>-0.79</td>\n",
              "      <td>2.47</td>\n",
              "      <td>0.947322</td>\n",
              "      <td>-0.320282</td>\n",
              "      <td>1.224647e-16</td>\n",
              "      <td>-1.0</td>\n",
              "      <td>0.258819</td>\n",
              "      <td>0.965926</td>\n",
              "      <td>0.085</td>\n",
              "      <td>1</td>\n",
              "    </tr>\n",
              "    <tr>\n",
              "      <th>2009-07-01 02:00:00</th>\n",
              "      <td>2</td>\n",
              "      <td>2.18</td>\n",
              "      <td>-0.99</td>\n",
              "      <td>2.40</td>\n",
              "      <td>0.911331</td>\n",
              "      <td>-0.411673</td>\n",
              "      <td>1.224647e-16</td>\n",
              "      <td>-1.0</td>\n",
              "      <td>0.500000</td>\n",
              "      <td>0.866025</td>\n",
              "      <td>0.020</td>\n",
              "      <td>1</td>\n",
              "    </tr>\n",
              "    <tr>\n",
              "      <th>2009-07-01 03:00:00</th>\n",
              "      <td>3</td>\n",
              "      <td>2.20</td>\n",
              "      <td>-1.21</td>\n",
              "      <td>2.51</td>\n",
              "      <td>0.877062</td>\n",
              "      <td>-0.480377</td>\n",
              "      <td>1.224647e-16</td>\n",
              "      <td>-1.0</td>\n",
              "      <td>0.707107</td>\n",
              "      <td>0.707107</td>\n",
              "      <td>0.060</td>\n",
              "      <td>1</td>\n",
              "    </tr>\n",
              "    <tr>\n",
              "      <th>2009-07-01 04:00:00</th>\n",
              "      <td>4</td>\n",
              "      <td>2.35</td>\n",
              "      <td>-1.40</td>\n",
              "      <td>2.73</td>\n",
              "      <td>0.858423</td>\n",
              "      <td>-0.512942</td>\n",
              "      <td>1.224647e-16</td>\n",
              "      <td>-1.0</td>\n",
              "      <td>0.866025</td>\n",
              "      <td>0.500000</td>\n",
              "      <td>0.045</td>\n",
              "      <td>1</td>\n",
              "    </tr>\n",
              "    <tr>\n",
              "      <th>2009-07-01 05:00:00</th>\n",
              "      <td>5</td>\n",
              "      <td>2.53</td>\n",
              "      <td>-1.47</td>\n",
              "      <td>2.93</td>\n",
              "      <td>0.864889</td>\n",
              "      <td>-0.501964</td>\n",
              "      <td>1.224647e-16</td>\n",
              "      <td>-1.0</td>\n",
              "      <td>0.965926</td>\n",
              "      <td>0.258819</td>\n",
              "      <td>0.035</td>\n",
              "      <td>1</td>\n",
              "    </tr>\n",
              "  </tbody>\n",
              "</table>\n",
              "</div>\n",
              "      <button class=\"colab-df-convert\" onclick=\"convertToInteractive('df-892af37b-b51f-4933-9c49-0cad56507ecd')\"\n",
              "              title=\"Convert this dataframe to an interactive table.\"\n",
              "              style=\"display:none;\">\n",
              "        \n",
              "  <svg xmlns=\"http://www.w3.org/2000/svg\" height=\"24px\"viewBox=\"0 0 24 24\"\n",
              "       width=\"24px\">\n",
              "    <path d=\"M0 0h24v24H0V0z\" fill=\"none\"/>\n",
              "    <path d=\"M18.56 5.44l.94 2.06.94-2.06 2.06-.94-2.06-.94-.94-2.06-.94 2.06-2.06.94zm-11 1L8.5 8.5l.94-2.06 2.06-.94-2.06-.94L8.5 2.5l-.94 2.06-2.06.94zm10 10l.94 2.06.94-2.06 2.06-.94-2.06-.94-.94-2.06-.94 2.06-2.06.94z\"/><path d=\"M17.41 7.96l-1.37-1.37c-.4-.4-.92-.59-1.43-.59-.52 0-1.04.2-1.43.59L10.3 9.45l-7.72 7.72c-.78.78-.78 2.05 0 2.83L4 21.41c.39.39.9.59 1.41.59.51 0 1.02-.2 1.41-.59l7.78-7.78 2.81-2.81c.8-.78.8-2.07 0-2.86zM5.41 20L4 18.59l7.72-7.72 1.47 1.35L5.41 20z\"/>\n",
              "  </svg>\n",
              "      </button>\n",
              "      \n",
              "  <style>\n",
              "    .colab-df-container {\n",
              "      display:flex;\n",
              "      flex-wrap:wrap;\n",
              "      gap: 12px;\n",
              "    }\n",
              "\n",
              "    .colab-df-convert {\n",
              "      background-color: #E8F0FE;\n",
              "      border: none;\n",
              "      border-radius: 50%;\n",
              "      cursor: pointer;\n",
              "      display: none;\n",
              "      fill: #1967D2;\n",
              "      height: 32px;\n",
              "      padding: 0 0 0 0;\n",
              "      width: 32px;\n",
              "    }\n",
              "\n",
              "    .colab-df-convert:hover {\n",
              "      background-color: #E2EBFA;\n",
              "      box-shadow: 0px 1px 2px rgba(60, 64, 67, 0.3), 0px 1px 3px 1px rgba(60, 64, 67, 0.15);\n",
              "      fill: #174EA6;\n",
              "    }\n",
              "\n",
              "    [theme=dark] .colab-df-convert {\n",
              "      background-color: #3B4455;\n",
              "      fill: #D2E3FC;\n",
              "    }\n",
              "\n",
              "    [theme=dark] .colab-df-convert:hover {\n",
              "      background-color: #434B5C;\n",
              "      box-shadow: 0px 1px 3px 1px rgba(0, 0, 0, 0.15);\n",
              "      filter: drop-shadow(0px 1px 2px rgba(0, 0, 0, 0.3));\n",
              "      fill: #FFFFFF;\n",
              "    }\n",
              "  </style>\n",
              "\n",
              "      <script>\n",
              "        const buttonEl =\n",
              "          document.querySelector('#df-892af37b-b51f-4933-9c49-0cad56507ecd button.colab-df-convert');\n",
              "        buttonEl.style.display =\n",
              "          google.colab.kernel.accessAllowed ? 'block' : 'none';\n",
              "\n",
              "        async function convertToInteractive(key) {\n",
              "          const element = document.querySelector('#df-892af37b-b51f-4933-9c49-0cad56507ecd');\n",
              "          const dataTable =\n",
              "            await google.colab.kernel.invokeFunction('convertToInteractive',\n",
              "                                                     [key], {});\n",
              "          if (!dataTable) return;\n",
              "\n",
              "          const docLinkHtml = 'Like what you see? Visit the ' +\n",
              "            '<a target=\"_blank\" href=https://colab.research.google.com/notebooks/data_table.ipynb>data table notebook</a>'\n",
              "            + ' to learn more about interactive tables.';\n",
              "          element.innerHTML = '';\n",
              "          dataTable['output_type'] = 'display_data';\n",
              "          await google.colab.output.renderOutput(dataTable, element);\n",
              "          const docLink = document.createElement('div');\n",
              "          docLink.innerHTML = docLinkHtml;\n",
              "          element.appendChild(docLink);\n",
              "        }\n",
              "      </script>\n",
              "    </div>\n",
              "  </div>\n",
              "  "
            ]
          },
          "metadata": {},
          "execution_count": 173
        }
      ]
    },
    {
      "cell_type": "code",
      "source": [
        "# def transformation(lambda_, y):\n",
        "#     epsilon = 1e-10\n",
        "#     y = np.where(y > 0, y, epsilon)\n",
        "#     return np.log((y**lambda_) / (1 - y**lambda_)) / lambda_\n",
        "\n",
        "# y_transformed = transformation(0.5, df_working_updated.wp1)\n",
        "# y_transformed_mixmax = (y_transformed - np.min(y_transformed)) / (np.max(y_transformed) - np.min(y_transformed))"
      ],
      "metadata": {
        "id": "qUjjCp514MoW"
      },
      "execution_count": null,
      "outputs": []
    },
    {
      "cell_type": "code",
      "source": [
        "ws_transformed = np.sqrt(df_working_updated.ws)\n",
        "df_working_updated[\"ws\"] = ws_transformed\n",
        "# df_working_updated[\"wp1\"] = y_transformed_mixmax\n",
        "df_working_updated.head()"
      ],
      "metadata": {
        "colab": {
          "base_uri": "https://localhost:8080/",
          "height": 444
        },
        "id": "jAV-4h8o5VXI",
        "outputId": "4cb5bb16-dfaf-4896-8970-1d8863d75a2f"
      },
      "execution_count": null,
      "outputs": [
        {
          "output_type": "execute_result",
          "data": {
            "text/plain": [
              "                     hours     u     v        ws    wd_sin    wd_cos  \\\n",
              "2009-07-01 01:00:00      1  2.34 -0.79  1.571623  0.947322 -0.320282   \n",
              "2009-07-01 02:00:00      2  2.18 -0.99  1.549193  0.911331 -0.411673   \n",
              "2009-07-01 03:00:00      3  2.20 -1.21  1.584298  0.877062 -0.480377   \n",
              "2009-07-01 04:00:00      4  2.35 -1.40  1.652271  0.858423 -0.512942   \n",
              "2009-07-01 05:00:00      5  2.53 -1.47  1.711724  0.864889 -0.501964   \n",
              "\n",
              "                        month_sin  month_cos  hour_sin  hour_cos    wp1  \\\n",
              "2009-07-01 01:00:00  1.224647e-16       -1.0  0.258819  0.965926  0.085   \n",
              "2009-07-01 02:00:00  1.224647e-16       -1.0  0.500000  0.866025  0.020   \n",
              "2009-07-01 03:00:00  1.224647e-16       -1.0  0.707107  0.707107  0.060   \n",
              "2009-07-01 04:00:00  1.224647e-16       -1.0  0.866025  0.500000  0.045   \n",
              "2009-07-01 05:00:00  1.224647e-16       -1.0  0.965926  0.258819  0.035   \n",
              "\n",
              "                     index_forecasted_weather  \n",
              "2009-07-01 01:00:00                         1  \n",
              "2009-07-01 02:00:00                         1  \n",
              "2009-07-01 03:00:00                         1  \n",
              "2009-07-01 04:00:00                         1  \n",
              "2009-07-01 05:00:00                         1  "
            ],
            "text/html": [
              "\n",
              "  <div id=\"df-ce14791d-9e0f-4b03-b592-f4bfe7275eb1\">\n",
              "    <div class=\"colab-df-container\">\n",
              "      <div>\n",
              "<style scoped>\n",
              "    .dataframe tbody tr th:only-of-type {\n",
              "        vertical-align: middle;\n",
              "    }\n",
              "\n",
              "    .dataframe tbody tr th {\n",
              "        vertical-align: top;\n",
              "    }\n",
              "\n",
              "    .dataframe thead th {\n",
              "        text-align: right;\n",
              "    }\n",
              "</style>\n",
              "<table border=\"1\" class=\"dataframe\">\n",
              "  <thead>\n",
              "    <tr style=\"text-align: right;\">\n",
              "      <th></th>\n",
              "      <th>hours</th>\n",
              "      <th>u</th>\n",
              "      <th>v</th>\n",
              "      <th>ws</th>\n",
              "      <th>wd_sin</th>\n",
              "      <th>wd_cos</th>\n",
              "      <th>month_sin</th>\n",
              "      <th>month_cos</th>\n",
              "      <th>hour_sin</th>\n",
              "      <th>hour_cos</th>\n",
              "      <th>wp1</th>\n",
              "      <th>index_forecasted_weather</th>\n",
              "    </tr>\n",
              "  </thead>\n",
              "  <tbody>\n",
              "    <tr>\n",
              "      <th>2009-07-01 01:00:00</th>\n",
              "      <td>1</td>\n",
              "      <td>2.34</td>\n",
              "      <td>-0.79</td>\n",
              "      <td>1.571623</td>\n",
              "      <td>0.947322</td>\n",
              "      <td>-0.320282</td>\n",
              "      <td>1.224647e-16</td>\n",
              "      <td>-1.0</td>\n",
              "      <td>0.258819</td>\n",
              "      <td>0.965926</td>\n",
              "      <td>0.085</td>\n",
              "      <td>1</td>\n",
              "    </tr>\n",
              "    <tr>\n",
              "      <th>2009-07-01 02:00:00</th>\n",
              "      <td>2</td>\n",
              "      <td>2.18</td>\n",
              "      <td>-0.99</td>\n",
              "      <td>1.549193</td>\n",
              "      <td>0.911331</td>\n",
              "      <td>-0.411673</td>\n",
              "      <td>1.224647e-16</td>\n",
              "      <td>-1.0</td>\n",
              "      <td>0.500000</td>\n",
              "      <td>0.866025</td>\n",
              "      <td>0.020</td>\n",
              "      <td>1</td>\n",
              "    </tr>\n",
              "    <tr>\n",
              "      <th>2009-07-01 03:00:00</th>\n",
              "      <td>3</td>\n",
              "      <td>2.20</td>\n",
              "      <td>-1.21</td>\n",
              "      <td>1.584298</td>\n",
              "      <td>0.877062</td>\n",
              "      <td>-0.480377</td>\n",
              "      <td>1.224647e-16</td>\n",
              "      <td>-1.0</td>\n",
              "      <td>0.707107</td>\n",
              "      <td>0.707107</td>\n",
              "      <td>0.060</td>\n",
              "      <td>1</td>\n",
              "    </tr>\n",
              "    <tr>\n",
              "      <th>2009-07-01 04:00:00</th>\n",
              "      <td>4</td>\n",
              "      <td>2.35</td>\n",
              "      <td>-1.40</td>\n",
              "      <td>1.652271</td>\n",
              "      <td>0.858423</td>\n",
              "      <td>-0.512942</td>\n",
              "      <td>1.224647e-16</td>\n",
              "      <td>-1.0</td>\n",
              "      <td>0.866025</td>\n",
              "      <td>0.500000</td>\n",
              "      <td>0.045</td>\n",
              "      <td>1</td>\n",
              "    </tr>\n",
              "    <tr>\n",
              "      <th>2009-07-01 05:00:00</th>\n",
              "      <td>5</td>\n",
              "      <td>2.53</td>\n",
              "      <td>-1.47</td>\n",
              "      <td>1.711724</td>\n",
              "      <td>0.864889</td>\n",
              "      <td>-0.501964</td>\n",
              "      <td>1.224647e-16</td>\n",
              "      <td>-1.0</td>\n",
              "      <td>0.965926</td>\n",
              "      <td>0.258819</td>\n",
              "      <td>0.035</td>\n",
              "      <td>1</td>\n",
              "    </tr>\n",
              "  </tbody>\n",
              "</table>\n",
              "</div>\n",
              "      <button class=\"colab-df-convert\" onclick=\"convertToInteractive('df-ce14791d-9e0f-4b03-b592-f4bfe7275eb1')\"\n",
              "              title=\"Convert this dataframe to an interactive table.\"\n",
              "              style=\"display:none;\">\n",
              "        \n",
              "  <svg xmlns=\"http://www.w3.org/2000/svg\" height=\"24px\"viewBox=\"0 0 24 24\"\n",
              "       width=\"24px\">\n",
              "    <path d=\"M0 0h24v24H0V0z\" fill=\"none\"/>\n",
              "    <path d=\"M18.56 5.44l.94 2.06.94-2.06 2.06-.94-2.06-.94-.94-2.06-.94 2.06-2.06.94zm-11 1L8.5 8.5l.94-2.06 2.06-.94-2.06-.94L8.5 2.5l-.94 2.06-2.06.94zm10 10l.94 2.06.94-2.06 2.06-.94-2.06-.94-.94-2.06-.94 2.06-2.06.94z\"/><path d=\"M17.41 7.96l-1.37-1.37c-.4-.4-.92-.59-1.43-.59-.52 0-1.04.2-1.43.59L10.3 9.45l-7.72 7.72c-.78.78-.78 2.05 0 2.83L4 21.41c.39.39.9.59 1.41.59.51 0 1.02-.2 1.41-.59l7.78-7.78 2.81-2.81c.8-.78.8-2.07 0-2.86zM5.41 20L4 18.59l7.72-7.72 1.47 1.35L5.41 20z\"/>\n",
              "  </svg>\n",
              "      </button>\n",
              "      \n",
              "  <style>\n",
              "    .colab-df-container {\n",
              "      display:flex;\n",
              "      flex-wrap:wrap;\n",
              "      gap: 12px;\n",
              "    }\n",
              "\n",
              "    .colab-df-convert {\n",
              "      background-color: #E8F0FE;\n",
              "      border: none;\n",
              "      border-radius: 50%;\n",
              "      cursor: pointer;\n",
              "      display: none;\n",
              "      fill: #1967D2;\n",
              "      height: 32px;\n",
              "      padding: 0 0 0 0;\n",
              "      width: 32px;\n",
              "    }\n",
              "\n",
              "    .colab-df-convert:hover {\n",
              "      background-color: #E2EBFA;\n",
              "      box-shadow: 0px 1px 2px rgba(60, 64, 67, 0.3), 0px 1px 3px 1px rgba(60, 64, 67, 0.15);\n",
              "      fill: #174EA6;\n",
              "    }\n",
              "\n",
              "    [theme=dark] .colab-df-convert {\n",
              "      background-color: #3B4455;\n",
              "      fill: #D2E3FC;\n",
              "    }\n",
              "\n",
              "    [theme=dark] .colab-df-convert:hover {\n",
              "      background-color: #434B5C;\n",
              "      box-shadow: 0px 1px 3px 1px rgba(0, 0, 0, 0.15);\n",
              "      filter: drop-shadow(0px 1px 2px rgba(0, 0, 0, 0.3));\n",
              "      fill: #FFFFFF;\n",
              "    }\n",
              "  </style>\n",
              "\n",
              "      <script>\n",
              "        const buttonEl =\n",
              "          document.querySelector('#df-ce14791d-9e0f-4b03-b592-f4bfe7275eb1 button.colab-df-convert');\n",
              "        buttonEl.style.display =\n",
              "          google.colab.kernel.accessAllowed ? 'block' : 'none';\n",
              "\n",
              "        async function convertToInteractive(key) {\n",
              "          const element = document.querySelector('#df-ce14791d-9e0f-4b03-b592-f4bfe7275eb1');\n",
              "          const dataTable =\n",
              "            await google.colab.kernel.invokeFunction('convertToInteractive',\n",
              "                                                     [key], {});\n",
              "          if (!dataTable) return;\n",
              "\n",
              "          const docLinkHtml = 'Like what you see? Visit the ' +\n",
              "            '<a target=\"_blank\" href=https://colab.research.google.com/notebooks/data_table.ipynb>data table notebook</a>'\n",
              "            + ' to learn more about interactive tables.';\n",
              "          element.innerHTML = '';\n",
              "          dataTable['output_type'] = 'display_data';\n",
              "          await google.colab.output.renderOutput(dataTable, element);\n",
              "          const docLink = document.createElement('div');\n",
              "          docLink.innerHTML = docLinkHtml;\n",
              "          element.appendChild(docLink);\n",
              "        }\n",
              "      </script>\n",
              "    </div>\n",
              "  </div>\n",
              "  "
            ]
          },
          "metadata": {},
          "execution_count": 174
        }
      ]
    },
    {
      "cell_type": "code",
      "source": [
        "mean_ws = np.mean(df_working_updated[\"ws\"]); std_ws = np.std(df_working_updated[\"ws\"])\n",
        "mean_wd_sin = np.mean(df_working_updated[\"wd_sin\"]); std_wd_sin = np.std(df_working_updated[\"wd_sin\"])\n",
        "mean_wd_cos = np.mean(df_working_updated[\"wd_cos\"]); std_wd_cos = np.std(df_working_updated[\"wd_cos\"])\n",
        "mean_u = np.mean(df_working_updated[\"u\"]); std_u = np.std(df_working_updated[\"u\"])\n",
        "mean_v = np.mean(df_working_updated[\"v\"]); std_v = np.std(df_working_updated[\"v\"])\n",
        "mean_month_sin = np.mean(df_working_updated[\"month_sin\"]); std_month_sin = np.std(df_working_updated[\"month_sin\"])\n",
        "mean_month_cos = np.mean(df_working_updated[\"month_cos\"]); std_month_cos = np.std(df_working_updated[\"month_cos\"])\n",
        "mean_hour_sin = np.mean(df_working_updated[\"hour_sin\"]); std_hour_sin = np.std(df_working_updated[\"hour_sin\"])\n",
        "mean_hour_cos = np.mean(df_working_updated[\"hour_cos\"]); std_hour_cos = np.std(df_working_updated[\"hour_cos\"])"
      ],
      "metadata": {
        "id": "Kv2c4rjB4Jkz"
      },
      "execution_count": null,
      "outputs": []
    },
    {
      "cell_type": "code",
      "source": [
        "df_working_updated[\"ws\"] = (df_working_updated[\"ws\"] - mean_ws) / std_ws\n",
        "df_working_updated[\"wd_sin\"] = (df_working_updated[\"wd_sin\"] - mean_wd_sin) / std_wd_sin\n",
        "df_working_updated[\"wd_cos\"] = (df_working_updated[\"wd_cos\"] - mean_wd_cos) / std_wd_cos\n",
        "df_working_updated[\"u\"] = (df_working_updated[\"u\"] - mean_u) / std_u\n",
        "df_working_updated[\"v\"] = (df_working_updated[\"v\"] - mean_v) / std_v\n",
        "df_working_updated[\"month_sin\"] = (df_working_updated[\"month_sin\"] - mean_month_sin) / std_month_sin\n",
        "df_working_updated[\"month_cos\"] = (df_working_updated[\"month_cos\"] - mean_month_cos) / std_month_cos\n",
        "df_working_updated[\"hour_sin\"] = (df_working_updated[\"hour_sin\"] - mean_hour_sin) / std_hour_sin\n",
        "df_working_updated[\"hour_cos\"] = (df_working_updated[\"hour_cos\"] - mean_hour_cos) / std_hour_cos"
      ],
      "metadata": {
        "id": "l5WJCW5z4N96"
      },
      "execution_count": null,
      "outputs": []
    },
    {
      "cell_type": "code",
      "source": [
        "df_working_updated.head()"
      ],
      "metadata": {
        "colab": {
          "base_uri": "https://localhost:8080/",
          "height": 444
        },
        "id": "H2K7SUgy8H2O",
        "outputId": "0d8a62d8-4eba-44d2-e7af-ab7c70973e87"
      },
      "execution_count": null,
      "outputs": [
        {
          "output_type": "execute_result",
          "data": {
            "text/plain": [
              "                     hours         u         v        ws    wd_sin    wd_cos  \\\n",
              "2009-07-01 01:00:00      1  0.233662 -0.198982 -0.862185  0.928484 -0.382437   \n",
              "2009-07-01 02:00:00      2  0.181121 -0.268072 -0.910722  0.873757 -0.518663   \n",
              "2009-07-01 03:00:00      3  0.187689 -0.344071 -0.834758  0.821647 -0.621071   \n",
              "2009-07-01 04:00:00      4  0.236946 -0.409707 -0.687669  0.793305 -0.669613   \n",
              "2009-07-01 05:00:00      5  0.296054 -0.433888 -0.559017  0.803136 -0.653249   \n",
              "\n",
              "                     month_sin  month_cos  hour_sin  hour_cos    wp1  \\\n",
              "2009-07-01 01:00:00   0.310662  -1.335029  0.366025  1.366025  0.085   \n",
              "2009-07-01 02:00:00   0.310662  -1.335029  0.707107  1.224745  0.020   \n",
              "2009-07-01 03:00:00   0.310662  -1.335029  1.000000  1.000000  0.060   \n",
              "2009-07-01 04:00:00   0.310662  -1.335029  1.224745  0.707107  0.045   \n",
              "2009-07-01 05:00:00   0.310662  -1.335029  1.366025  0.366025  0.035   \n",
              "\n",
              "                     index_forecasted_weather  \n",
              "2009-07-01 01:00:00                         1  \n",
              "2009-07-01 02:00:00                         1  \n",
              "2009-07-01 03:00:00                         1  \n",
              "2009-07-01 04:00:00                         1  \n",
              "2009-07-01 05:00:00                         1  "
            ],
            "text/html": [
              "\n",
              "  <div id=\"df-86d2682c-234e-46d4-b377-e08e61eb8851\">\n",
              "    <div class=\"colab-df-container\">\n",
              "      <div>\n",
              "<style scoped>\n",
              "    .dataframe tbody tr th:only-of-type {\n",
              "        vertical-align: middle;\n",
              "    }\n",
              "\n",
              "    .dataframe tbody tr th {\n",
              "        vertical-align: top;\n",
              "    }\n",
              "\n",
              "    .dataframe thead th {\n",
              "        text-align: right;\n",
              "    }\n",
              "</style>\n",
              "<table border=\"1\" class=\"dataframe\">\n",
              "  <thead>\n",
              "    <tr style=\"text-align: right;\">\n",
              "      <th></th>\n",
              "      <th>hours</th>\n",
              "      <th>u</th>\n",
              "      <th>v</th>\n",
              "      <th>ws</th>\n",
              "      <th>wd_sin</th>\n",
              "      <th>wd_cos</th>\n",
              "      <th>month_sin</th>\n",
              "      <th>month_cos</th>\n",
              "      <th>hour_sin</th>\n",
              "      <th>hour_cos</th>\n",
              "      <th>wp1</th>\n",
              "      <th>index_forecasted_weather</th>\n",
              "    </tr>\n",
              "  </thead>\n",
              "  <tbody>\n",
              "    <tr>\n",
              "      <th>2009-07-01 01:00:00</th>\n",
              "      <td>1</td>\n",
              "      <td>0.233662</td>\n",
              "      <td>-0.198982</td>\n",
              "      <td>-0.862185</td>\n",
              "      <td>0.928484</td>\n",
              "      <td>-0.382437</td>\n",
              "      <td>0.310662</td>\n",
              "      <td>-1.335029</td>\n",
              "      <td>0.366025</td>\n",
              "      <td>1.366025</td>\n",
              "      <td>0.085</td>\n",
              "      <td>1</td>\n",
              "    </tr>\n",
              "    <tr>\n",
              "      <th>2009-07-01 02:00:00</th>\n",
              "      <td>2</td>\n",
              "      <td>0.181121</td>\n",
              "      <td>-0.268072</td>\n",
              "      <td>-0.910722</td>\n",
              "      <td>0.873757</td>\n",
              "      <td>-0.518663</td>\n",
              "      <td>0.310662</td>\n",
              "      <td>-1.335029</td>\n",
              "      <td>0.707107</td>\n",
              "      <td>1.224745</td>\n",
              "      <td>0.020</td>\n",
              "      <td>1</td>\n",
              "    </tr>\n",
              "    <tr>\n",
              "      <th>2009-07-01 03:00:00</th>\n",
              "      <td>3</td>\n",
              "      <td>0.187689</td>\n",
              "      <td>-0.344071</td>\n",
              "      <td>-0.834758</td>\n",
              "      <td>0.821647</td>\n",
              "      <td>-0.621071</td>\n",
              "      <td>0.310662</td>\n",
              "      <td>-1.335029</td>\n",
              "      <td>1.000000</td>\n",
              "      <td>1.000000</td>\n",
              "      <td>0.060</td>\n",
              "      <td>1</td>\n",
              "    </tr>\n",
              "    <tr>\n",
              "      <th>2009-07-01 04:00:00</th>\n",
              "      <td>4</td>\n",
              "      <td>0.236946</td>\n",
              "      <td>-0.409707</td>\n",
              "      <td>-0.687669</td>\n",
              "      <td>0.793305</td>\n",
              "      <td>-0.669613</td>\n",
              "      <td>0.310662</td>\n",
              "      <td>-1.335029</td>\n",
              "      <td>1.224745</td>\n",
              "      <td>0.707107</td>\n",
              "      <td>0.045</td>\n",
              "      <td>1</td>\n",
              "    </tr>\n",
              "    <tr>\n",
              "      <th>2009-07-01 05:00:00</th>\n",
              "      <td>5</td>\n",
              "      <td>0.296054</td>\n",
              "      <td>-0.433888</td>\n",
              "      <td>-0.559017</td>\n",
              "      <td>0.803136</td>\n",
              "      <td>-0.653249</td>\n",
              "      <td>0.310662</td>\n",
              "      <td>-1.335029</td>\n",
              "      <td>1.366025</td>\n",
              "      <td>0.366025</td>\n",
              "      <td>0.035</td>\n",
              "      <td>1</td>\n",
              "    </tr>\n",
              "  </tbody>\n",
              "</table>\n",
              "</div>\n",
              "      <button class=\"colab-df-convert\" onclick=\"convertToInteractive('df-86d2682c-234e-46d4-b377-e08e61eb8851')\"\n",
              "              title=\"Convert this dataframe to an interactive table.\"\n",
              "              style=\"display:none;\">\n",
              "        \n",
              "  <svg xmlns=\"http://www.w3.org/2000/svg\" height=\"24px\"viewBox=\"0 0 24 24\"\n",
              "       width=\"24px\">\n",
              "    <path d=\"M0 0h24v24H0V0z\" fill=\"none\"/>\n",
              "    <path d=\"M18.56 5.44l.94 2.06.94-2.06 2.06-.94-2.06-.94-.94-2.06-.94 2.06-2.06.94zm-11 1L8.5 8.5l.94-2.06 2.06-.94-2.06-.94L8.5 2.5l-.94 2.06-2.06.94zm10 10l.94 2.06.94-2.06 2.06-.94-2.06-.94-.94-2.06-.94 2.06-2.06.94z\"/><path d=\"M17.41 7.96l-1.37-1.37c-.4-.4-.92-.59-1.43-.59-.52 0-1.04.2-1.43.59L10.3 9.45l-7.72 7.72c-.78.78-.78 2.05 0 2.83L4 21.41c.39.39.9.59 1.41.59.51 0 1.02-.2 1.41-.59l7.78-7.78 2.81-2.81c.8-.78.8-2.07 0-2.86zM5.41 20L4 18.59l7.72-7.72 1.47 1.35L5.41 20z\"/>\n",
              "  </svg>\n",
              "      </button>\n",
              "      \n",
              "  <style>\n",
              "    .colab-df-container {\n",
              "      display:flex;\n",
              "      flex-wrap:wrap;\n",
              "      gap: 12px;\n",
              "    }\n",
              "\n",
              "    .colab-df-convert {\n",
              "      background-color: #E8F0FE;\n",
              "      border: none;\n",
              "      border-radius: 50%;\n",
              "      cursor: pointer;\n",
              "      display: none;\n",
              "      fill: #1967D2;\n",
              "      height: 32px;\n",
              "      padding: 0 0 0 0;\n",
              "      width: 32px;\n",
              "    }\n",
              "\n",
              "    .colab-df-convert:hover {\n",
              "      background-color: #E2EBFA;\n",
              "      box-shadow: 0px 1px 2px rgba(60, 64, 67, 0.3), 0px 1px 3px 1px rgba(60, 64, 67, 0.15);\n",
              "      fill: #174EA6;\n",
              "    }\n",
              "\n",
              "    [theme=dark] .colab-df-convert {\n",
              "      background-color: #3B4455;\n",
              "      fill: #D2E3FC;\n",
              "    }\n",
              "\n",
              "    [theme=dark] .colab-df-convert:hover {\n",
              "      background-color: #434B5C;\n",
              "      box-shadow: 0px 1px 3px 1px rgba(0, 0, 0, 0.15);\n",
              "      filter: drop-shadow(0px 1px 2px rgba(0, 0, 0, 0.3));\n",
              "      fill: #FFFFFF;\n",
              "    }\n",
              "  </style>\n",
              "\n",
              "      <script>\n",
              "        const buttonEl =\n",
              "          document.querySelector('#df-86d2682c-234e-46d4-b377-e08e61eb8851 button.colab-df-convert');\n",
              "        buttonEl.style.display =\n",
              "          google.colab.kernel.accessAllowed ? 'block' : 'none';\n",
              "\n",
              "        async function convertToInteractive(key) {\n",
              "          const element = document.querySelector('#df-86d2682c-234e-46d4-b377-e08e61eb8851');\n",
              "          const dataTable =\n",
              "            await google.colab.kernel.invokeFunction('convertToInteractive',\n",
              "                                                     [key], {});\n",
              "          if (!dataTable) return;\n",
              "\n",
              "          const docLinkHtml = 'Like what you see? Visit the ' +\n",
              "            '<a target=\"_blank\" href=https://colab.research.google.com/notebooks/data_table.ipynb>data table notebook</a>'\n",
              "            + ' to learn more about interactive tables.';\n",
              "          element.innerHTML = '';\n",
              "          dataTable['output_type'] = 'display_data';\n",
              "          await google.colab.output.renderOutput(dataTable, element);\n",
              "          const docLink = document.createElement('div');\n",
              "          docLink.innerHTML = docLinkHtml;\n",
              "          element.appendChild(docLink);\n",
              "        }\n",
              "      </script>\n",
              "    </div>\n",
              "  </div>\n",
              "  "
            ]
          },
          "metadata": {},
          "execution_count": 177
        }
      ]
    },
    {
      "cell_type": "code",
      "source": [
        "HOURS_OF_INTEREST = np.arange(1, 13, 1)\n",
        "df_working_sliding_window = df_working_updated \\\n",
        "    .loc[lambda df: df.hours.isin(HOURS_OF_INTEREST)]"
      ],
      "metadata": {
        "id": "To7zmy2gyuO5"
      },
      "execution_count": null,
      "outputs": []
    },
    {
      "cell_type": "code",
      "source": [
        "# it's for the sliding window so it doesn't have to be to the very end\n",
        "print(df_working_sliding_window.index.is_unique)\n",
        "df_working_sliding_window.tail()"
      ],
      "metadata": {
        "colab": {
          "base_uri": "https://localhost:8080/",
          "height": 461
        },
        "id": "dM0ZggxHzV2X",
        "outputId": "ae499cf2-b89e-48bf-ab85-513d47bea35e"
      },
      "execution_count": null,
      "outputs": [
        {
          "output_type": "stream",
          "name": "stdout",
          "text": [
            "True\n"
          ]
        },
        {
          "output_type": "execute_result",
          "data": {
            "text/plain": [
              "                     hours         u         v        ws    wd_sin    wd_cos  \\\n",
              "2010-12-30 08:00:00      8  0.207391  1.538628  0.482800  0.203273  1.410349   \n",
              "2010-12-30 09:00:00      9  0.062905  1.618082  0.487731  0.062043  1.475259   \n",
              "2010-12-30 10:00:00     10 -0.045460  1.576628  0.378044 -0.020466  1.505531   \n",
              "2010-12-30 11:00:00     11 -0.098001  1.493720  0.234575 -0.042371  1.512685   \n",
              "2010-12-30 12:00:00     12 -0.061879  1.476447  0.229367 -0.005424  1.500408   \n",
              "\n",
              "                     month_sin  month_cos      hour_sin  hour_cos    wp1  \\\n",
              "2010-12-30 08:00:00  -0.429685    1.31365  1.224745e+00 -0.707107  0.015   \n",
              "2010-12-30 09:00:00  -0.429685    1.31365  1.000000e+00 -1.000000  0.020   \n",
              "2010-12-30 10:00:00  -0.429685    1.31365  7.071068e-01 -1.224745  0.045   \n",
              "2010-12-30 11:00:00  -0.429685    1.31365  3.660254e-01 -1.366025  0.045   \n",
              "2010-12-30 12:00:00  -0.429685    1.31365  1.602146e-16 -1.414214  0.065   \n",
              "\n",
              "                     index_forecasted_weather  \n",
              "2010-12-30 08:00:00                         3  \n",
              "2010-12-30 09:00:00                         3  \n",
              "2010-12-30 10:00:00                         3  \n",
              "2010-12-30 11:00:00                         3  \n",
              "2010-12-30 12:00:00                         3  "
            ],
            "text/html": [
              "\n",
              "  <div id=\"df-56d52317-4f2c-4ed4-8a38-5fd8b0908ea4\">\n",
              "    <div class=\"colab-df-container\">\n",
              "      <div>\n",
              "<style scoped>\n",
              "    .dataframe tbody tr th:only-of-type {\n",
              "        vertical-align: middle;\n",
              "    }\n",
              "\n",
              "    .dataframe tbody tr th {\n",
              "        vertical-align: top;\n",
              "    }\n",
              "\n",
              "    .dataframe thead th {\n",
              "        text-align: right;\n",
              "    }\n",
              "</style>\n",
              "<table border=\"1\" class=\"dataframe\">\n",
              "  <thead>\n",
              "    <tr style=\"text-align: right;\">\n",
              "      <th></th>\n",
              "      <th>hours</th>\n",
              "      <th>u</th>\n",
              "      <th>v</th>\n",
              "      <th>ws</th>\n",
              "      <th>wd_sin</th>\n",
              "      <th>wd_cos</th>\n",
              "      <th>month_sin</th>\n",
              "      <th>month_cos</th>\n",
              "      <th>hour_sin</th>\n",
              "      <th>hour_cos</th>\n",
              "      <th>wp1</th>\n",
              "      <th>index_forecasted_weather</th>\n",
              "    </tr>\n",
              "  </thead>\n",
              "  <tbody>\n",
              "    <tr>\n",
              "      <th>2010-12-30 08:00:00</th>\n",
              "      <td>8</td>\n",
              "      <td>0.207391</td>\n",
              "      <td>1.538628</td>\n",
              "      <td>0.482800</td>\n",
              "      <td>0.203273</td>\n",
              "      <td>1.410349</td>\n",
              "      <td>-0.429685</td>\n",
              "      <td>1.31365</td>\n",
              "      <td>1.224745e+00</td>\n",
              "      <td>-0.707107</td>\n",
              "      <td>0.015</td>\n",
              "      <td>3</td>\n",
              "    </tr>\n",
              "    <tr>\n",
              "      <th>2010-12-30 09:00:00</th>\n",
              "      <td>9</td>\n",
              "      <td>0.062905</td>\n",
              "      <td>1.618082</td>\n",
              "      <td>0.487731</td>\n",
              "      <td>0.062043</td>\n",
              "      <td>1.475259</td>\n",
              "      <td>-0.429685</td>\n",
              "      <td>1.31365</td>\n",
              "      <td>1.000000e+00</td>\n",
              "      <td>-1.000000</td>\n",
              "      <td>0.020</td>\n",
              "      <td>3</td>\n",
              "    </tr>\n",
              "    <tr>\n",
              "      <th>2010-12-30 10:00:00</th>\n",
              "      <td>10</td>\n",
              "      <td>-0.045460</td>\n",
              "      <td>1.576628</td>\n",
              "      <td>0.378044</td>\n",
              "      <td>-0.020466</td>\n",
              "      <td>1.505531</td>\n",
              "      <td>-0.429685</td>\n",
              "      <td>1.31365</td>\n",
              "      <td>7.071068e-01</td>\n",
              "      <td>-1.224745</td>\n",
              "      <td>0.045</td>\n",
              "      <td>3</td>\n",
              "    </tr>\n",
              "    <tr>\n",
              "      <th>2010-12-30 11:00:00</th>\n",
              "      <td>11</td>\n",
              "      <td>-0.098001</td>\n",
              "      <td>1.493720</td>\n",
              "      <td>0.234575</td>\n",
              "      <td>-0.042371</td>\n",
              "      <td>1.512685</td>\n",
              "      <td>-0.429685</td>\n",
              "      <td>1.31365</td>\n",
              "      <td>3.660254e-01</td>\n",
              "      <td>-1.366025</td>\n",
              "      <td>0.045</td>\n",
              "      <td>3</td>\n",
              "    </tr>\n",
              "    <tr>\n",
              "      <th>2010-12-30 12:00:00</th>\n",
              "      <td>12</td>\n",
              "      <td>-0.061879</td>\n",
              "      <td>1.476447</td>\n",
              "      <td>0.229367</td>\n",
              "      <td>-0.005424</td>\n",
              "      <td>1.500408</td>\n",
              "      <td>-0.429685</td>\n",
              "      <td>1.31365</td>\n",
              "      <td>1.602146e-16</td>\n",
              "      <td>-1.414214</td>\n",
              "      <td>0.065</td>\n",
              "      <td>3</td>\n",
              "    </tr>\n",
              "  </tbody>\n",
              "</table>\n",
              "</div>\n",
              "      <button class=\"colab-df-convert\" onclick=\"convertToInteractive('df-56d52317-4f2c-4ed4-8a38-5fd8b0908ea4')\"\n",
              "              title=\"Convert this dataframe to an interactive table.\"\n",
              "              style=\"display:none;\">\n",
              "        \n",
              "  <svg xmlns=\"http://www.w3.org/2000/svg\" height=\"24px\"viewBox=\"0 0 24 24\"\n",
              "       width=\"24px\">\n",
              "    <path d=\"M0 0h24v24H0V0z\" fill=\"none\"/>\n",
              "    <path d=\"M18.56 5.44l.94 2.06.94-2.06 2.06-.94-2.06-.94-.94-2.06-.94 2.06-2.06.94zm-11 1L8.5 8.5l.94-2.06 2.06-.94-2.06-.94L8.5 2.5l-.94 2.06-2.06.94zm10 10l.94 2.06.94-2.06 2.06-.94-2.06-.94-.94-2.06-.94 2.06-2.06.94z\"/><path d=\"M17.41 7.96l-1.37-1.37c-.4-.4-.92-.59-1.43-.59-.52 0-1.04.2-1.43.59L10.3 9.45l-7.72 7.72c-.78.78-.78 2.05 0 2.83L4 21.41c.39.39.9.59 1.41.59.51 0 1.02-.2 1.41-.59l7.78-7.78 2.81-2.81c.8-.78.8-2.07 0-2.86zM5.41 20L4 18.59l7.72-7.72 1.47 1.35L5.41 20z\"/>\n",
              "  </svg>\n",
              "      </button>\n",
              "      \n",
              "  <style>\n",
              "    .colab-df-container {\n",
              "      display:flex;\n",
              "      flex-wrap:wrap;\n",
              "      gap: 12px;\n",
              "    }\n",
              "\n",
              "    .colab-df-convert {\n",
              "      background-color: #E8F0FE;\n",
              "      border: none;\n",
              "      border-radius: 50%;\n",
              "      cursor: pointer;\n",
              "      display: none;\n",
              "      fill: #1967D2;\n",
              "      height: 32px;\n",
              "      padding: 0 0 0 0;\n",
              "      width: 32px;\n",
              "    }\n",
              "\n",
              "    .colab-df-convert:hover {\n",
              "      background-color: #E2EBFA;\n",
              "      box-shadow: 0px 1px 2px rgba(60, 64, 67, 0.3), 0px 1px 3px 1px rgba(60, 64, 67, 0.15);\n",
              "      fill: #174EA6;\n",
              "    }\n",
              "\n",
              "    [theme=dark] .colab-df-convert {\n",
              "      background-color: #3B4455;\n",
              "      fill: #D2E3FC;\n",
              "    }\n",
              "\n",
              "    [theme=dark] .colab-df-convert:hover {\n",
              "      background-color: #434B5C;\n",
              "      box-shadow: 0px 1px 3px 1px rgba(0, 0, 0, 0.15);\n",
              "      filter: drop-shadow(0px 1px 2px rgba(0, 0, 0, 0.3));\n",
              "      fill: #FFFFFF;\n",
              "    }\n",
              "  </style>\n",
              "\n",
              "      <script>\n",
              "        const buttonEl =\n",
              "          document.querySelector('#df-56d52317-4f2c-4ed4-8a38-5fd8b0908ea4 button.colab-df-convert');\n",
              "        buttonEl.style.display =\n",
              "          google.colab.kernel.accessAllowed ? 'block' : 'none';\n",
              "\n",
              "        async function convertToInteractive(key) {\n",
              "          const element = document.querySelector('#df-56d52317-4f2c-4ed4-8a38-5fd8b0908ea4');\n",
              "          const dataTable =\n",
              "            await google.colab.kernel.invokeFunction('convertToInteractive',\n",
              "                                                     [key], {});\n",
              "          if (!dataTable) return;\n",
              "\n",
              "          const docLinkHtml = 'Like what you see? Visit the ' +\n",
              "            '<a target=\"_blank\" href=https://colab.research.google.com/notebooks/data_table.ipynb>data table notebook</a>'\n",
              "            + ' to learn more about interactive tables.';\n",
              "          element.innerHTML = '';\n",
              "          dataTable['output_type'] = 'display_data';\n",
              "          await google.colab.output.renderOutput(dataTable, element);\n",
              "          const docLink = document.createElement('div');\n",
              "          docLink.innerHTML = docLinkHtml;\n",
              "          element.appendChild(docLink);\n",
              "        }\n",
              "      </script>\n",
              "    </div>\n",
              "  </div>\n",
              "  "
            ]
          },
          "metadata": {},
          "execution_count": 179
        }
      ]
    },
    {
      "cell_type": "code",
      "source": [
        "# SAVING DATAFRAMES\n",
        "df_working_updated.to_csv(drive_path + 'df_plant_1_processed_final_changed.csv')\n",
        "df_working_sliding_window.to_csv(drive_path + 'df_plant_1_processed_sliding_window_changed.csv')"
      ],
      "metadata": {
        "id": "7Fd3BMoH_5ej"
      },
      "execution_count": null,
      "outputs": []
    },
    {
      "cell_type": "code",
      "source": [
        "# BATCHES_EXCLUDED = 5\n",
        "# WINDOW_SIZE = 12*BATCHES_EXCLUDED\n",
        "\n",
        "# INTERVAL = 48\n",
        "# TIMES_ONE_DATASET = 12\n",
        "# NUMBER_OF_48_PERIODS = int(df_working_updated.shape[0] / INTERVAL)\n",
        "# MORE_DATA_FOR_TRAINING = 12\n",
        "# PADDED_VALUE = -10\n",
        "\n",
        "# result = []\n",
        "# result_target = []\n",
        "\n",
        "# list_of_df_sliding_global = []\n",
        "# list_of_last_wp_global = []\n",
        "# list_of_current = []\n",
        "\n",
        "# window_size = WINDOW_SIZE\n",
        "# for i in range(NUMBER_OF_48_PERIODS - BATCHES_EXCLUDED):\n",
        "#     iterator = i + BATCHES_EXCLUDED\n",
        "#     df_temp = df_working_updated.iloc[INTERVAL*iterator: INTERVAL*(iterator+1), :]\n",
        "#     assert np.unique(df_temp.loc[:, \"index_forecasted_weather\"].values).shape[0] == 1\n",
        "#     array_values = df_temp.drop(columns = [\"index_forecasted_weather\", \"hours\"]).values\n",
        "\n",
        "#     end_sliding_window = df_temp.index[0] - pd.Timedelta(hours = 1)\n",
        "#     start_sliding_window = df_temp.index[0] - pd.Timedelta(hours = window_size)\n",
        "#     # MORE DATA FOR TRAINING\n",
        "#     end_sliding_window = end_sliding_window + pd.Timedelta(hours = MORE_DATA_FOR_TRAINING)\n",
        "#     df_window = df_working_sliding_window.loc[start_sliding_window:end_sliding_window, :]\n",
        "#     df_window = df_window.drop(columns = [\"index_forecasted_weather\", \"hours\"])\n",
        "\n",
        "#     target_list = array_values[:, array_values.shape[1] - 1][:, None]\n",
        "#     target_list_padded_values = np.full((array_values.shape[0] + 12, 1), fill_value = PADDED_VALUE)\n",
        "#     final_target_list = np.vstack((target_list, target_list_padded_values))\n",
        "\n",
        "#     explanatory_list = array_values[:, 0:(array_values.shape[1] - 1)]\n",
        "#     explanatory_list_padded_value = np.full((12, array_values.shape[1] - 1), fill_value = PADDED_VALUE)\n",
        "#     final_explanatory_list = np.vstack((explanatory_list, explanatory_list_padded_value))\n",
        "\n",
        "#     list_of_df_sliding = []\n",
        "#     list_of_last_wp = []\n",
        "#     explanatory_48_hours = []\n",
        "#     target_48_hours = []\n",
        "#     for j in range(MORE_DATA_FOR_TRAINING):\n",
        "#         df_sliding_tmp = df_window.iloc[j:j+window_size, :]\n",
        "#         list_of_df_sliding.append(df_sliding_tmp.values)\n",
        "#         # PROBLEM HERE WHEN SCALING - WP1 NEEDS TO BE CHANGE FOR WP\n",
        "#         list_of_last_wp.append(df_sliding_tmp.wp1[-1])\n",
        "#         explanatory_48_hours.append(final_explanatory_list[j:j+INTERVAL, :])\n",
        "#         target_48_hours.append(final_target_list[j:j+INTERVAL, :])\n",
        "\n",
        "#     result.append(explanatory_48_hours)\n",
        "#     result_target.append(target_48_hours)\n",
        "\n",
        "#     list_of_df_sliding = arr(list_of_df_sliding)\n",
        "#     list_of_last_wp = arr(list_of_last_wp)\n",
        "\n",
        "#     list_of_df_sliding_global.append(list_of_df_sliding)\n",
        "#     list_of_last_wp_global.append(list_of_last_wp)\n",
        "\n",
        "# list_of_df_sliding_global = arr(list_of_df_sliding_global)\n",
        "# list_of_last_wp_global = arr(list_of_last_wp_global)[:, :, None, None]\n",
        "# result = arr(result)\n",
        "# result_target = arr(result_target)\n",
        "\n",
        "# print(list_of_df_sliding_global.shape, list_of_last_wp_global.shape, result.shape, result_target.shape)"
      ],
      "metadata": {
        "colab": {
          "base_uri": "https://localhost:8080/"
        },
        "id": "ggpPPBBuToSM",
        "outputId": "fc8f4b10-35f7-4e9b-cb2d-03f657426077"
      },
      "execution_count": null,
      "outputs": [
        {
          "output_type": "stream",
          "name": "stdout",
          "text": [
            "(1093, 12, 60, 8) (1093, 12, 1, 1) (1093, 12, 48, 7) (1093, 12, 48, 1)\n"
          ]
        }
      ]
    },
    {
      "cell_type": "code",
      "source": [
        "df_temp.index"
      ],
      "metadata": {
        "colab": {
          "base_uri": "https://localhost:8080/"
        },
        "id": "tASGTGRHBzl4",
        "outputId": "e9a72be1-c6e4-4a75-b1c5-cfd5c5e20ea0"
      },
      "execution_count": null,
      "outputs": [
        {
          "output_type": "execute_result",
          "data": {
            "text/plain": [
              "DatetimeIndex(['2010-12-31 12:00:00', '2010-12-31 12:00:00',\n",
              "               '2010-12-31 12:00:00', '2010-12-31 12:00:00',\n",
              "               '2010-12-31 12:00:00', '2010-12-31 12:00:00',\n",
              "               '2010-12-31 12:00:00', '2010-12-31 12:00:00',\n",
              "               '2010-12-31 12:00:00', '2010-12-31 12:00:00',\n",
              "               '2010-12-31 12:00:00', '2010-12-31 12:00:00',\n",
              "               '2010-12-31 12:00:00', '2010-12-31 12:00:00',\n",
              "               '2010-12-31 12:00:00', '2010-12-31 12:00:00',\n",
              "               '2010-12-31 12:00:00', '2010-12-31 12:00:00',\n",
              "               '2010-12-31 12:00:00', '2010-12-31 12:00:00',\n",
              "               '2010-12-31 12:00:00', '2010-12-31 12:00:00',\n",
              "               '2010-12-31 12:00:00', '2010-12-31 12:00:00',\n",
              "               '2010-12-31 12:00:00', '2010-12-31 12:00:00',\n",
              "               '2010-12-31 12:00:00', '2010-12-31 12:00:00',\n",
              "               '2010-12-31 12:00:00', '2010-12-31 12:00:00',\n",
              "               '2010-12-31 12:00:00', '2010-12-31 12:00:00',\n",
              "               '2010-12-31 12:00:00', '2010-12-31 12:00:00',\n",
              "               '2010-12-31 12:00:00', '2010-12-31 12:00:00',\n",
              "               '2010-12-31 12:00:00', '2010-12-31 12:00:00',\n",
              "               '2010-12-31 12:00:00', '2010-12-31 12:00:00',\n",
              "               '2010-12-31 12:00:00', '2010-12-31 12:00:00',\n",
              "               '2010-12-31 12:00:00', '2010-12-31 12:00:00',\n",
              "               '2010-12-31 12:00:00', '2010-12-31 12:00:00',\n",
              "               '2010-12-31 12:00:00', '2010-12-31 12:00:00'],\n",
              "              dtype='datetime64[ns]', freq=None)"
            ]
          },
          "metadata": {},
          "execution_count": 57
        }
      ]
    },
    {
      "cell_type": "markdown",
      "source": [
        "Everything is corrected, it was checked but not included here"
      ],
      "metadata": {
        "id": "M9Qni_ub23gy"
      }
    },
    {
      "cell_type": "markdown",
      "source": [
        "### Checking the padding, in the loss function the output needs to be masked out"
      ],
      "metadata": {
        "id": "tuzpdReLs5dM"
      }
    },
    {
      "cell_type": "code",
      "source": [
        "seed_value = 12321\n",
        "torch.manual_seed(seed_value)\n",
        "np.random.seed(seed_value)"
      ],
      "metadata": {
        "id": "WYDtsHY6eEWj"
      },
      "execution_count": null,
      "outputs": []
    },
    {
      "cell_type": "code",
      "source": [
        "lstm = nn.LSTM(1, 5, 2, batch_first = True)\n",
        "input_data = arr([[1, 2, 3, 4, 5, 6], [1, 2, 3, 4, 0, 0]])\n",
        "input_data_2 = arr([[1, 2, 3, 4, 5, 6], [1, 2, 3, 4, 0, 0]])\n",
        "input = torch.Tensor(input_data)[:, :, None]\n",
        "input_2 = torch.Tensor(input_data)[:, :, None]\n",
        "print(input.shape)\n",
        "input_packed = torch.nn.utils.rnn.pack_padded_sequence(input, lengths = arr([6, 4]), batch_first=True)\n",
        "input_packed_2 = torch.nn.utils.rnn.pack_padded_sequence(input_2, lengths = arr([6, 6]), batch_first=True)\n",
        "input_packed.data.shape, input_packed.batch_sizes"
      ],
      "metadata": {
        "id": "rsxYL5r_ad6n"
      },
      "execution_count": null,
      "outputs": []
    },
    {
      "cell_type": "code",
      "source": [
        "output, (hn, cn) = lstm(input_packed)\n",
        "output_2, (hn, cn) = lstm(input_packed_2)"
      ],
      "metadata": {
        "id": "WY_ccMrhbviI"
      },
      "execution_count": null,
      "outputs": []
    },
    {
      "cell_type": "code",
      "source": [
        "print(output.data.shape, output_2.data.shape)"
      ],
      "metadata": {
        "id": "KodOJvUed3oP"
      },
      "execution_count": null,
      "outputs": []
    },
    {
      "cell_type": "code",
      "source": [
        "unpacked_1 = nn.utils.rnn.pad_packed_sequence(output, batch_first = True)[0]\n",
        "unpacked_2 = nn.utils.rnn.pad_packed_sequence(output_2, batch_first = True)[0]\n",
        "unpacked_1.shape"
      ],
      "metadata": {
        "id": "4CBgyXjnlWoR"
      },
      "execution_count": null,
      "outputs": []
    },
    {
      "cell_type": "code",
      "source": [
        "unpacked_1[1, :, :].flatten()"
      ],
      "metadata": {
        "id": "OvSYhjpieVaJ"
      },
      "execution_count": null,
      "outputs": []
    },
    {
      "cell_type": "code",
      "source": [
        "linear_1 = nn.Linear(unpacked_1[1, :, :].flatten().shape[0], 1)\n",
        "linear_2 = nn.Linear(unpacked_1[1, :, :].flatten().shape[0] - 2*5, 1)\n",
        "print(linear_2)"
      ],
      "metadata": {
        "id": "JwIczz8en1K0"
      },
      "execution_count": null,
      "outputs": []
    },
    {
      "cell_type": "code",
      "source": [
        "for p in linear_1.parameters():\n",
        "    if p.requires_grad:\n",
        "         print(p.name, p.data)"
      ],
      "metadata": {
        "id": "Xf4ytrbEqb-K"
      },
      "execution_count": null,
      "outputs": []
    },
    {
      "cell_type": "code",
      "source": [
        "for p in linear_2.parameters():\n",
        "    if p.requires_grad:\n",
        "         print(p.name, p.data)"
      ],
      "metadata": {
        "id": "AuIkRD_mqmAI"
      },
      "execution_count": null,
      "outputs": []
    },
    {
      "cell_type": "code",
      "source": [
        "linear_1(unpacked_1[1, :, :].flatten())"
      ],
      "metadata": {
        "id": "RRfY8EiloMhw"
      },
      "execution_count": null,
      "outputs": []
    },
    {
      "cell_type": "code",
      "source": [
        "linear_2(unpacked_1[1, 0:4, :].flatten())"
      ],
      "metadata": {
        "id": "6Sie4nn1oPDC"
      },
      "execution_count": null,
      "outputs": []
    },
    {
      "cell_type": "code",
      "source": [
        "unpacked_1[1, 0:4, :]"
      ],
      "metadata": {
        "id": "EZzt8ZK1gAFg"
      },
      "execution_count": null,
      "outputs": []
    },
    {
      "cell_type": "markdown",
      "source": [
        "### Other stuff"
      ],
      "metadata": {
        "id": "kGPCvnJFs2PD"
      }
    },
    {
      "cell_type": "code",
      "source": [
        "TEST_SET_PERCENT = 0.1\n",
        "VALIDATION_SET_PERCENT = 0.1"
      ],
      "metadata": {
        "id": "ogyAdfWD1SUC"
      },
      "execution_count": null,
      "outputs": []
    },
    {
      "cell_type": "code",
      "source": [
        "TRUE_SIZE = NUMBER_OF_48_PERIODS - BATCHES_EXCLUDED\n",
        "test_size = int(TRUE_SIZE * TEST_SET_PERCENT)\n",
        "validation_size = int((TRUE_SIZE - test_size) * VALIDATION_SET_PERCENT)\n",
        "train_size = TRUE_SIZE - validation_size - test_size\n",
        "assert TRUE_SIZE == test_size + validation_size + train_size\n",
        "train_size, validation_size, test_size"
      ],
      "metadata": {
        "id": "T-1MBRe61EsV"
      },
      "execution_count": null,
      "outputs": []
    },
    {
      "cell_type": "code",
      "source": [
        "sliding_window = list_of_df_sliding_global\n",
        "X_encoder_decoder = list_of_last_wp_global\n",
        "X = result\n",
        "y = result_target"
      ],
      "metadata": {
        "id": "oGJcrAgx5Djj"
      },
      "execution_count": null,
      "outputs": []
    },
    {
      "cell_type": "code",
      "source": [
        "SPECIAL = 3\n",
        "\n",
        "sw_train = sliding_window[0:train_size - SPECIAL]\n",
        "sw_train_special = sliding_window[train_size - SPECIAL:train_size]\n",
        "sw_val = sliding_window[train_size: train_size + validation_size - SPECIAL, 0:1]\n",
        "sw_val_special = sliding_window[train_size + validation_size - SPECIAL: train_size + validation_size, 0:1]\n",
        "sw_test = sliding_window[train_size + validation_size:, 0:1]\n",
        "\n",
        "X_ed_train = X_encoder_decoder[0:train_size - SPECIAL]\n",
        "X_ed_train_special = X_encoder_decoder[train_size - SPECIAL:train_size]\n",
        "X_ed_val = X_encoder_decoder[train_size: train_size + validation_size - SPECIAL, 0:1]\n",
        "X_ed_val_special = X_encoder_decoder[train_size + validation_size - SPECIAL: train_size + validation_size, 0:1]\n",
        "X_ed_test = X_encoder_decoder[train_size + validation_size:, 0:1]\n",
        "\n",
        "X_train = X[0:train_size - SPECIAL]\n",
        "X_train_special = X[train_size - SPECIAL:train_size]\n",
        "X_val = X[train_size: train_size + validation_size - SPECIAL, 0:1]\n",
        "X_val_special = X[train_size + validation_size - SPECIAL: train_size + validation_size, 0:1]\n",
        "X_test = X[train_size + validation_size:, 0:1]\n",
        "\n",
        "y_train = y[0:train_size - SPECIAL]\n",
        "y_train_special = y[train_size - SPECIAL:train_size]\n",
        "y_val = y[train_size: train_size + validation_size - SPECIAL, 0:1]\n",
        "y_val_sepcial = y[train_size + validation_size - SPECIAL: train_size + validation_size, 0:1]\n",
        "y_test = y[train_size + validation_size:, 0:1]\n",
        "\n",
        "print(sw_train.shape, sw_train_special.shape, sw_val.shape, sw_val_special.shape, sw_test.shape)\n",
        "print()\n",
        "print(X_ed_train.shape, X_ed_train_special.shape, X_ed_val.shape, X_ed_val_special.shape, X_ed_test.shape)\n",
        "print()\n",
        "print(X_train.shape, X_train_special.shape, X_val.shape, X_val_special.shape, X_test.shape)\n",
        "print()\n",
        "print(y_train.shape, y_train_special.shape, y_val.shape, y_val_sepcial.shape, y_test.shape)"
      ],
      "metadata": {
        "id": "8xSdaxSF5Ve1"
      },
      "execution_count": null,
      "outputs": []
    },
    {
      "cell_type": "markdown",
      "source": [
        "Evaluation and testing is not conducted on the additional data with padding, only on the full weather prediction, those will be prediction conditions"
      ],
      "metadata": {
        "id": "PR3mTPJ16qrR"
      }
    },
    {
      "cell_type": "markdown",
      "source": [
        "## DataLoaders Pytroch"
      ],
      "metadata": {
        "id": "Jju-aQbP8KoY"
      }
    },
    {
      "cell_type": "code",
      "source": [
        "class Dataset_one_plant(torch.utils.data.Dataset):\n",
        "    def __init__(self, sw, X_ed, X, y):\n",
        "        self.sw = torch.from_numpy(sw).float()\n",
        "        self.X_ed = torch.from_numpy(X_ed).float() \n",
        "        self.X = torch.from_numpy(X).float()\n",
        "        self.y = torch.from_numpy(y).float()\n",
        "\n",
        "    def __len__(self):\n",
        "        return self.sw.shape[0]\n",
        "\n",
        "    def __getitem__(self, index):\n",
        "        result_dict = {}\n",
        "        result_dict[\"sw\"] = self.sw[index]\n",
        "        result_dict[\"X_ed\"] = self.X_ed[index]\n",
        "        result_dict[\"X\"] = self.X[index]\n",
        "        result_dict[\"y\"] = self.y[index]\n",
        "        return result_dict"
      ],
      "metadata": {
        "id": "fmwYx6Ti7UoW"
      },
      "execution_count": null,
      "outputs": []
    },
    {
      "cell_type": "code",
      "source": [
        "dataset_train = Dataset_one_plant(sw_train, X_ed_train, X_train, y_train)\n",
        "dataset_train_special = Dataset_one_plant(sw_train_special, X_ed_train_special, X_train_special, y_train_special)\n",
        "dataset_val = Dataset_one_plant(sw_val, X_ed_val, X_val, y_val)\n",
        "dataset_val_special = Dataset_one_plant(sw_val_special, X_ed_val_special, X_val_special, y_val_sepcial)\n",
        "dataset_test = Dataset_one_plant(sw_test, X_ed_test, X_test, y_test)"
      ],
      "metadata": {
        "id": "o_WWOYoC8JsW"
      },
      "execution_count": null,
      "outputs": []
    },
    {
      "cell_type": "code",
      "source": [
        "BATCH_SIZE = 2\n",
        "dataloader_train = DataLoader(dataset_train, batch_size = BATCH_SIZE, shuffle = False)\n",
        "dataloader_train_special = DataLoader(dataset_train_special, batch_size = BATCH_SIZE, shuffle = False)\n",
        "dataloader_val = DataLoader(dataset_val, batch_size = BATCH_SIZE, shuffle = False)\n",
        "dataloader_val_special = DataLoader(dataset_val_special, batch_size = BATCH_SIZE, shuffle = False)\n",
        "dataloader_test = DataLoader(dataset_test, batch_size = BATCH_SIZE, shuffle = False)\n",
        "print(len(dataloader_train), len(dataloader_train_special), len(dataloader_val),\n",
        "      len(dataloader_val_special), len(dataloader_test))"
      ],
      "metadata": {
        "id": "ka27ifvF8880"
      },
      "execution_count": null,
      "outputs": []
    },
    {
      "cell_type": "markdown",
      "source": [
        "other stuff"
      ],
      "metadata": {
        "id": "Nvt7-YlTiX3t"
      }
    },
    {
      "cell_type": "code",
      "source": [
        "def split_datasets_correct(df, window_size, offset = 1, n_future_predictions = 1):\n",
        "  X_previous = []\n",
        "  X_current = []\n",
        "  y = []\n",
        "  for ii in range(0,len(df)- window_size + 1 - n_future_predictions, offset):\n",
        "    X_previous.append(df[ii:window_size+ii].values)\n",
        "    current = df.iloc[window_size+ii: window_size + ii + n_future_predictions, :]\n",
        "    target = current[\"wp1\"].values\n",
        "    current = current.drop(labels=[\"wp1\"], axis=1)\n",
        "    X_current.append(current)\n",
        "    y.append(target)\n",
        "  return arr(X_previous), arr(X_current), arr(y)[:, None]"
      ],
      "metadata": {
        "id": "TCSsT9241M8b"
      },
      "execution_count": null,
      "outputs": []
    },
    {
      "cell_type": "code",
      "source": [
        "WINDOW_SIZE = 100\n",
        "X_previous, X_currect, y_ = split_datasets_correct(df_1_processed, WINDOW_SIZE,\n",
        "                                                   n_future_predictions = 1)\n",
        "print(X_previous.shape, X_currect.shape, y_.shape)"
      ],
      "metadata": {
        "id": "VlVcpAA82ZIs"
      },
      "execution_count": null,
      "outputs": []
    },
    {
      "cell_type": "code",
      "source": [
        "print(result.shape, df_1_processed.shape)"
      ],
      "metadata": {
        "id": "3assH4aJ_tzh"
      },
      "execution_count": null,
      "outputs": []
    },
    {
      "cell_type": "code",
      "source": [
        "x_optimal = np.hstack((np.repeat(1, 12), np.repeat(2, 12), np.repeat(3, 12), np.repeat(4, 12)))\n",
        "addition = 1\n",
        "x_optimal_list = np.hstack(np.repeat(x_optimal[None, :], result.shape[0] / (12*4) + addition, axis = 0))\n",
        "x_optimal_list = x_optimal_list[0: result.shape[0]]\n",
        "# df_working.loc[:, \"index_forecasted_weather\"] = index_forecasted_weather\n",
        "result.loc[:, \"optimal_plant\"] = x_optimal_list"
      ],
      "metadata": {
        "id": "H9C3oV3QBZGu"
      },
      "execution_count": null,
      "outputs": []
    },
    {
      "cell_type": "code",
      "source": [
        "result_playing = result\n",
        "window_size = WINDOW_SIZE\n",
        "n_future_predictions = 48\n",
        "offset = 1\n",
        "\n",
        "X_previous = []\n",
        "X_current = []\n",
        "y = []\n",
        "for ii in range(0,len(result_playing)- window_size + 1 - n_future_predictions, offset):\n",
        "    X_previous.append(df_1_processed[ii:window_size+ii].values)\n",
        "    current = result_playing.iloc[window_size+ii: window_size + ii + n_future_predictions, :]\n",
        "    target = current[\"wp1\"].values\n",
        "    current = current.drop(labels=[\"wp1\"], axis=1)\n",
        "    X_current.append(current)\n",
        "    y.append(target)"
      ],
      "metadata": {
        "id": "QpYzPql9-Cgp"
      },
      "execution_count": null,
      "outputs": []
    },
    {
      "cell_type": "markdown",
      "source": [
        "## Including the second 1,5 years of data"
      ],
      "metadata": {
        "id": "tyUsDRule0kY"
      }
    },
    {
      "cell_type": "code",
      "source": [
        "FIRST_NA = 52735\n",
        "df_working_plant.iloc[FIRST_NA - 5: FIRST_NA + 100]"
      ],
      "metadata": {
        "id": "U807JNjae4z9"
      },
      "execution_count": null,
      "outputs": []
    },
    {
      "cell_type": "markdown",
      "source": [
        "## MODELS AND HELPER FUNCTIONS"
      ],
      "metadata": {
        "id": "M4lowsCau3LG"
      }
    },
    {
      "cell_type": "code",
      "source": [
        "def reset_weights(m):\n",
        "  '''\n",
        " Reset model weights to avoid leakage of weights\n",
        "  '''\n",
        "  for layer in m.children():\n",
        "   if hasattr(layer, 'reset_parameters'):\n",
        "    layer.reset_parameters()"
      ],
      "metadata": {
        "id": "BqYkI15Gu51S"
      },
      "execution_count": null,
      "outputs": []
    },
    {
      "cell_type": "markdown",
      "source": [
        "## Checking the article PhD"
      ],
      "metadata": {
        "id": "vfJA2UQpx0VM"
      }
    },
    {
      "cell_type": "code",
      "source": [
        "df_toy_example = df_train.wp1"
      ],
      "metadata": {
        "id": "RA8KIiEWx4Pe"
      },
      "execution_count": null,
      "outputs": []
    },
    {
      "cell_type": "code",
      "source": [
        "def time_delay_embedding(series: pd.Series, n_lags: int, horizon: int):\n",
        "    \"\"\"\n",
        "    Time delay embedding\n",
        "    Time series for supervised learning\n",
        "    :param series: time series as pd.Series\n",
        "    :param n_lags: number of past values to used as explanatory variables\n",
        "    :param horizon: how many values to forecast\n",
        "    :return: pd.DataFrame with reconstructed time series\n",
        "    \"\"\"\n",
        "    assert isinstance(series, pd.Series)\n",
        "\n",
        "    if series.name is None:\n",
        "        name = 'Series'\n",
        "    else:\n",
        "        name = series.name\n",
        "\n",
        "    n_lags_iter = list(range(n_lags, -horizon, -1))\n",
        "\n",
        "    X = [series.shift(i) for i in n_lags_iter]\n",
        "    X = pd.concat(X, axis=1).dropna()\n",
        "    X.columns = [f'{name}(t-{j - 1})'\n",
        "                 if j > 0 else f'{name}(t+{np.abs(j) + 1})'\n",
        "                 for j in n_lags_iter]\n",
        "\n",
        "    return X"
      ],
      "metadata": {
        "id": "2tjtiNhFyOGZ"
      },
      "execution_count": null,
      "outputs": []
    },
    {
      "cell_type": "code",
      "source": [
        "LAGS = 3\n",
        "HORIZON = 2\n",
        "# df_transformed_toy = time_delay_embedding(df_toy_example, LAGS, HORIZON)"
      ],
      "metadata": {
        "id": "QPb5Yd89yTwo"
      },
      "execution_count": null,
      "outputs": []
    },
    {
      "cell_type": "code",
      "source": [
        "df_transformed_toy_2_columns = df_train[[\"wp1\", \"wp2\", \"wp3\"]]"
      ],
      "metadata": {
        "id": "uvRb45nCydoB"
      },
      "execution_count": null,
      "outputs": []
    },
    {
      "cell_type": "code",
      "source": [
        "wine_ds = []\n",
        "for col in df_transformed_toy_2_columns:\n",
        "    col_df = time_delay_embedding(df_transformed_toy_2_columns[col], n_lags = LAGS, horizon = HORIZON)\n",
        "    wine_ds.append(col_df)\n",
        "\n",
        "# concatenating all variables\n",
        "wine_df = pd.concat(wine_ds, axis=1).dropna()\n",
        "\n",
        "# defining target (Y) and explanatory variables (X)\n",
        "predictor_variables = wine_df.columns.str.contains('\\(t\\-')\n",
        "target_variables = wine_df.columns.str.contains('wp3\\(t\\+')\n",
        "\n",
        "X = wine_df.iloc[:, predictor_variables]\n",
        "Y = wine_df.iloc[:, target_variables]"
      ],
      "metadata": {
        "id": "H3zpUU9oyt2M"
      },
      "execution_count": null,
      "outputs": []
    },
    {
      "cell_type": "code",
      "source": [
        "from sklearn.model_selection import train_test_split\n",
        "from sklearn.metrics import mean_absolute_error as mae\n",
        "from sklearn.ensemble import RandomForestRegressor\n",
        "\n",
        "# train/test split\n",
        "X_tr, X_ts, Y_tr, Y_ts = train_test_split(X, Y, test_size=0.3, shuffle=False)"
      ],
      "metadata": {
        "id": "9W78sMky0CGC"
      },
      "execution_count": null,
      "outputs": []
    },
    {
      "cell_type": "code",
      "source": [
        "# fitting a RF model\n",
        "model = RandomForestRegressor()\n",
        "model.fit(X_tr, Y_tr)\n",
        "\n",
        "# getting forecasts for the test set\n",
        "preds = model.predict(X_ts)\n",
        "\n",
        "# computing MAE error\n",
        "print(mae(Y_ts, preds))"
      ],
      "metadata": {
        "id": "80pLLfcE0NyT"
      },
      "execution_count": null,
      "outputs": []
    },
    {
      "cell_type": "markdown",
      "source": [
        "## Playing with numpy dimensionsnumber_of_12h_periods"
      ],
      "metadata": {
        "id": "j3ffGRDrNbrv"
      }
    },
    {
      "cell_type": "code",
      "source": [
        "x = np.arange(1, 21, 1)\n",
        "x_3d = x.reshape((2, 2, 5))\n",
        "x_2d = x.reshape((2, 10))\n",
        "x_2d"
      ],
      "metadata": {
        "id": "Xz5lvSE6NsPe"
      },
      "execution_count": null,
      "outputs": []
    },
    {
      "cell_type": "code",
      "source": [
        "x_3d.reshape(2, 10)"
      ],
      "metadata": {
        "id": "p5RuJS8-OHkF"
      },
      "execution_count": null,
      "outputs": []
    },
    {
      "cell_type": "code",
      "source": [
        "# INTERVAL = 48\n",
        "# TIMES_ONE_DATASET = 12\n",
        "# NUMBER_OF_48_PERIODS = int(df_working_updated.shape[0] / INTERVAL)\n",
        "# PADDED_VALUE = -1\n",
        "\n",
        "# result = []\n",
        "# result_target = []\n",
        "# for j in range(NUMBER_OF_48_PERIODS):\n",
        "#     df_temp = df_working_updated.iloc[INTERVAL*j:INTERVAL*(j+1), :]\n",
        "#     assert np.unique(df_temp.loc[:, \"index_forecasted_weather\"].values).shape[0] == 1\n",
        "#     array_values = df_temp.drop(columns = [\"index_forecasted_weather\"]).values\n",
        "\n",
        "#     target_list = array_values[:, array_values.shape[1] - 1][:, None]\n",
        "#     final_target_list = np.zeros((array_values.shape[0] + 12, 1))\n",
        "#     final_target_list[0:target_list.shape[0], :] = target_list\n",
        "\n",
        "#     explanatory_list = array_values[:, 0:(array_values.shape[1] - 1)]\n",
        "#     final_explanatory_list = np.zeros((array_values.shape[0] + 12, array_values.shape[1] - 1))\n",
        "#     final_explanatory_list[0:array_values.shape[0], :] = explanatory_list\n",
        "\n",
        "#     explanatory_48_hours = []\n",
        "#     target_48_hours = []\n",
        "#     for i in range(TIMES_ONE_DATASET):\n",
        "#         explanatory_48_hours.append(final_explanatory_list[i:i+INTERVAL, :])\n",
        "#         target_48_hours.append(final_target_list[i:i+INTERVAL, :])\n",
        "\n",
        "#     result.append(explanatory_48_hours)\n",
        "#     result_target.append(target_48_hours)\n",
        "\n",
        "# result = arr(result)\n",
        "# result_target = arr(result_target)\n",
        "# result.shape, result_target.shape"
      ],
      "metadata": {
        "id": "h0PfZFph3Jd6"
      },
      "execution_count": null,
      "outputs": []
    },
    {
      "cell_type": "code",
      "source": [
        "# def split_datasets_correct(df, window_size, offset = 1, n_future_predictions = 1):\n",
        "#   X_previous = []\n",
        "#   X_current = []\n",
        "#   y = []\n",
        "#   for ii in range(0,len(df)- window_size + 1 - n_future_predictions, offset):\n",
        "#     X_previous.append(df[ii:window_size+ii].values)\n",
        "#     current = df.iloc[window_size+ii: window_size + ii + n_future_predictions, :]\n",
        "#     target = current[\"wp1\"].values\n",
        "#     current = current.drop(labels=[\"wp1\"], axis=1)\n",
        "#     X_current.append(current)\n",
        "#     y.append(target)\n",
        "#   return arr(X_previous), arr(X_current), arr(y)[:, None]"
      ],
      "metadata": {
        "id": "uOsOWf_19wiD"
      },
      "execution_count": null,
      "outputs": []
    }
  ]
}